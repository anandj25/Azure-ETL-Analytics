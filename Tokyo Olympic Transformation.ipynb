{
 "cells": [
  {
   "cell_type": "code",
   "execution_count": 0,
   "metadata": {
    "application/vnd.databricks.v1+cell": {
     "cellMetadata": {
      "byteLimit": 2048000,
      "rowLimit": 10000
     },
     "inputWidgets": {},
     "nuid": "931e9115-6cc3-41c5-aba1-84148118852b",
     "showTitle": false,
     "tableResultSettingsMap": {},
     "title": ""
    }
   },
   "outputs": [],
   "source": [
    "from pyspark.sql.functions import col\n",
    "from pyspark.sql.types import IntegerType, DoubleType, BooleanType, DateType"
   ]
  },
  {
   "cell_type": "code",
   "execution_count": 0,
   "metadata": {
    "application/vnd.databricks.v1+cell": {
     "cellMetadata": {
      "byteLimit": 2048000,
      "rowLimit": 10000
     },
     "inputWidgets": {},
     "nuid": "96b202e7-84f9-4329-8a60-de754fb4d367",
     "showTitle": false,
     "tableResultSettingsMap": {},
     "title": ""
    }
   },
   "outputs": [
    {
     "data": {
      "text/plain": [
       "\u001b[0;31m---------------------------------------------------------------------------\u001b[0m\n",
       "\u001b[0;31mExecutionError\u001b[0m                            Traceback (most recent call last)\n",
       "File \u001b[0;32m<command-8016099338483795>, line 8\u001b[0m\n",
       "\u001b[1;32m      1\u001b[0m configs \u001b[38;5;241m=\u001b[39m {\u001b[38;5;124m\"\u001b[39m\u001b[38;5;124mfs.azure.account.auth.type\u001b[39m\u001b[38;5;124m\"\u001b[39m: \u001b[38;5;124m\"\u001b[39m\u001b[38;5;124mOAuth\u001b[39m\u001b[38;5;124m\"\u001b[39m,\n",
       "\u001b[1;32m      2\u001b[0m \u001b[38;5;124m\"\u001b[39m\u001b[38;5;124mfs.azure.account.oauth.provider.type\u001b[39m\u001b[38;5;124m\"\u001b[39m: \u001b[38;5;124m\"\u001b[39m\u001b[38;5;124morg.apache.hadoop.fs.azurebfs.oauth2.ClientCredsTokenProvider\u001b[39m\u001b[38;5;124m\"\u001b[39m,\n",
       "\u001b[1;32m      3\u001b[0m \u001b[38;5;124m\"\u001b[39m\u001b[38;5;124mfs.azure.account.oauth2.client.id\u001b[39m\u001b[38;5;124m\"\u001b[39m: \u001b[38;5;124m\"\u001b[39m\u001b[38;5;124m3930b263-4b15-4f88-b97f-de0a15466be0\u001b[39m\u001b[38;5;124m\"\u001b[39m,\n",
       "\u001b[1;32m      4\u001b[0m \u001b[38;5;124m\"\u001b[39m\u001b[38;5;124mfs.azure.account.oauth2.client.secret\u001b[39m\u001b[38;5;124m\"\u001b[39m: \u001b[38;5;124m'\u001b[39m\u001b[38;5;124maYr8Q~wJve1-EFnMAwNExvjjbSxAHF6_NzgyMdj0\u001b[39m\u001b[38;5;124m'\u001b[39m,\n",
       "\u001b[1;32m      5\u001b[0m \u001b[38;5;124m\"\u001b[39m\u001b[38;5;124mfs.azure.account.oauth2.client.endpoint\u001b[39m\u001b[38;5;124m\"\u001b[39m: \u001b[38;5;124m\"\u001b[39m\u001b[38;5;124mhttps://login.microsoftonline.com/4d611778-f6b6-43aa-8d22-9a5287ddd261/oauth2/token\u001b[39m\u001b[38;5;124m\"\u001b[39m}\n",
       "\u001b[0;32m----> 8\u001b[0m dbutils\u001b[38;5;241m.\u001b[39mfs\u001b[38;5;241m.\u001b[39mmount(\n",
       "\u001b[1;32m      9\u001b[0m source \u001b[38;5;241m=\u001b[39m \u001b[38;5;124m\"\u001b[39m\u001b[38;5;124mabfss://tokyodatanandjha@tokyodataanandjha.dfs.core.windows.net\u001b[39m\u001b[38;5;124m\"\u001b[39m, \u001b[38;5;66;03m# contrainer@storageacc\u001b[39;00m\n",
       "\u001b[1;32m     10\u001b[0m mount_point \u001b[38;5;241m=\u001b[39m \u001b[38;5;124m\"\u001b[39m\u001b[38;5;124m/mnt/tokyo-olympic\u001b[39m\u001b[38;5;124m\"\u001b[39m,\n",
       "\u001b[1;32m     11\u001b[0m extra_configs \u001b[38;5;241m=\u001b[39m configs)\n",
       "\n",
       "File \u001b[0;32m/databricks/python_shell/dbruntime/dbutils.py:158\u001b[0m, in \u001b[0;36mprettify_exception_message.<locals>.f_with_exception_handling\u001b[0;34m(*args, **kwargs)\u001b[0m\n",
       "\u001b[1;32m    156\u001b[0m exc\u001b[38;5;241m.\u001b[39m__context__ \u001b[38;5;241m=\u001b[39m \u001b[38;5;28;01mNone\u001b[39;00m\n",
       "\u001b[1;32m    157\u001b[0m exc\u001b[38;5;241m.\u001b[39m__cause__ \u001b[38;5;241m=\u001b[39m \u001b[38;5;28;01mNone\u001b[39;00m\n",
       "\u001b[0;32m--> 158\u001b[0m \u001b[38;5;28;01mraise\u001b[39;00m exc\n",
       "\n",
       "\u001b[0;31mExecutionError\u001b[0m: An error occurred while calling o426.mount.\n",
       ": java.rmi.RemoteException: java.lang.IllegalArgumentException: requirement failed: Directory already mounted: /mnt/tokyo-olympic; nested exception is: \n",
       "\tjava.lang.IllegalArgumentException: requirement failed: Directory already mounted: /mnt/tokyo-olympic\n",
       "\tat com.databricks.backend.daemon.data.client.DbfsClient.send0(DbfsClient.scala:148)\n",
       "\tat com.databricks.backend.daemon.data.client.DbfsClient.sendIdempotent(DbfsClient.scala:70)\n",
       "\tat com.databricks.backend.daemon.dbutils.DBUtilsCore.createOrUpdateMount(DBUtilsCore.scala:1142)\n",
       "\tat com.databricks.backend.daemon.dbutils.DBUtilsCore.$anonfun$mount$1(DBUtilsCore.scala:1168)\n",
       "\tat com.databricks.logging.UsageLogging.$anonfun$recordOperation$1(UsageLogging.scala:528)\n",
       "\tat com.databricks.logging.UsageLogging.executeThunkAndCaptureResultTags$1(UsageLogging.scala:633)\n",
       "\tat com.databricks.logging.UsageLogging.$anonfun$recordOperationWithResultTags$4(UsageLogging.scala:656)\n",
       "\tat com.databricks.logging.AttributionContextTracing.$anonfun$withAttributionContext$1(AttributionContextTracing.scala:48)\n",
       "\tat com.databricks.logging.AttributionContext$.$anonfun$withValue$1(AttributionContext.scala:276)\n",
       "\tat scala.util.DynamicVariable.withValue(DynamicVariable.scala:62)\n",
       "\tat com.databricks.logging.AttributionContext$.withValue(AttributionContext.scala:272)\n",
       "\tat com.databricks.logging.AttributionContextTracing.withAttributionContext(AttributionContextTracing.scala:46)\n",
       "\tat com.databricks.logging.AttributionContextTracing.withAttributionContext$(AttributionContextTracing.scala:43)\n",
       "\tat com.databricks.backend.daemon.dbutils.FSUtils.withAttributionContext(DBUtilsCore.scala:74)\n",
       "\tat com.databricks.logging.AttributionContextTracing.withAttributionTags(AttributionContextTracing.scala:95)\n",
       "\tat com.databricks.logging.AttributionContextTracing.withAttributionTags$(AttributionContextTracing.scala:76)\n",
       "\tat com.databricks.backend.daemon.dbutils.FSUtils.withAttributionTags(DBUtilsCore.scala:74)\n",
       "\tat com.databricks.logging.UsageLogging.recordOperationWithResultTags(UsageLogging.scala:628)\n",
       "\tat com.databricks.logging.UsageLogging.recordOperationWithResultTags$(UsageLogging.scala:537)\n",
       "\tat com.databricks.backend.daemon.dbutils.FSUtils.recordOperationWithResultTags(DBUtilsCore.scala:74)\n",
       "\tat com.databricks.logging.UsageLogging.recordOperation(UsageLogging.scala:529)\n",
       "\tat com.databricks.logging.UsageLogging.recordOperation$(UsageLogging.scala:495)\n",
       "\tat com.databricks.backend.daemon.dbutils.FSUtils.recordOperation(DBUtilsCore.scala:74)\n",
       "\tat com.databricks.backend.daemon.dbutils.FSUtils.recordDbutilsFsOp(DBUtilsCore.scala:138)\n",
       "\tat com.databricks.backend.daemon.dbutils.DBUtilsCore.mount(DBUtilsCore.scala:1162)\n",
       "\tat sun.reflect.NativeMethodAccessorImpl.invoke0(Native Method)\n",
       "\tat sun.reflect.NativeMethodAccessorImpl.invoke(NativeMethodAccessorImpl.java:62)\n",
       "\tat sun.reflect.DelegatingMethodAccessorImpl.invoke(DelegatingMethodAccessorImpl.java:43)\n",
       "\tat java.lang.reflect.Method.invoke(Method.java:498)\n",
       "\tat py4j.reflection.MethodInvoker.invoke(MethodInvoker.java:244)\n",
       "\tat py4j.reflection.ReflectionEngine.invoke(ReflectionEngine.java:397)\n",
       "\tat py4j.Gateway.invoke(Gateway.java:306)\n",
       "\tat py4j.commands.AbstractCommand.invokeMethod(AbstractCommand.java:132)\n",
       "\tat py4j.commands.CallCommand.execute(CallCommand.java:79)\n",
       "\tat py4j.ClientServerConnection.waitForCommands(ClientServerConnection.java:199)\n",
       "\tat py4j.ClientServerConnection.run(ClientServerConnection.java:119)\n",
       "\tat java.lang.Thread.run(Thread.java:750)\n",
       "Caused by: java.lang.IllegalArgumentException: requirement failed: Directory already mounted: /mnt/tokyo-olympic\n",
       "\tat scala.Predef$.require(Predef.scala:281)\n",
       "\tat com.databricks.backend.daemon.data.server.DefaultMetadataManager.$anonfun$insertMount$1(MetadataManager.scala:810)\n",
       "\tat com.databricks.backend.daemon.data.server.DefaultMetadataManager.$anonfun$modifyAndVerify$2(MetadataManager.scala:1192)\n",
       "\tat scala.runtime.java8.JFunction0$mcV$sp.apply(JFunction0$mcV$sp.java:23)\n",
       "\tat com.databricks.backend.daemon.data.server.DefaultMetadataManager.withRetries(MetadataManager.scala:965)\n",
       "\tat com.databricks.backend.daemon.data.server.DefaultMetadataManager.modifyAndVerify(MetadataManager.scala:1181)\n",
       "\tat com.databricks.backend.daemon.data.server.DefaultMetadataManager.insertMount(MetadataManager.scala:818)\n",
       "\tat com.databricks.backend.daemon.data.server.handler.MountHandler.receive(MountHandler.scala:131)\n",
       "\tat com.databricks.backend.daemon.data.server.handler.DbfsRequestHandler.receive(DbfsRequestHandler.scala:16)\n",
       "\tat com.databricks.backend.daemon.data.server.handler.DbfsRequestHandler.receive$(DbfsRequestHandler.scala:15)\n",
       "\tat com.databricks.backend.daemon.data.server.handler.MountHandler.receive(MountHandler.scala:39)\n",
       "\tat com.databricks.backend.daemon.data.server.session.SessionContext.$anonfun$queryHandlers$1(SessionContext.scala:54)\n",
       "\tat com.databricks.backend.daemon.data.server.session.SessionContext.$anonfun$queryHandlers$1$adapted(SessionContext.scala:53)\n",
       "\tat scala.collection.immutable.List.foreach(List.scala:431)\n",
       "\tat com.databricks.backend.daemon.data.server.session.SessionContext.queryHandlers(SessionContext.scala:53)\n",
       "\tat com.databricks.backend.daemon.data.server.DbfsServerBackend$$anonfun$receive$4.$anonfun$applyOrElse$10(DbfsServerBackend.scala:482)\n",
       "\tat com.databricks.logging.AttributionContextTracing.$anonfun$withAttributionContext$1(AttributionContextTracing.scala:49)\n",
       "\tat com.databricks.logging.AttributionContext$.$anonfun$withValue$1(AttributionContext.scala:293)\n",
       "\tat scala.util.DynamicVariable.withValue(DynamicVariable.scala:62)\n",
       "\tat com.databricks.logging.AttributionContext$.withValue(AttributionContext.scala:289)\n",
       "\tat com.databricks.logging.AttributionContextTracing.withAttributionContext(AttributionContextTracing.scala:47)\n",
       "\tat com.databricks.logging.AttributionContextTracing.withAttributionContext$(AttributionContextTracing.scala:44)\n",
       "\tat com.databricks.rpc.ServerBackend.withAttributionContext(ServerBackend.scala:22)\n",
       "\tat com.databricks.logging.AttributionContextTracing.withAttributionTags(AttributionContextTracing.scala:96)\n",
       "\tat com.databricks.logging.AttributionContextTracing.withAttributionTags$(AttributionContextTracing.scala:77)\n",
       "\tat com.databricks.rpc.ServerBackend.withAttributionTags(ServerBackend.scala:22)\n",
       "\tat com.databricks.backend.daemon.data.server.DbfsServerBackend$$anonfun$receive$4.applyOrElse(DbfsServerBackend.scala:482)\n",
       "\tat com.databricks.backend.daemon.data.server.DbfsServerBackend$$anonfun$receive$4.applyOrElse(DbfsServerBackend.scala:371)\n",
       "\tat com.databricks.rpc.ServerBackend.$anonfun$internalReceive0$2(ServerBackend.scala:174)\n",
       "\tat com.databricks.rpc.ServerBackend$$anonfun$commonReceive$1.applyOrElse(ServerBackend.scala:200)\n",
       "\tat com.databricks.rpc.ServerBackend$$anonfun$commonReceive$1.applyOrElse(ServerBackend.scala:200)\n",
       "\tat com.databricks.rpc.ServerBackend.internalReceive0(ServerBackend.scala:171)\n",
       "\tat com.databricks.rpc.ServerBackend.$anonfun$internalReceive$1(ServerBackend.scala:147)\n",
       "\tat com.databricks.logging.UsageLogging.$anonfun$recordOperation$1(UsageLogging.scala:508)\n",
       "\tat com.databricks.logging.UsageLogging.executeThunkAndCaptureResultTags$1(UsageLogging.scala:613)\n",
       "\tat com.databricks.logging.UsageLogging.$anonfun$recordOperationWithResultTags$4(UsageLogging.scala:636)\n",
       "\tat com.databricks.logging.AttributionContextTracing.$anonfun$withAttributionContext$1(AttributionContextTracing.scala:49)\n",
       "\tat com.databricks.logging.AttributionContext$.$anonfun$withValue$1(AttributionContext.scala:293)\n",
       "\tat scala.util.DynamicVariable.withValue(DynamicVariable.scala:62)\n",
       "\tat com.databricks.logging.AttributionContext$.withValue(AttributionContext.scala:289)\n",
       "\tat com.databricks.logging.AttributionContextTracing.withAttributionContext(AttributionContextTracing.scala:47)\n",
       "\tat com.databricks.logging.AttributionContextTracing.withAttributionContext$(AttributionContextTracing.scala:44)\n",
       "\tat com.databricks.rpc.ServerBackend.withAttributionContext(ServerBackend.scala:22)\n",
       "\tat com.databricks.logging.AttributionContextTracing.withAttributionTags(AttributionContextTracing.scala:96)\n",
       "\tat com.databricks.logging.AttributionContextTracing.withAttributionTags$(AttributionContextTracing.scala:77)\n",
       "\tat com.databricks.rpc.ServerBackend.withAttributionTags(ServerBackend.scala:22)\n",
       "\tat com.databricks.logging.UsageLogging.recordOperationWithResultTags(UsageLogging.scala:608)\n",
       "\tat com.databricks.logging.UsageLogging.recordOperationWithResultTags$(UsageLogging.scala:517)\n",
       "\tat com.databricks.rpc.ServerBackend.recordOperationWithResultTags(ServerBackend.scala:22)\n",
       "\tat com.databricks.logging.UsageLogging.recordOperation(UsageLogging.scala:509)\n",
       "\tat com.databricks.logging.UsageLogging.recordOperation$(UsageLogging.scala:475)\n",
       "\tat com.databricks.rpc.ServerBackend.recordOperation(ServerBackend.scala:22)\n",
       "\tat com.databricks.rpc.ServerBackend.internalReceive(ServerBackend.scala:146)\n",
       "\tat com.databricks.rpc.JettyServer$RequestManager.handleRPC(JettyServer.scala:1037)\n",
       "\tat com.databricks.rpc.JettyServer$RequestManager.handleRequestAndRespond(JettyServer.scala:957)\n",
       "\tat com.databricks.rpc.JettyServer$RequestManager.$anonfun$handleHttp$6(JettyServer.scala:552)\n",
       "\tat com.databricks.rpc.JettyServer$RequestManager.$anonfun$handleHttp$6$adapted(JettyServer.scala:522)\n",
       "\tat com.databricks.logging.activity.ActivityContextFactory$.$anonfun$withActivityInternal$12(ActivityContextFactory.scala:829)\n",
       "\tat com.databricks.logging.AttributionContextTracing.$anonfun$withAttributionContext$1(AttributionContextTracing.scala:49)\n",
       "\tat com.databricks.logging.AttributionContext$.$anonfun$withValue$1(AttributionContext.scala:293)\n",
       "\tat scala.util.DynamicVariable.withValue(DynamicVariable.scala:62)\n",
       "\tat com.databricks.logging.AttributionContext$.withValue(AttributionContext.scala:289)\n",
       "\tat com.databricks.logging.AttributionContextTracing.withAttributionContext(AttributionContextTracing.scala:47)\n",
       "\tat com.databricks.logging.AttributionContextTracing.withAttributionContext$(AttributionContextTracing.scala:44)\n",
       "\tat com.databricks.logging.activity.ActivityContextFactory$.withAttributionContext(ActivityContextFactory.scala:52)\n",
       "\tat com.databricks.logging.activity.ActivityContextFactory$.$anonfun$withActivityInternal$2(ActivityContextFactory.scala:829)\n",
       "\tat com.databricks.context.integrity.IntegrityCheckContext$ThreadLocalStorage$.withValue(IntegrityCheckContext.scala:73)\n",
       "\tat com.databricks.logging.activity.ActivityContextFactory$.withActivityInternal(ActivityContextFactory.scala:792)\n",
       "\tat com.databricks.logging.activity.ActivityContextFactory$.withActivityInternal(ActivityContextFactory.scala:774)\n",
       "\tat com.databricks.logging.activity.ActivityContextFactory$.$anonfun$withServiceRequestActivity$16(ActivityContextFactory.scala:306)\n",
       "\tat com.databricks.logging.AttributionContextTracing.$anonfun$withAttributionContext$1(AttributionContextTracing.scala:49)\n",
       "\tat com.databricks.logging.AttributionContext$.$anonfun$withValue$1(AttributionContext.scala:293)\n",
       "\tat scala.util.DynamicVariable.withValue(DynamicVariable.scala:62)\n",
       "\tat com.databricks.logging.AttributionContext$.withValue(AttributionContext.scala:289)\n",
       "\tat com.databricks.logging.AttributionContextTracing.withAttributionContext(AttributionContextTracing.scala:47)\n",
       "\tat com.databricks.logging.AttributionContextTracing.withAttributionContext$(AttributionContextTracing.scala:44)\n",
       "\tat com.databricks.logging.activity.ActivityContextFactory$.withAttributionContext(ActivityContextFactory.scala:52)\n",
       "\tat com.databricks.logging.activity.ActivityContextFactory$.withServiceRequestActivity(ActivityContextFactory.scala:306)\n",
       "\tat com.databricks.rpc.JettyServer$RequestManager.handleHttp(JettyServer.scala:522)\n",
       "\tat com.databricks.rpc.JettyServer$RequestManager.doPost(JettyServer.scala:415)\n",
       "\tat javax.servlet.http.HttpServlet.service(HttpServlet.java:665)\n",
       "\tat com.databricks.rpc.HttpServletWithPatch.service(HttpServletWithPatch.scala:33)\n",
       "\tat javax.servlet.http.HttpServlet.service(HttpServlet.java:750)\n",
       "\tat org.eclipse.jetty.servlet.ServletHolder.handle(ServletHolder.java:799)\n",
       "\tat org.eclipse.jetty.servlet.ServletHandler.doHandle(ServletHandler.java:554)\n",
       "\tat org.eclipse.jetty.server.handler.ScopedHandler.nextScope(ScopedHandler.java:190)\n",
       "\tat org.eclipse.jetty.servlet.ServletHandler.doScope(ServletHandler.java:505)\n",
       "\tat org.eclipse.jetty.server.handler.ScopedHandler.handle(ScopedHandler.java:141)\n",
       "\tat org.eclipse.jetty.server.handler.HandlerWrapper.handle(HandlerWrapper.java:127)\n",
       "\tat org.eclipse.jetty.server.Server.handle(Server.java:516)\n",
       "\tat org.eclipse.jetty.server.HttpChannel.lambda$handle$1(HttpChannel.java:487)\n",
       "\tat org.eclipse.jetty.server.HttpChannel.dispatch(HttpChannel.java:732)\n",
       "\tat org.eclipse.jetty.server.HttpChannel.handle(HttpChannel.java:479)\n",
       "\tat org.eclipse.jetty.server.HttpConnection.onFillable(HttpConnection.java:277)\n",
       "\tat org.eclipse.jetty.io.AbstractConnection$ReadCallback.succeeded(AbstractConnection.java:311)\n",
       "\tat org.eclipse.jetty.io.FillInterest.fillable(FillInterest.java:105)\n",
       "\tat org.eclipse.jetty.io.ChannelEndPoint$1.run(ChannelEndPoint.java:104)\n",
       "\tat org.eclipse.jetty.util.thread.strategy.EatWhatYouKill.runTask(EatWhatYouKill.java:338)\n",
       "\tat org.eclipse.jetty.util.thread.strategy.EatWhatYouKill.doProduce(EatWhatYouKill.java:315)\n",
       "\tat org.eclipse.jetty.util.thread.strategy.EatWhatYouKill.tryProduce(EatWhatYouKill.java:173)\n",
       "\tat org.eclipse.jetty.util.thread.strategy.EatWhatYouKill.run(EatWhatYouKill.java:131)\n",
       "\tat org.eclipse.jetty.util.thread.ReservedThreadExecutor$ReservedThread.run(ReservedThreadExecutor.java:409)\n",
       "\tat com.databricks.rpc.InstrumentedQueuedThreadPool$$anon$1.$anonfun$run$2(InstrumentedQueuedThreadPool.scala:110)\n",
       "\tat scala.runtime.java8.JFunction0$mcV$sp.apply(JFunction0$mcV$sp.java:23)\n",
       "\tat com.databricks.logging.AttributionContextTracing.$anonfun$withAttributionContext$1(AttributionContextTracing.scala:49)\n",
       "\tat com.databricks.logging.AttributionContext$.$anonfun$withValue$1(AttributionContext.scala:293)\n",
       "\tat scala.util.DynamicVariable.withValue(DynamicVariable.scala:62)\n",
       "\tat com.databricks.logging.AttributionContext$.withValue(AttributionContext.scala:289)\n",
       "\tat com.databricks.logging.AttributionContextTracing.withAttributionContext(AttributionContextTracing.scala:47)\n",
       "\tat com.databricks.logging.AttributionContextTracing.withAttributionContext$(AttributionContextTracing.scala:44)\n",
       "\tat com.databricks.rpc.InstrumentedQueuedThreadPool.withAttributionContext(InstrumentedQueuedThreadPool.scala:45)\n",
       "\tat com.databricks.rpc.InstrumentedQueuedThreadPool$$anon$1.$anonfun$run$1(InstrumentedQueuedThreadPool.scala:110)\n",
       "\tat scala.runtime.java8.JFunction0$mcV$sp.apply(JFunction0$mcV$sp.java:23)\n",
       "\tat com.databricks.instrumentation.QueuedThreadPoolInstrumenter.trackActiveThreads(QueuedThreadPoolInstrumenter.scala:132)\n",
       "\tat com.databricks.instrumentation.QueuedThreadPoolInstrumenter.trackActiveThreads$(QueuedThreadPoolInstrumenter.scala:129)\n",
       "\tat com.databricks.rpc.InstrumentedQueuedThreadPool.trackActiveThreads(InstrumentedQueuedThreadPool.scala:45)\n",
       "\tat com.databricks.rpc.InstrumentedQueuedThreadPool$$anon$1.run(InstrumentedQueuedThreadPool.scala:92)\n",
       "\tat org.eclipse.jetty.util.thread.QueuedThreadPool.runJob(QueuedThreadPool.java:883)\n",
       "\tat org.eclipse.jetty.util.thread.QueuedThreadPool$Runner.run(QueuedThreadPool.java:1034)\n",
       "\tat java.lang.Thread.run(Thread.java:840)\n"
      ]
     },
     "metadata": {
      "application/vnd.databricks.v1+output": {
       "addedWidgets": {},
       "arguments": {},
       "datasetInfos": [],
       "jupyterProps": {
        "ename": "ExecutionError",
        "evalue": "An error occurred while calling o426.mount.\n: java.rmi.RemoteException: java.lang.IllegalArgumentException: requirement failed: Directory already mounted: /mnt/tokyo-olympic; nested exception is: \n\tjava.lang.IllegalArgumentException: requirement failed: Directory already mounted: /mnt/tokyo-olympic\n\tat com.databricks.backend.daemon.data.client.DbfsClient.send0(DbfsClient.scala:148)\n\tat com.databricks.backend.daemon.data.client.DbfsClient.sendIdempotent(DbfsClient.scala:70)\n\tat com.databricks.backend.daemon.dbutils.DBUtilsCore.createOrUpdateMount(DBUtilsCore.scala:1142)\n\tat com.databricks.backend.daemon.dbutils.DBUtilsCore.$anonfun$mount$1(DBUtilsCore.scala:1168)\n\tat com.databricks.logging.UsageLogging.$anonfun$recordOperation$1(UsageLogging.scala:528)\n\tat com.databricks.logging.UsageLogging.executeThunkAndCaptureResultTags$1(UsageLogging.scala:633)\n\tat com.databricks.logging.UsageLogging.$anonfun$recordOperationWithResultTags$4(UsageLogging.scala:656)\n\tat com.databricks.logging.AttributionContextTracing.$anonfun$withAttributionContext$1(AttributionContextTracing.scala:48)\n\tat com.databricks.logging.AttributionContext$.$anonfun$withValue$1(AttributionContext.scala:276)\n\tat scala.util.DynamicVariable.withValue(DynamicVariable.scala:62)\n\tat com.databricks.logging.AttributionContext$.withValue(AttributionContext.scala:272)\n\tat com.databricks.logging.AttributionContextTracing.withAttributionContext(AttributionContextTracing.scala:46)\n\tat com.databricks.logging.AttributionContextTracing.withAttributionContext$(AttributionContextTracing.scala:43)\n\tat com.databricks.backend.daemon.dbutils.FSUtils.withAttributionContext(DBUtilsCore.scala:74)\n\tat com.databricks.logging.AttributionContextTracing.withAttributionTags(AttributionContextTracing.scala:95)\n\tat com.databricks.logging.AttributionContextTracing.withAttributionTags$(AttributionContextTracing.scala:76)\n\tat com.databricks.backend.daemon.dbutils.FSUtils.withAttributionTags(DBUtilsCore.scala:74)\n\tat com.databricks.logging.UsageLogging.recordOperationWithResultTags(UsageLogging.scala:628)\n\tat com.databricks.logging.UsageLogging.recordOperationWithResultTags$(UsageLogging.scala:537)\n\tat com.databricks.backend.daemon.dbutils.FSUtils.recordOperationWithResultTags(DBUtilsCore.scala:74)\n\tat com.databricks.logging.UsageLogging.recordOperation(UsageLogging.scala:529)\n\tat com.databricks.logging.UsageLogging.recordOperation$(UsageLogging.scala:495)\n\tat com.databricks.backend.daemon.dbutils.FSUtils.recordOperation(DBUtilsCore.scala:74)\n\tat com.databricks.backend.daemon.dbutils.FSUtils.recordDbutilsFsOp(DBUtilsCore.scala:138)\n\tat com.databricks.backend.daemon.dbutils.DBUtilsCore.mount(DBUtilsCore.scala:1162)\n\tat sun.reflect.NativeMethodAccessorImpl.invoke0(Native Method)\n\tat sun.reflect.NativeMethodAccessorImpl.invoke(NativeMethodAccessorImpl.java:62)\n\tat sun.reflect.DelegatingMethodAccessorImpl.invoke(DelegatingMethodAccessorImpl.java:43)\n\tat java.lang.reflect.Method.invoke(Method.java:498)\n\tat py4j.reflection.MethodInvoker.invoke(MethodInvoker.java:244)\n\tat py4j.reflection.ReflectionEngine.invoke(ReflectionEngine.java:397)\n\tat py4j.Gateway.invoke(Gateway.java:306)\n\tat py4j.commands.AbstractCommand.invokeMethod(AbstractCommand.java:132)\n\tat py4j.commands.CallCommand.execute(CallCommand.java:79)\n\tat py4j.ClientServerConnection.waitForCommands(ClientServerConnection.java:199)\n\tat py4j.ClientServerConnection.run(ClientServerConnection.java:119)\n\tat java.lang.Thread.run(Thread.java:750)\nCaused by: java.lang.IllegalArgumentException: requirement failed: Directory already mounted: /mnt/tokyo-olympic\n\tat scala.Predef$.require(Predef.scala:281)\n\tat com.databricks.backend.daemon.data.server.DefaultMetadataManager.$anonfun$insertMount$1(MetadataManager.scala:810)\n\tat com.databricks.backend.daemon.data.server.DefaultMetadataManager.$anonfun$modifyAndVerify$2(MetadataManager.scala:1192)\n\tat scala.runtime.java8.JFunction0$mcV$sp.apply(JFunction0$mcV$sp.java:23)\n\tat com.databricks.backend.daemon.data.server.DefaultMetadataManager.withRetries(MetadataManager.scala:965)\n\tat com.databricks.backend.daemon.data.server.DefaultMetadataManager.modifyAndVerify(MetadataManager.scala:1181)\n\tat com.databricks.backend.daemon.data.server.DefaultMetadataManager.insertMount(MetadataManager.scala:818)\n\tat com.databricks.backend.daemon.data.server.handler.MountHandler.receive(MountHandler.scala:131)\n\tat com.databricks.backend.daemon.data.server.handler.DbfsRequestHandler.receive(DbfsRequestHandler.scala:16)\n\tat com.databricks.backend.daemon.data.server.handler.DbfsRequestHandler.receive$(DbfsRequestHandler.scala:15)\n\tat com.databricks.backend.daemon.data.server.handler.MountHandler.receive(MountHandler.scala:39)\n\tat com.databricks.backend.daemon.data.server.session.SessionContext.$anonfun$queryHandlers$1(SessionContext.scala:54)\n\tat com.databricks.backend.daemon.data.server.session.SessionContext.$anonfun$queryHandlers$1$adapted(SessionContext.scala:53)\n\tat scala.collection.immutable.List.foreach(List.scala:431)\n\tat com.databricks.backend.daemon.data.server.session.SessionContext.queryHandlers(SessionContext.scala:53)\n\tat com.databricks.backend.daemon.data.server.DbfsServerBackend$$anonfun$receive$4.$anonfun$applyOrElse$10(DbfsServerBackend.scala:482)\n\tat com.databricks.logging.AttributionContextTracing.$anonfun$withAttributionContext$1(AttributionContextTracing.scala:49)\n\tat com.databricks.logging.AttributionContext$.$anonfun$withValue$1(AttributionContext.scala:293)\n\tat scala.util.DynamicVariable.withValue(DynamicVariable.scala:62)\n\tat com.databricks.logging.AttributionContext$.withValue(AttributionContext.scala:289)\n\tat com.databricks.logging.AttributionContextTracing.withAttributionContext(AttributionContextTracing.scala:47)\n\tat com.databricks.logging.AttributionContextTracing.withAttributionContext$(AttributionContextTracing.scala:44)\n\tat com.databricks.rpc.ServerBackend.withAttributionContext(ServerBackend.scala:22)\n\tat com.databricks.logging.AttributionContextTracing.withAttributionTags(AttributionContextTracing.scala:96)\n\tat com.databricks.logging.AttributionContextTracing.withAttributionTags$(AttributionContextTracing.scala:77)\n\tat com.databricks.rpc.ServerBackend.withAttributionTags(ServerBackend.scala:22)\n\tat com.databricks.backend.daemon.data.server.DbfsServerBackend$$anonfun$receive$4.applyOrElse(DbfsServerBackend.scala:482)\n\tat com.databricks.backend.daemon.data.server.DbfsServerBackend$$anonfun$receive$4.applyOrElse(DbfsServerBackend.scala:371)\n\tat com.databricks.rpc.ServerBackend.$anonfun$internalReceive0$2(ServerBackend.scala:174)\n\tat com.databricks.rpc.ServerBackend$$anonfun$commonReceive$1.applyOrElse(ServerBackend.scala:200)\n\tat com.databricks.rpc.ServerBackend$$anonfun$commonReceive$1.applyOrElse(ServerBackend.scala:200)\n\tat com.databricks.rpc.ServerBackend.internalReceive0(ServerBackend.scala:171)\n\tat com.databricks.rpc.ServerBackend.$anonfun$internalReceive$1(ServerBackend.scala:147)\n\tat com.databricks.logging.UsageLogging.$anonfun$recordOperation$1(UsageLogging.scala:508)\n\tat com.databricks.logging.UsageLogging.executeThunkAndCaptureResultTags$1(UsageLogging.scala:613)\n\tat com.databricks.logging.UsageLogging.$anonfun$recordOperationWithResultTags$4(UsageLogging.scala:636)\n\tat com.databricks.logging.AttributionContextTracing.$anonfun$withAttributionContext$1(AttributionContextTracing.scala:49)\n\tat com.databricks.logging.AttributionContext$.$anonfun$withValue$1(AttributionContext.scala:293)\n\tat scala.util.DynamicVariable.withValue(DynamicVariable.scala:62)\n\tat com.databricks.logging.AttributionContext$.withValue(AttributionContext.scala:289)\n\tat com.databricks.logging.AttributionContextTracing.withAttributionContext(AttributionContextTracing.scala:47)\n\tat com.databricks.logging.AttributionContextTracing.withAttributionContext$(AttributionContextTracing.scala:44)\n\tat com.databricks.rpc.ServerBackend.withAttributionContext(ServerBackend.scala:22)\n\tat com.databricks.logging.AttributionContextTracing.withAttributionTags(AttributionContextTracing.scala:96)\n\tat com.databricks.logging.AttributionContextTracing.withAttributionTags$(AttributionContextTracing.scala:77)\n\tat com.databricks.rpc.ServerBackend.withAttributionTags(ServerBackend.scala:22)\n\tat com.databricks.logging.UsageLogging.recordOperationWithResultTags(UsageLogging.scala:608)\n\tat com.databricks.logging.UsageLogging.recordOperationWithResultTags$(UsageLogging.scala:517)\n\tat com.databricks.rpc.ServerBackend.recordOperationWithResultTags(ServerBackend.scala:22)\n\tat com.databricks.logging.UsageLogging.recordOperation(UsageLogging.scala:509)\n\tat com.databricks.logging.UsageLogging.recordOperation$(UsageLogging.scala:475)\n\tat com.databricks.rpc.ServerBackend.recordOperation(ServerBackend.scala:22)\n\tat com.databricks.rpc.ServerBackend.internalReceive(ServerBackend.scala:146)\n\tat com.databricks.rpc.JettyServer$RequestManager.handleRPC(JettyServer.scala:1037)\n\tat com.databricks.rpc.JettyServer$RequestManager.handleRequestAndRespond(JettyServer.scala:957)\n\tat com.databricks.rpc.JettyServer$RequestManager.$anonfun$handleHttp$6(JettyServer.scala:552)\n\tat com.databricks.rpc.JettyServer$RequestManager.$anonfun$handleHttp$6$adapted(JettyServer.scala:522)\n\tat com.databricks.logging.activity.ActivityContextFactory$.$anonfun$withActivityInternal$12(ActivityContextFactory.scala:829)\n\tat com.databricks.logging.AttributionContextTracing.$anonfun$withAttributionContext$1(AttributionContextTracing.scala:49)\n\tat com.databricks.logging.AttributionContext$.$anonfun$withValue$1(AttributionContext.scala:293)\n\tat scala.util.DynamicVariable.withValue(DynamicVariable.scala:62)\n\tat com.databricks.logging.AttributionContext$.withValue(AttributionContext.scala:289)\n\tat com.databricks.logging.AttributionContextTracing.withAttributionContext(AttributionContextTracing.scala:47)\n\tat com.databricks.logging.AttributionContextTracing.withAttributionContext$(AttributionContextTracing.scala:44)\n\tat com.databricks.logging.activity.ActivityContextFactory$.withAttributionContext(ActivityContextFactory.scala:52)\n\tat com.databricks.logging.activity.ActivityContextFactory$.$anonfun$withActivityInternal$2(ActivityContextFactory.scala:829)\n\tat com.databricks.context.integrity.IntegrityCheckContext$ThreadLocalStorage$.withValue(IntegrityCheckContext.scala:73)\n\tat com.databricks.logging.activity.ActivityContextFactory$.withActivityInternal(ActivityContextFactory.scala:792)\n\tat com.databricks.logging.activity.ActivityContextFactory$.withActivityInternal(ActivityContextFactory.scala:774)\n\tat com.databricks.logging.activity.ActivityContextFactory$.$anonfun$withServiceRequestActivity$16(ActivityContextFactory.scala:306)\n\tat com.databricks.logging.AttributionContextTracing.$anonfun$withAttributionContext$1(AttributionContextTracing.scala:49)\n\tat com.databricks.logging.AttributionContext$.$anonfun$withValue$1(AttributionContext.scala:293)\n\tat scala.util.DynamicVariable.withValue(DynamicVariable.scala:62)\n\tat com.databricks.logging.AttributionContext$.withValue(AttributionContext.scala:289)\n\tat com.databricks.logging.AttributionContextTracing.withAttributionContext(AttributionContextTracing.scala:47)\n\tat com.databricks.logging.AttributionContextTracing.withAttributionContext$(AttributionContextTracing.scala:44)\n\tat com.databricks.logging.activity.ActivityContextFactory$.withAttributionContext(ActivityContextFactory.scala:52)\n\tat com.databricks.logging.activity.ActivityContextFactory$.withServiceRequestActivity(ActivityContextFactory.scala:306)\n\tat com.databricks.rpc.JettyServer$RequestManager.handleHttp(JettyServer.scala:522)\n\tat com.databricks.rpc.JettyServer$RequestManager.doPost(JettyServer.scala:415)\n\tat javax.servlet.http.HttpServlet.service(HttpServlet.java:665)\n\tat com.databricks.rpc.HttpServletWithPatch.service(HttpServletWithPatch.scala:33)\n\tat javax.servlet.http.HttpServlet.service(HttpServlet.java:750)\n\tat org.eclipse.jetty.servlet.ServletHolder.handle(ServletHolder.java:799)\n\tat org.eclipse.jetty.servlet.ServletHandler.doHandle(ServletHandler.java:554)\n\tat org.eclipse.jetty.server.handler.ScopedHandler.nextScope(ScopedHandler.java:190)\n\tat org.eclipse.jetty.servlet.ServletHandler.doScope(ServletHandler.java:505)\n\tat org.eclipse.jetty.server.handler.ScopedHandler.handle(ScopedHandler.java:141)\n\tat org.eclipse.jetty.server.handler.HandlerWrapper.handle(HandlerWrapper.java:127)\n\tat org.eclipse.jetty.server.Server.handle(Server.java:516)\n\tat org.eclipse.jetty.server.HttpChannel.lambda$handle$1(HttpChannel.java:487)\n\tat org.eclipse.jetty.server.HttpChannel.dispatch(HttpChannel.java:732)\n\tat org.eclipse.jetty.server.HttpChannel.handle(HttpChannel.java:479)\n\tat org.eclipse.jetty.server.HttpConnection.onFillable(HttpConnection.java:277)\n\tat org.eclipse.jetty.io.AbstractConnection$ReadCallback.succeeded(AbstractConnection.java:311)\n\tat org.eclipse.jetty.io.FillInterest.fillable(FillInterest.java:105)\n\tat org.eclipse.jetty.io.ChannelEndPoint$1.run(ChannelEndPoint.java:104)\n\tat org.eclipse.jetty.util.thread.strategy.EatWhatYouKill.runTask(EatWhatYouKill.java:338)\n\tat org.eclipse.jetty.util.thread.strategy.EatWhatYouKill.doProduce(EatWhatYouKill.java:315)\n\tat org.eclipse.jetty.util.thread.strategy.EatWhatYouKill.tryProduce(EatWhatYouKill.java:173)\n\tat org.eclipse.jetty.util.thread.strategy.EatWhatYouKill.run(EatWhatYouKill.java:131)\n\tat org.eclipse.jetty.util.thread.ReservedThreadExecutor$ReservedThread.run(ReservedThreadExecutor.java:409)\n\tat com.databricks.rpc.InstrumentedQueuedThreadPool$$anon$1.$anonfun$run$2(InstrumentedQueuedThreadPool.scala:110)\n\tat scala.runtime.java8.JFunction0$mcV$sp.apply(JFunction0$mcV$sp.java:23)\n\tat com.databricks.logging.AttributionContextTracing.$anonfun$withAttributionContext$1(AttributionContextTracing.scala:49)\n\tat com.databricks.logging.AttributionContext$.$anonfun$withValue$1(AttributionContext.scala:293)\n\tat scala.util.DynamicVariable.withValue(DynamicVariable.scala:62)\n\tat com.databricks.logging.AttributionContext$.withValue(AttributionContext.scala:289)\n\tat com.databricks.logging.AttributionContextTracing.withAttributionContext(AttributionContextTracing.scala:47)\n\tat com.databricks.logging.AttributionContextTracing.withAttributionContext$(AttributionContextTracing.scala:44)\n\tat com.databricks.rpc.InstrumentedQueuedThreadPool.withAttributionContext(InstrumentedQueuedThreadPool.scala:45)\n\tat com.databricks.rpc.InstrumentedQueuedThreadPool$$anon$1.$anonfun$run$1(InstrumentedQueuedThreadPool.scala:110)\n\tat scala.runtime.java8.JFunction0$mcV$sp.apply(JFunction0$mcV$sp.java:23)\n\tat com.databricks.instrumentation.QueuedThreadPoolInstrumenter.trackActiveThreads(QueuedThreadPoolInstrumenter.scala:132)\n\tat com.databricks.instrumentation.QueuedThreadPoolInstrumenter.trackActiveThreads$(QueuedThreadPoolInstrumenter.scala:129)\n\tat com.databricks.rpc.InstrumentedQueuedThreadPool.trackActiveThreads(InstrumentedQueuedThreadPool.scala:45)\n\tat com.databricks.rpc.InstrumentedQueuedThreadPool$$anon$1.run(InstrumentedQueuedThreadPool.scala:92)\n\tat org.eclipse.jetty.util.thread.QueuedThreadPool.runJob(QueuedThreadPool.java:883)\n\tat org.eclipse.jetty.util.thread.QueuedThreadPool$Runner.run(QueuedThreadPool.java:1034)\n\tat java.lang.Thread.run(Thread.java:840)\n"
       },
       "metadata": {
        "errorSummary": "<span class='ansi-red-fg'>ExecutionError</span>: An error occurred while calling o426.mount.\n: java.rmi.RemoteException: java.lang.IllegalArgumentException: requirement failed: Directory already mounted: /mnt/tokyo-olympic; nested exception is: \n\tjava.lang.IllegalArgumentException: requirement failed: Directory already mounted: /mnt/tokyo-olympic\n\tat com.databricks.backend.daemon.data.client.DbfsClient.send0(DbfsClient.scala:148)\n\tat com.databricks.backend.daemon.data.client.DbfsClient.sendIdempotent(DbfsClient.scala:70)\n\tat com.databricks.backend.daemon.dbutils.DBUtilsCore.createOrUpdateMount(DBUtilsCore.scala:1142)\n\tat com.databricks.backend.daemon.dbutils.DBUtilsCore.$anonfun$mount$1(DBUtilsCore.scala:1168)\n\tat com.databricks.logging.UsageLogging.$anonfun$recordOperation$1(UsageLogging.scala:528)\n\tat com.databricks.logging.UsageLogging.executeThunkAndCaptureResultTags$1(UsageLogging.scala:633)\n\tat com.databricks.logging.UsageLogging.$anonfun$recordOperationWithResultTags$4(UsageLogging.scala:656)\n\tat com.databricks.logging.AttributionContextTracing.$anonfun$withAttributionContext$1(AttributionContextTracing.scala:48)\n\tat com.databricks.logging.AttributionContext$.$anonfun$withValue$1(AttributionContext.scala:276)\n\tat scala.util.DynamicVariable.withValue(DynamicVariable.scala:62)\n\tat com.databricks.logging.AttributionContext$.withValue(AttributionContext.scala:272)\n\tat com.databricks.logging.AttributionContextTracing.withAttributionContext(AttributionContextTracing.scala:46)\n\tat com.databricks.logging.AttributionContextTracing.withAttributionContext$(AttributionContextTracing.scala:43)\n\tat com.databricks.backend.daemon.dbutils.FSUtils.withAttributionContext(DBUtilsCore.scala:74)\n\tat com.databricks.logging.AttributionContextTracing.withAttributionTags(AttributionContextTracing.scala:95)\n\tat com.databricks.logging.AttributionContextTracing.withAttributionTags$(AttributionContextTracing.scala:76)\n\tat com.databricks.backend.daemon.dbutils.FSUtils.withAttributionTags(DBUtilsCore.scala:74)\n\tat com.databricks.logging.UsageLogging.recordOperationWithResultTags(UsageLogging.scala:628)\n\tat com.databricks.logging.UsageLogging.recordOperationWithResultTags$(UsageLogging.scala:537)\n\tat com.databricks.backend.daemon.dbutils.FSUtils.recordOperationWithResultTags(DBUtilsCore.scala:74)\n\tat com.databricks.logging.UsageLogging.recordOperation(UsageLogging.scala:529)\n\tat com.databricks.logging.UsageLogging.recordOperation$(UsageLogging.scala:495)\n\tat com.databricks.backend.daemon.dbutils.FSUtils.recordOperation(DBUtilsCore.scala:74)\n\tat com.databricks.backend.daemon.dbutils.FSUtils.recordDbutilsFsOp(DBUtilsCore.scala:138)\n\tat com.databricks.backend.daemon.dbutils.DBUtilsCore.mount(DBUtilsCore.scala:1162)\n\tat sun.reflect.NativeMethodAccessorImpl.invoke0(Native Method)\n\tat sun.reflect.NativeMethodAccessorImpl.invoke(NativeMethodAccessorImpl.java:62)\n\tat sun.reflect.DelegatingMethodAccessorImpl.invoke(DelegatingMethodAccessorImpl.java:43)\n\tat java.lang.reflect.Method.invoke(Method.java:498)\n\tat py4j.reflection.MethodInvoker.invoke(MethodInvoker.java:244)\n\tat py4j.reflection.ReflectionEngine.invoke(ReflectionEngine.java:397)\n\tat py4j.Gateway.invoke(Gateway.java:306)\n\tat py4j.commands.AbstractCommand.invokeMethod(AbstractCommand.java:132)\n\tat py4j.commands.CallCommand.execute(CallCommand.java:79)\n\tat py4j.ClientServerConnection.waitForCommands(ClientServerConnection.java:199)\n\tat py4j.ClientServerConnection.run(ClientServerConnection.java:119)\n\tat java.lang.Thread.run(Thread.java:750)\nCaused by: java.lang.IllegalArgumentException: requirement failed: Directory already mounted: /mnt/tokyo-olympic\n\tat scala.Predef$.require(Predef.scala:281)\n\tat com.databricks.backend.daemon.data.server.DefaultMetadataManager.$anonfun$insertMount$1(MetadataManager.scala:810)\n\tat com.databricks.backend.daemon.data.server.DefaultMetadataManager.$anonfun$modifyAndVerify$2(MetadataManager.scala:1192)\n\tat scala.runtime.java8.JFunction0$mcV$sp.apply(JFunction0$mcV$sp.java:23)\n\tat com.databricks.backend.daemon.data.server.DefaultMetadataManager.withRetries(MetadataManager.scala:965)\n\tat com.databricks.backend.daemon.data.server.DefaultMetadataManager.modifyAndVerify(MetadataManager.scala:1181)\n\tat com.databricks.backend.daemon.data.server.DefaultMetadataManager.insertMount(MetadataManager.scala:818)\n\tat com.databricks.backend.daemon.data.server.handler.MountHandler.receive(MountHandler.scala:131)\n\tat com.databricks.backend.daemon.data.server.handler.DbfsRequestHandler.receive(DbfsRequestHandler.scala:16)\n\tat com.databricks.backend.daemon.data.server.handler.DbfsRequestHandler.receive$(DbfsRequestHandler.scala:15)\n\tat com.databricks.backend.daemon.data.server.handler.MountHandler.receive(MountHandler.scala:39)\n\tat com.databricks.backend.daemon.data.server.session.SessionContext.$anonfun$queryHandlers$1(SessionContext.scala:54)\n\tat com.databricks.backend.daemon.data.server.session.SessionContext.$anonfun$queryHandlers$1$adapted(SessionContext.scala:53)\n\tat scala.collection.immutable.List.foreach(List.scala:431)\n\tat com.databricks.backend.daemon.data.server.session.SessionContext.queryHandlers(SessionContext.scala:53)\n\tat com.databricks.backend.daemon.data.server.DbfsServerBackend$$anonfun$receive$4.$anonfun$applyOrElse$10(DbfsServerBackend.scala:482)\n\tat com.databricks.logging.AttributionContextTracing.$anonfun$withAttributionContext$1(AttributionContextTracing.scala:49)\n\tat com.databricks.logging.AttributionContext$.$anonfun$withValue$1(AttributionContext.scala:293)\n\tat scala.util.DynamicVariable.withValue(DynamicVariable.scala:62)\n\tat com.databricks.logging.AttributionContext$.withValue(AttributionContext.scala:289)\n\tat com.databricks.logging.AttributionContextTracing.withAttributionContext(AttributionContextTracing.scala:47)\n\tat com.databricks.logging.AttributionContextTracing.withAttributionContext$(AttributionContextTracing.scala:44)\n\tat com.databricks.rpc.ServerBackend.withAttributionContext(ServerBackend.scala:22)\n\tat com.databricks.logging.AttributionContextTracing.withAttributionTags(AttributionContextTracing.scala:96)\n\tat com.databricks.logging.AttributionContextTracing.withAttributionTags$(AttributionContextTracing.scala:77)\n\tat com.databricks.rpc.ServerBackend.withAttributionTags(ServerBackend.scala:22)\n\tat com.databricks.backend.daemon.data.server.DbfsServerBackend$$anonfun$receive$4.applyOrElse(DbfsServerBackend.scala:482)\n\tat com.databricks.backend.daemon.data.server.DbfsServerBackend$$anonfun$receive$4.applyOrElse(DbfsServerBackend.scala:371)\n\tat com.databricks.rpc.ServerBackend.$anonfun$internalReceive0$2(ServerBackend.scala:174)\n\tat com.databricks.rpc.ServerBackend$$anonfun$commonReceive$1.applyOrElse(ServerBackend.scala:200)\n\tat com.databricks.rpc.ServerBackend$$anonfun$commonReceive$1.applyOrElse(ServerBackend.scala:200)\n\tat com.databricks.rpc.ServerBackend.internalReceive0(ServerBackend.scala:171)\n\tat com.databricks.rpc.ServerBackend.$anonfun$internalReceive$1(ServerBackend.scala:147)\n\tat com.databricks.logging.UsageLogging.$anonfun$recordOperation$1(UsageLogging.scala:508)\n\tat com.databricks.logging.UsageLogging.executeThunkAndCaptureResultTags$1(UsageLogging.scala:613)\n\tat com.databricks.logging.UsageLogging.$anonfun$recordOperationWithResultTags$4(UsageLogging.scala:636)\n\tat com.databricks.logging.AttributionContextTracing.$anonfun$withAttributionContext$1(AttributionContextTracing.scala:49)\n\tat com.databricks.logging.AttributionContext$.$anonfun$withValue$1(AttributionContext.scala:293)\n\tat scala.util.DynamicVariable.withValue(DynamicVariable.scala:62)\n\tat com.databricks.logging.AttributionContext$.withValue(AttributionContext.scala:289)\n\tat com.databricks.logging.AttributionContextTracing.withAttributionContext(AttributionContextTracing.scala:47)\n\tat com.databricks.logging.AttributionContextTracing.withAttributionContext$(AttributionContextTracing.scala:44)\n\tat com.databricks.rpc.ServerBackend.withAttributionContext(ServerBackend.scala:22)\n\tat com.databricks.logging.AttributionContextTracing.withAttributionTags(AttributionContextTracing.scala:96)\n\tat com.databricks.logging.AttributionContextTracing.withAttributionTags$(AttributionContextTracing.scala:77)\n\tat com.databricks.rpc.ServerBackend.withAttributionTags(ServerBackend.scala:22)\n\tat com.databricks.logging.UsageLogging.recordOperationWithResultTags(UsageLogging.scala:608)\n\tat com.databricks.logging.UsageLogging.recordOperationWithResultTags$(UsageLogging.scala:517)\n\tat com.databricks.rpc.ServerBackend.recordOperationWithResultTags(ServerBackend.scala:22)\n\tat com.databricks.logging.UsageLogging.recordOperation(UsageLogging.scala:509)\n\tat com.databricks.logging.UsageLogging.recordOperation$(UsageLogging.scala:475)\n\tat com.databricks.rpc.ServerBackend.recordOperation(ServerBackend.scala:22)\n\tat com.databricks.rpc.ServerBackend.internalReceive(ServerBackend.scala:146)\n\tat com.databricks.rpc.JettyServer$RequestManager.handleRPC(JettyServer.scala:1037)\n\tat com.databricks.rpc.JettyServer$RequestManager.handleRequestAndRespond(JettyServer.scala:957)\n\tat com.databricks.rpc.JettyServer$RequestManager.$anonfun$handleHttp$6(JettyServer.scala:552)\n\tat com.databricks.rpc.JettyServer$RequestManager.$anonfun$handleHttp$6$adapted(JettyServer.scala:522)\n\tat com.databricks.logging.activity.ActivityContextFactory$.$anonfun$withActivityInternal$12(ActivityContextFactory.scala:829)\n\tat com.databricks.logging.AttributionContextTracing.$anonfun$withAttributionContext$1(AttributionContextTracing.scala:49)\n\tat com.databricks.logging.AttributionContext$.$anonfun$withValue$1(AttributionContext.scala:293)\n\tat scala.util.DynamicVariable.withValue(DynamicVariable.scala:62)\n\tat com.databricks.logging.AttributionContext$.withValue(AttributionContext.scala:289)\n\tat com.databricks.logging.AttributionContextTracing.withAttributionContext(AttributionContextTracing.scala:47)\n\tat com.databricks.logging.AttributionContextTracing.withAttributionContext$(AttributionContextTracing.scala:44)\n\tat com.databricks.logging.activity.ActivityContextFactory$.withAttributionContext(ActivityContextFactory.scala:52)\n\tat com.databricks.logging.activity.ActivityContextFactory$.$anonfun$withActivityInternal$2(ActivityContextFactory.scala:829)\n\tat com.databricks.context.integrity.IntegrityCheckContext$ThreadLocalStorage$.withValue(IntegrityCheckContext.scala:73)\n\tat com.databricks.logging.activity.ActivityContextFactory$.withActivityInternal(ActivityContextFactory.scala:792)\n\tat com.databricks.logging.activity.ActivityContextFactory$.withActivityInternal(ActivityContextFactory.scala:774)\n\tat com.databricks.logging.activity.ActivityContextFactory$.$anonfun$withServiceRequestActivity$16(ActivityContextFactory.scala:306)\n\tat com.databricks.logging.AttributionContextTracing.$anonfun$withAttributionContext$1(AttributionContextTracing.scala:49)\n\tat com.databricks.logging.AttributionContext$.$anonfun$withValue$1(AttributionContext.scala:293)\n\tat scala.util.DynamicVariable.withValue(DynamicVariable.scala:62)\n\tat com.databricks.logging.AttributionContext$.withValue(AttributionContext.scala:289)\n\tat com.databricks.logging.AttributionContextTracing.withAttributionContext(AttributionContextTracing.scala:47)\n\tat com.databricks.logging.AttributionContextTracing.withAttributionContext$(AttributionContextTracing.scala:44)\n\tat com.databricks.logging.activity.ActivityContextFactory$.withAttributionContext(ActivityContextFactory.scala:52)\n\tat com.databricks.logging.activity.ActivityContextFactory$.withServiceRequestActivity(ActivityContextFactory.scala:306)\n\tat com.databricks.rpc.JettyServer$RequestManager.handleHttp(JettyServer.scala:522)\n\tat com.databricks.rpc.JettyServer$RequestManager.doPost(JettyServer.scala:415)\n\tat javax.servlet.http.HttpServlet.service(HttpServlet.java:665)\n\tat com.databricks.rpc.HttpServletWithPatch.service(HttpServletWithPatch.scala:33)\n\tat javax.servlet.http.HttpServlet.service(HttpServlet.java:750)\n\tat org.eclipse.jetty.servlet.ServletHolder.handle(ServletHolder.java:799)\n\tat org.eclipse.jetty.servlet.ServletHandler.doHandle(ServletHandler.java:554)\n\tat org.eclipse.jetty.server.handler.ScopedHandler.nextScope(ScopedHandler.java:190)\n\tat org.eclipse.jetty.servlet.ServletHandler.doScope(ServletHandler.java:505)\n\tat org.eclipse.jetty.server.handler.ScopedHandler.handle(ScopedHandler.java:141)\n\tat org.eclipse.jetty.server.handler.HandlerWrapper.handle(HandlerWrapper.java:127)\n\tat org.eclipse.jetty.server.Server.handle(Server.java:516)\n\tat org.eclipse.jetty.server.HttpChannel.lambda$handle$1(HttpChannel.java:487)\n\tat org.eclipse.jetty.server.HttpChannel.dispatch(HttpChannel.java:732)\n\tat org.eclipse.jetty.server.HttpChannel.handle(HttpChannel.java:479)\n\tat org.eclipse.jetty.server.HttpConnection.onFillable(HttpConnection.java:277)\n\tat org.eclipse.jetty.io.AbstractConnection$ReadCallback.succeeded(AbstractConnection.java:311)\n\tat org.eclipse.jetty.io.FillInterest.fillable(FillInterest.java:105)\n\tat org.eclipse.jetty.io.ChannelEndPoint$1.run(ChannelEndPoint.java:104)\n\tat org.eclipse.jetty.util.thread.strategy.EatWhatYouKill.runTask(EatWhatYouKill.java:338)\n\tat org.eclipse.jetty.util.thread.strategy.EatWhatYouKill.doProduce(EatWhatYouKill.java:315)\n\tat org.eclipse.jetty.util.thread.strategy.EatWhatYouKill.tryProduce(EatWhatYouKill.java:173)\n\tat org.eclipse.jetty.util.thread.strategy.EatWhatYouKill.run(EatWhatYouKill.java:131)\n\tat org.eclipse.jetty.util.thread.ReservedThreadExecutor$ReservedThread.run(ReservedThreadExecutor.java:409)\n\tat com.databricks.rpc.InstrumentedQueuedThreadPool$$anon$1.$anonfun$run$2(InstrumentedQueuedThreadPool.scala:110)\n\tat scala.runtime.java8.JFunction0$mcV$sp.apply(JFunction0$mcV$sp.java:23)\n\tat com.databricks.logging.AttributionContextTracing.$anonfun$withAttributionContext$1(AttributionContextTracing.scala:49)\n\tat com.databricks.logging.AttributionContext$.$anonfun$withValue$1(AttributionContext.scala:293)\n\tat scala.util.DynamicVariable.withValue(DynamicVariable.scala:62)\n\tat com.databricks.logging.AttributionContext$.withValue(AttributionContext.scala:289)\n\tat com.databricks.logging.AttributionContextTracing.withAttributionContext(AttributionContextTracing.scala:47)\n\tat com.databricks.logging.AttributionContextTracing.withAttributionContext$(AttributionContextTracing.scala:44)\n\tat com.databricks.rpc.InstrumentedQueuedThreadPool.withAttributionContext(InstrumentedQueuedThreadPool.scala:45)\n\tat com.databricks.rpc.InstrumentedQueuedThreadPool$$anon$1.$anonfun$run$1(InstrumentedQueuedThreadPool.scala:110)\n\tat scala.runtime.java8.JFunction0$mcV$sp.apply(JFunction0$mcV$sp.java:23)\n\tat com.databricks.instrumentation.QueuedThreadPoolInstrumenter.trackActiveThreads(QueuedThreadPoolInstrumenter.scala:132)\n\tat com.databricks.instrumentation.QueuedThreadPoolInstrumenter.trackActiveThreads$(QueuedThreadPoolInstrumenter.scala:129)\n\tat com.databricks.rpc.InstrumentedQueuedThreadPool.trackActiveThreads(InstrumentedQueuedThreadPool.scala:45)\n\tat com.databricks.rpc.InstrumentedQueuedThreadPool$$anon$1.run(InstrumentedQueuedThreadPool.scala:92)\n\tat org.eclipse.jetty.util.thread.QueuedThreadPool.runJob(QueuedThreadPool.java:883)\n\tat org.eclipse.jetty.util.thread.QueuedThreadPool$Runner.run(QueuedThreadPool.java:1034)\n\tat java.lang.Thread.run(Thread.java:840)\n"
       },
       "removedWidgets": [],
       "sqlProps": null,
       "stackFrames": [
        "\u001b[0;31m---------------------------------------------------------------------------\u001b[0m",
        "\u001b[0;31mExecutionError\u001b[0m                            Traceback (most recent call last)",
        "File \u001b[0;32m<command-8016099338483795>, line 8\u001b[0m\n\u001b[1;32m      1\u001b[0m configs \u001b[38;5;241m=\u001b[39m {\u001b[38;5;124m\"\u001b[39m\u001b[38;5;124mfs.azure.account.auth.type\u001b[39m\u001b[38;5;124m\"\u001b[39m: \u001b[38;5;124m\"\u001b[39m\u001b[38;5;124mOAuth\u001b[39m\u001b[38;5;124m\"\u001b[39m,\n\u001b[1;32m      2\u001b[0m \u001b[38;5;124m\"\u001b[39m\u001b[38;5;124mfs.azure.account.oauth.provider.type\u001b[39m\u001b[38;5;124m\"\u001b[39m: \u001b[38;5;124m\"\u001b[39m\u001b[38;5;124morg.apache.hadoop.fs.azurebfs.oauth2.ClientCredsTokenProvider\u001b[39m\u001b[38;5;124m\"\u001b[39m,\n\u001b[1;32m      3\u001b[0m \u001b[38;5;124m\"\u001b[39m\u001b[38;5;124mfs.azure.account.oauth2.client.id\u001b[39m\u001b[38;5;124m\"\u001b[39m: \u001b[38;5;124m\"\u001b[39m\u001b[38;5;124m3930b263-4b15-4f88-b97f-de0a15466be0\u001b[39m\u001b[38;5;124m\"\u001b[39m,\n\u001b[1;32m      4\u001b[0m \u001b[38;5;124m\"\u001b[39m\u001b[38;5;124mfs.azure.account.oauth2.client.secret\u001b[39m\u001b[38;5;124m\"\u001b[39m: \u001b[38;5;124m'\u001b[39m\u001b[38;5;124maYr8Q~wJve1-EFnMAwNExvjjbSxAHF6_NzgyMdj0\u001b[39m\u001b[38;5;124m'\u001b[39m,\n\u001b[1;32m      5\u001b[0m \u001b[38;5;124m\"\u001b[39m\u001b[38;5;124mfs.azure.account.oauth2.client.endpoint\u001b[39m\u001b[38;5;124m\"\u001b[39m: \u001b[38;5;124m\"\u001b[39m\u001b[38;5;124mhttps://login.microsoftonline.com/4d611778-f6b6-43aa-8d22-9a5287ddd261/oauth2/token\u001b[39m\u001b[38;5;124m\"\u001b[39m}\n\u001b[0;32m----> 8\u001b[0m dbutils\u001b[38;5;241m.\u001b[39mfs\u001b[38;5;241m.\u001b[39mmount(\n\u001b[1;32m      9\u001b[0m source \u001b[38;5;241m=\u001b[39m \u001b[38;5;124m\"\u001b[39m\u001b[38;5;124mabfss://tokyodatanandjha@tokyodataanandjha.dfs.core.windows.net\u001b[39m\u001b[38;5;124m\"\u001b[39m, \u001b[38;5;66;03m# contrainer@storageacc\u001b[39;00m\n\u001b[1;32m     10\u001b[0m mount_point \u001b[38;5;241m=\u001b[39m \u001b[38;5;124m\"\u001b[39m\u001b[38;5;124m/mnt/tokyo-olympic\u001b[39m\u001b[38;5;124m\"\u001b[39m,\n\u001b[1;32m     11\u001b[0m extra_configs \u001b[38;5;241m=\u001b[39m configs)\n",
        "File \u001b[0;32m/databricks/python_shell/dbruntime/dbutils.py:158\u001b[0m, in \u001b[0;36mprettify_exception_message.<locals>.f_with_exception_handling\u001b[0;34m(*args, **kwargs)\u001b[0m\n\u001b[1;32m    156\u001b[0m exc\u001b[38;5;241m.\u001b[39m__context__ \u001b[38;5;241m=\u001b[39m \u001b[38;5;28;01mNone\u001b[39;00m\n\u001b[1;32m    157\u001b[0m exc\u001b[38;5;241m.\u001b[39m__cause__ \u001b[38;5;241m=\u001b[39m \u001b[38;5;28;01mNone\u001b[39;00m\n\u001b[0;32m--> 158\u001b[0m \u001b[38;5;28;01mraise\u001b[39;00m exc\n",
        "\u001b[0;31mExecutionError\u001b[0m: An error occurred while calling o426.mount.\n: java.rmi.RemoteException: java.lang.IllegalArgumentException: requirement failed: Directory already mounted: /mnt/tokyo-olympic; nested exception is: \n\tjava.lang.IllegalArgumentException: requirement failed: Directory already mounted: /mnt/tokyo-olympic\n\tat com.databricks.backend.daemon.data.client.DbfsClient.send0(DbfsClient.scala:148)\n\tat com.databricks.backend.daemon.data.client.DbfsClient.sendIdempotent(DbfsClient.scala:70)\n\tat com.databricks.backend.daemon.dbutils.DBUtilsCore.createOrUpdateMount(DBUtilsCore.scala:1142)\n\tat com.databricks.backend.daemon.dbutils.DBUtilsCore.$anonfun$mount$1(DBUtilsCore.scala:1168)\n\tat com.databricks.logging.UsageLogging.$anonfun$recordOperation$1(UsageLogging.scala:528)\n\tat com.databricks.logging.UsageLogging.executeThunkAndCaptureResultTags$1(UsageLogging.scala:633)\n\tat com.databricks.logging.UsageLogging.$anonfun$recordOperationWithResultTags$4(UsageLogging.scala:656)\n\tat com.databricks.logging.AttributionContextTracing.$anonfun$withAttributionContext$1(AttributionContextTracing.scala:48)\n\tat com.databricks.logging.AttributionContext$.$anonfun$withValue$1(AttributionContext.scala:276)\n\tat scala.util.DynamicVariable.withValue(DynamicVariable.scala:62)\n\tat com.databricks.logging.AttributionContext$.withValue(AttributionContext.scala:272)\n\tat com.databricks.logging.AttributionContextTracing.withAttributionContext(AttributionContextTracing.scala:46)\n\tat com.databricks.logging.AttributionContextTracing.withAttributionContext$(AttributionContextTracing.scala:43)\n\tat com.databricks.backend.daemon.dbutils.FSUtils.withAttributionContext(DBUtilsCore.scala:74)\n\tat com.databricks.logging.AttributionContextTracing.withAttributionTags(AttributionContextTracing.scala:95)\n\tat com.databricks.logging.AttributionContextTracing.withAttributionTags$(AttributionContextTracing.scala:76)\n\tat com.databricks.backend.daemon.dbutils.FSUtils.withAttributionTags(DBUtilsCore.scala:74)\n\tat com.databricks.logging.UsageLogging.recordOperationWithResultTags(UsageLogging.scala:628)\n\tat com.databricks.logging.UsageLogging.recordOperationWithResultTags$(UsageLogging.scala:537)\n\tat com.databricks.backend.daemon.dbutils.FSUtils.recordOperationWithResultTags(DBUtilsCore.scala:74)\n\tat com.databricks.logging.UsageLogging.recordOperation(UsageLogging.scala:529)\n\tat com.databricks.logging.UsageLogging.recordOperation$(UsageLogging.scala:495)\n\tat com.databricks.backend.daemon.dbutils.FSUtils.recordOperation(DBUtilsCore.scala:74)\n\tat com.databricks.backend.daemon.dbutils.FSUtils.recordDbutilsFsOp(DBUtilsCore.scala:138)\n\tat com.databricks.backend.daemon.dbutils.DBUtilsCore.mount(DBUtilsCore.scala:1162)\n\tat sun.reflect.NativeMethodAccessorImpl.invoke0(Native Method)\n\tat sun.reflect.NativeMethodAccessorImpl.invoke(NativeMethodAccessorImpl.java:62)\n\tat sun.reflect.DelegatingMethodAccessorImpl.invoke(DelegatingMethodAccessorImpl.java:43)\n\tat java.lang.reflect.Method.invoke(Method.java:498)\n\tat py4j.reflection.MethodInvoker.invoke(MethodInvoker.java:244)\n\tat py4j.reflection.ReflectionEngine.invoke(ReflectionEngine.java:397)\n\tat py4j.Gateway.invoke(Gateway.java:306)\n\tat py4j.commands.AbstractCommand.invokeMethod(AbstractCommand.java:132)\n\tat py4j.commands.CallCommand.execute(CallCommand.java:79)\n\tat py4j.ClientServerConnection.waitForCommands(ClientServerConnection.java:199)\n\tat py4j.ClientServerConnection.run(ClientServerConnection.java:119)\n\tat java.lang.Thread.run(Thread.java:750)\nCaused by: java.lang.IllegalArgumentException: requirement failed: Directory already mounted: /mnt/tokyo-olympic\n\tat scala.Predef$.require(Predef.scala:281)\n\tat com.databricks.backend.daemon.data.server.DefaultMetadataManager.$anonfun$insertMount$1(MetadataManager.scala:810)\n\tat com.databricks.backend.daemon.data.server.DefaultMetadataManager.$anonfun$modifyAndVerify$2(MetadataManager.scala:1192)\n\tat scala.runtime.java8.JFunction0$mcV$sp.apply(JFunction0$mcV$sp.java:23)\n\tat com.databricks.backend.daemon.data.server.DefaultMetadataManager.withRetries(MetadataManager.scala:965)\n\tat com.databricks.backend.daemon.data.server.DefaultMetadataManager.modifyAndVerify(MetadataManager.scala:1181)\n\tat com.databricks.backend.daemon.data.server.DefaultMetadataManager.insertMount(MetadataManager.scala:818)\n\tat com.databricks.backend.daemon.data.server.handler.MountHandler.receive(MountHandler.scala:131)\n\tat com.databricks.backend.daemon.data.server.handler.DbfsRequestHandler.receive(DbfsRequestHandler.scala:16)\n\tat com.databricks.backend.daemon.data.server.handler.DbfsRequestHandler.receive$(DbfsRequestHandler.scala:15)\n\tat com.databricks.backend.daemon.data.server.handler.MountHandler.receive(MountHandler.scala:39)\n\tat com.databricks.backend.daemon.data.server.session.SessionContext.$anonfun$queryHandlers$1(SessionContext.scala:54)\n\tat com.databricks.backend.daemon.data.server.session.SessionContext.$anonfun$queryHandlers$1$adapted(SessionContext.scala:53)\n\tat scala.collection.immutable.List.foreach(List.scala:431)\n\tat com.databricks.backend.daemon.data.server.session.SessionContext.queryHandlers(SessionContext.scala:53)\n\tat com.databricks.backend.daemon.data.server.DbfsServerBackend$$anonfun$receive$4.$anonfun$applyOrElse$10(DbfsServerBackend.scala:482)\n\tat com.databricks.logging.AttributionContextTracing.$anonfun$withAttributionContext$1(AttributionContextTracing.scala:49)\n\tat com.databricks.logging.AttributionContext$.$anonfun$withValue$1(AttributionContext.scala:293)\n\tat scala.util.DynamicVariable.withValue(DynamicVariable.scala:62)\n\tat com.databricks.logging.AttributionContext$.withValue(AttributionContext.scala:289)\n\tat com.databricks.logging.AttributionContextTracing.withAttributionContext(AttributionContextTracing.scala:47)\n\tat com.databricks.logging.AttributionContextTracing.withAttributionContext$(AttributionContextTracing.scala:44)\n\tat com.databricks.rpc.ServerBackend.withAttributionContext(ServerBackend.scala:22)\n\tat com.databricks.logging.AttributionContextTracing.withAttributionTags(AttributionContextTracing.scala:96)\n\tat com.databricks.logging.AttributionContextTracing.withAttributionTags$(AttributionContextTracing.scala:77)\n\tat com.databricks.rpc.ServerBackend.withAttributionTags(ServerBackend.scala:22)\n\tat com.databricks.backend.daemon.data.server.DbfsServerBackend$$anonfun$receive$4.applyOrElse(DbfsServerBackend.scala:482)\n\tat com.databricks.backend.daemon.data.server.DbfsServerBackend$$anonfun$receive$4.applyOrElse(DbfsServerBackend.scala:371)\n\tat com.databricks.rpc.ServerBackend.$anonfun$internalReceive0$2(ServerBackend.scala:174)\n\tat com.databricks.rpc.ServerBackend$$anonfun$commonReceive$1.applyOrElse(ServerBackend.scala:200)\n\tat com.databricks.rpc.ServerBackend$$anonfun$commonReceive$1.applyOrElse(ServerBackend.scala:200)\n\tat com.databricks.rpc.ServerBackend.internalReceive0(ServerBackend.scala:171)\n\tat com.databricks.rpc.ServerBackend.$anonfun$internalReceive$1(ServerBackend.scala:147)\n\tat com.databricks.logging.UsageLogging.$anonfun$recordOperation$1(UsageLogging.scala:508)\n\tat com.databricks.logging.UsageLogging.executeThunkAndCaptureResultTags$1(UsageLogging.scala:613)\n\tat com.databricks.logging.UsageLogging.$anonfun$recordOperationWithResultTags$4(UsageLogging.scala:636)\n\tat com.databricks.logging.AttributionContextTracing.$anonfun$withAttributionContext$1(AttributionContextTracing.scala:49)\n\tat com.databricks.logging.AttributionContext$.$anonfun$withValue$1(AttributionContext.scala:293)\n\tat scala.util.DynamicVariable.withValue(DynamicVariable.scala:62)\n\tat com.databricks.logging.AttributionContext$.withValue(AttributionContext.scala:289)\n\tat com.databricks.logging.AttributionContextTracing.withAttributionContext(AttributionContextTracing.scala:47)\n\tat com.databricks.logging.AttributionContextTracing.withAttributionContext$(AttributionContextTracing.scala:44)\n\tat com.databricks.rpc.ServerBackend.withAttributionContext(ServerBackend.scala:22)\n\tat com.databricks.logging.AttributionContextTracing.withAttributionTags(AttributionContextTracing.scala:96)\n\tat com.databricks.logging.AttributionContextTracing.withAttributionTags$(AttributionContextTracing.scala:77)\n\tat com.databricks.rpc.ServerBackend.withAttributionTags(ServerBackend.scala:22)\n\tat com.databricks.logging.UsageLogging.recordOperationWithResultTags(UsageLogging.scala:608)\n\tat com.databricks.logging.UsageLogging.recordOperationWithResultTags$(UsageLogging.scala:517)\n\tat com.databricks.rpc.ServerBackend.recordOperationWithResultTags(ServerBackend.scala:22)\n\tat com.databricks.logging.UsageLogging.recordOperation(UsageLogging.scala:509)\n\tat com.databricks.logging.UsageLogging.recordOperation$(UsageLogging.scala:475)\n\tat com.databricks.rpc.ServerBackend.recordOperation(ServerBackend.scala:22)\n\tat com.databricks.rpc.ServerBackend.internalReceive(ServerBackend.scala:146)\n\tat com.databricks.rpc.JettyServer$RequestManager.handleRPC(JettyServer.scala:1037)\n\tat com.databricks.rpc.JettyServer$RequestManager.handleRequestAndRespond(JettyServer.scala:957)\n\tat com.databricks.rpc.JettyServer$RequestManager.$anonfun$handleHttp$6(JettyServer.scala:552)\n\tat com.databricks.rpc.JettyServer$RequestManager.$anonfun$handleHttp$6$adapted(JettyServer.scala:522)\n\tat com.databricks.logging.activity.ActivityContextFactory$.$anonfun$withActivityInternal$12(ActivityContextFactory.scala:829)\n\tat com.databricks.logging.AttributionContextTracing.$anonfun$withAttributionContext$1(AttributionContextTracing.scala:49)\n\tat com.databricks.logging.AttributionContext$.$anonfun$withValue$1(AttributionContext.scala:293)\n\tat scala.util.DynamicVariable.withValue(DynamicVariable.scala:62)\n\tat com.databricks.logging.AttributionContext$.withValue(AttributionContext.scala:289)\n\tat com.databricks.logging.AttributionContextTracing.withAttributionContext(AttributionContextTracing.scala:47)\n\tat com.databricks.logging.AttributionContextTracing.withAttributionContext$(AttributionContextTracing.scala:44)\n\tat com.databricks.logging.activity.ActivityContextFactory$.withAttributionContext(ActivityContextFactory.scala:52)\n\tat com.databricks.logging.activity.ActivityContextFactory$.$anonfun$withActivityInternal$2(ActivityContextFactory.scala:829)\n\tat com.databricks.context.integrity.IntegrityCheckContext$ThreadLocalStorage$.withValue(IntegrityCheckContext.scala:73)\n\tat com.databricks.logging.activity.ActivityContextFactory$.withActivityInternal(ActivityContextFactory.scala:792)\n\tat com.databricks.logging.activity.ActivityContextFactory$.withActivityInternal(ActivityContextFactory.scala:774)\n\tat com.databricks.logging.activity.ActivityContextFactory$.$anonfun$withServiceRequestActivity$16(ActivityContextFactory.scala:306)\n\tat com.databricks.logging.AttributionContextTracing.$anonfun$withAttributionContext$1(AttributionContextTracing.scala:49)\n\tat com.databricks.logging.AttributionContext$.$anonfun$withValue$1(AttributionContext.scala:293)\n\tat scala.util.DynamicVariable.withValue(DynamicVariable.scala:62)\n\tat com.databricks.logging.AttributionContext$.withValue(AttributionContext.scala:289)\n\tat com.databricks.logging.AttributionContextTracing.withAttributionContext(AttributionContextTracing.scala:47)\n\tat com.databricks.logging.AttributionContextTracing.withAttributionContext$(AttributionContextTracing.scala:44)\n\tat com.databricks.logging.activity.ActivityContextFactory$.withAttributionContext(ActivityContextFactory.scala:52)\n\tat com.databricks.logging.activity.ActivityContextFactory$.withServiceRequestActivity(ActivityContextFactory.scala:306)\n\tat com.databricks.rpc.JettyServer$RequestManager.handleHttp(JettyServer.scala:522)\n\tat com.databricks.rpc.JettyServer$RequestManager.doPost(JettyServer.scala:415)\n\tat javax.servlet.http.HttpServlet.service(HttpServlet.java:665)\n\tat com.databricks.rpc.HttpServletWithPatch.service(HttpServletWithPatch.scala:33)\n\tat javax.servlet.http.HttpServlet.service(HttpServlet.java:750)\n\tat org.eclipse.jetty.servlet.ServletHolder.handle(ServletHolder.java:799)\n\tat org.eclipse.jetty.servlet.ServletHandler.doHandle(ServletHandler.java:554)\n\tat org.eclipse.jetty.server.handler.ScopedHandler.nextScope(ScopedHandler.java:190)\n\tat org.eclipse.jetty.servlet.ServletHandler.doScope(ServletHandler.java:505)\n\tat org.eclipse.jetty.server.handler.ScopedHandler.handle(ScopedHandler.java:141)\n\tat org.eclipse.jetty.server.handler.HandlerWrapper.handle(HandlerWrapper.java:127)\n\tat org.eclipse.jetty.server.Server.handle(Server.java:516)\n\tat org.eclipse.jetty.server.HttpChannel.lambda$handle$1(HttpChannel.java:487)\n\tat org.eclipse.jetty.server.HttpChannel.dispatch(HttpChannel.java:732)\n\tat org.eclipse.jetty.server.HttpChannel.handle(HttpChannel.java:479)\n\tat org.eclipse.jetty.server.HttpConnection.onFillable(HttpConnection.java:277)\n\tat org.eclipse.jetty.io.AbstractConnection$ReadCallback.succeeded(AbstractConnection.java:311)\n\tat org.eclipse.jetty.io.FillInterest.fillable(FillInterest.java:105)\n\tat org.eclipse.jetty.io.ChannelEndPoint$1.run(ChannelEndPoint.java:104)\n\tat org.eclipse.jetty.util.thread.strategy.EatWhatYouKill.runTask(EatWhatYouKill.java:338)\n\tat org.eclipse.jetty.util.thread.strategy.EatWhatYouKill.doProduce(EatWhatYouKill.java:315)\n\tat org.eclipse.jetty.util.thread.strategy.EatWhatYouKill.tryProduce(EatWhatYouKill.java:173)\n\tat org.eclipse.jetty.util.thread.strategy.EatWhatYouKill.run(EatWhatYouKill.java:131)\n\tat org.eclipse.jetty.util.thread.ReservedThreadExecutor$ReservedThread.run(ReservedThreadExecutor.java:409)\n\tat com.databricks.rpc.InstrumentedQueuedThreadPool$$anon$1.$anonfun$run$2(InstrumentedQueuedThreadPool.scala:110)\n\tat scala.runtime.java8.JFunction0$mcV$sp.apply(JFunction0$mcV$sp.java:23)\n\tat com.databricks.logging.AttributionContextTracing.$anonfun$withAttributionContext$1(AttributionContextTracing.scala:49)\n\tat com.databricks.logging.AttributionContext$.$anonfun$withValue$1(AttributionContext.scala:293)\n\tat scala.util.DynamicVariable.withValue(DynamicVariable.scala:62)\n\tat com.databricks.logging.AttributionContext$.withValue(AttributionContext.scala:289)\n\tat com.databricks.logging.AttributionContextTracing.withAttributionContext(AttributionContextTracing.scala:47)\n\tat com.databricks.logging.AttributionContextTracing.withAttributionContext$(AttributionContextTracing.scala:44)\n\tat com.databricks.rpc.InstrumentedQueuedThreadPool.withAttributionContext(InstrumentedQueuedThreadPool.scala:45)\n\tat com.databricks.rpc.InstrumentedQueuedThreadPool$$anon$1.$anonfun$run$1(InstrumentedQueuedThreadPool.scala:110)\n\tat scala.runtime.java8.JFunction0$mcV$sp.apply(JFunction0$mcV$sp.java:23)\n\tat com.databricks.instrumentation.QueuedThreadPoolInstrumenter.trackActiveThreads(QueuedThreadPoolInstrumenter.scala:132)\n\tat com.databricks.instrumentation.QueuedThreadPoolInstrumenter.trackActiveThreads$(QueuedThreadPoolInstrumenter.scala:129)\n\tat com.databricks.rpc.InstrumentedQueuedThreadPool.trackActiveThreads(InstrumentedQueuedThreadPool.scala:45)\n\tat com.databricks.rpc.InstrumentedQueuedThreadPool$$anon$1.run(InstrumentedQueuedThreadPool.scala:92)\n\tat org.eclipse.jetty.util.thread.QueuedThreadPool.runJob(QueuedThreadPool.java:883)\n\tat org.eclipse.jetty.util.thread.QueuedThreadPool$Runner.run(QueuedThreadPool.java:1034)\n\tat java.lang.Thread.run(Thread.java:840)\n"
       ],
       "type": "baseError"
      }
     },
     "output_type": "display_data"
    }
   ],
   "source": [
    "configs = {\"fs.azure.account.auth.type\": \"OAuth\",\n",
    "\"fs.azure.account.oauth.provider.type\": \"org.apache.hadoop.fs.azurebfs.oauth2.ClientCredsTokenProvider\",\n",
    "\"fs.azure.account.oauth2.client.id\": \"\",\n",
    "\"fs.azure.account.oauth2.client.secret\": '',\n",
    "\"fs.azure.account.oauth2.client.endpoint\": \"https://login.microsoftonline.com//oauth2/token\"}\n",
    "\n",
    "\n",
    "dbutils.fs.mount(\n",
    "source = \"abfss://tokyodatanandjha@tokyodataanandjha.dfs.core.windows.net\", # contrainer@storageacc\n",
    "mount_point = \"/mnt/tokyo-olympic\",\n",
    "extra_configs = configs)"
   ]
  },
  {
   "cell_type": "code",
   "execution_count": 0,
   "metadata": {
    "application/vnd.databricks.v1+cell": {
     "cellMetadata": {
      "byteLimit": 2048000,
      "rowLimit": 10000
     },
     "inputWidgets": {},
     "nuid": "08eea221-a348-469b-92fc-7b9b02271a12",
     "showTitle": false,
     "tableResultSettingsMap": {},
     "title": ""
    }
   },
   "outputs": [
    {
     "data": {
      "text/html": [
       "<style scoped>\n",
       "  .table-result-container {\n",
       "    max-height: 300px;\n",
       "    overflow: auto;\n",
       "  }\n",
       "  table, th, td {\n",
       "    border: 1px solid black;\n",
       "    border-collapse: collapse;\n",
       "  }\n",
       "  th, td {\n",
       "    padding: 5px;\n",
       "  }\n",
       "  th {\n",
       "    text-align: left;\n",
       "  }\n",
       "</style><div class='table-result-container'><table class='table-result'><thead style='background-color: white'><tr><th>path</th><th>name</th><th>size</th><th>modificationTime</th></tr></thead><tbody><tr><td>dbfs:/mnt/tokyo-olympic/medals.csv</td><td>medals.csv</td><td>418492</td><td>1740869290000</td></tr><tr><td>dbfs:/mnt/tokyo-olympic/raw data/</td><td>raw data/</td><td>0</td><td>1740685787000</td></tr><tr><td>dbfs:/mnt/tokyo-olympic/transformed data/</td><td>transformed data/</td><td>0</td><td>1740685803000</td></tr></tbody></table></div>"
      ]
     },
     "metadata": {
      "application/vnd.databricks.v1+output": {
       "addedWidgets": {},
       "aggData": [],
       "aggError": "",
       "aggOverflow": false,
       "aggSchema": [],
       "aggSeriesLimitReached": false,
       "aggType": "",
       "arguments": {},
       "columnCustomDisplayInfos": {},
       "data": [
        [
         "dbfs:/mnt/tokyo-olympic/medals.csv",
         "medals.csv",
         418492,
         1740869290000
        ],
        [
         "dbfs:/mnt/tokyo-olympic/raw data/",
         "raw data/",
         0,
         1740685787000
        ],
        [
         "dbfs:/mnt/tokyo-olympic/transformed data/",
         "transformed data/",
         0,
         1740685803000
        ]
       ],
       "datasetInfos": [],
       "dbfsResultPath": null,
       "isJsonSchema": true,
       "metadata": {},
       "overflow": false,
       "plotOptions": {
        "customPlotOptions": {},
        "displayType": "table",
        "pivotAggregation": null,
        "pivotColumns": null,
        "xColumns": null,
        "yColumns": null
       },
       "removedWidgets": [],
       "schema": [
        {
         "metadata": "{}",
         "name": "path",
         "type": "\"string\""
        },
        {
         "metadata": "{}",
         "name": "name",
         "type": "\"string\""
        },
        {
         "metadata": "{}",
         "name": "size",
         "type": "\"long\""
        },
        {
         "metadata": "{}",
         "name": "modificationTime",
         "type": "\"long\""
        }
       ],
       "type": "table"
      }
     },
     "output_type": "display_data"
    }
   ],
   "source": [
    "#checking all the files in the mnt location (in the data lake)\n",
    "files = dbutils.fs.ls('/mnt/tokyo-olympic')\n",
    "display(dbutils.fs.ls('/mnt/tokyo-olympic'))"
   ]
  },
  {
   "cell_type": "code",
   "execution_count": 0,
   "metadata": {
    "application/vnd.databricks.v1+cell": {
     "cellMetadata": {
      "byteLimit": 2048000,
      "rowLimit": 10000
     },
     "inputWidgets": {},
     "nuid": "ffec80fa-43b9-4add-ad02-26f78203214a",
     "showTitle": false,
     "tableResultSettingsMap": {},
     "title": ""
    }
   },
   "outputs": [],
   "source": [
    "athletes = spark.read.format(\"csv\").option(\"header\", \"true\").option(\"inferSchema\", \"true\").load(\"/mnt/tokyo-olympic/raw data/athletes.csv\")\n",
    "coaches = spark.read.format(\"csv\").option(\"header\", \"true\").option(\"inferSchema\", \"true\").load(\"/mnt/tokyo-olympic/raw data/coaches.csv\")\n",
    "entriesGender = spark.read.format(\"csv\").option(\"header\", \"true\").load(\"/mnt/tokyo-olympic/raw data/entriesGender.csv\")\n",
    "medals = spark.read.format(\"csv\").option(\"header\", \"true\").option(\"inferSchema\", \"true\").load(\"/mnt/tokyo-olympic/raw data/medals.csv\")\n",
    "teams = spark.read.format(\"csv\").option(\"header\", \"true\").option(\"inferSchema\", \"true\").load(\"/mnt/tokyo-olympic/raw data/teams.csv\")"
   ]
  },
  {
   "cell_type": "code",
   "execution_count": 0,
   "metadata": {
    "application/vnd.databricks.v1+cell": {
     "cellMetadata": {
      "byteLimit": 2048000,
      "rowLimit": 10000
     },
     "inputWidgets": {},
     "nuid": "e167d763-32f5-4955-b7b6-46710e644b79",
     "showTitle": false,
     "tableResultSettingsMap": {},
     "title": ""
    }
   },
   "outputs": [
    {
     "data": {
      "text/html": [
       "<style scoped>\n",
       "  .table-result-container {\n",
       "    max-height: 300px;\n",
       "    overflow: auto;\n",
       "  }\n",
       "  table, th, td {\n",
       "    border: 1px solid black;\n",
       "    border-collapse: collapse;\n",
       "  }\n",
       "  th, td {\n",
       "    padding: 5px;\n",
       "  }\n",
       "  th {\n",
       "    text-align: left;\n",
       "  }\n",
       "</style><div class='table-result-container'><table class='table-result'><thead style='background-color: white'><tr><th>Name</th><th>Country</th><th>Discipline</th><th>Event</th></tr></thead><tbody><tr><td>ABDELMAGID Wael</td><td>Egypt</td><td>Football</td><td>null</td></tr><tr><td>ABE Junya</td><td>Japan</td><td>Volleyball</td><td>null</td></tr><tr><td>ABE Katsuhiko</td><td>Japan</td><td>Basketball</td><td>null</td></tr><tr><td>ADAMA Cherif</td><td>C�te d'Ivoire</td><td>Football</td><td>null</td></tr><tr><td>AGEBA Yuya</td><td>Japan</td><td>Volleyball</td><td>null</td></tr><tr><td>AIKMAN Siegfried Gottlieb</td><td>Japan</td><td>Hockey</td><td>Men</td></tr><tr><td>AL SAADI Kais</td><td>Germany</td><td>Hockey</td><td>Men</td></tr><tr><td>ALAMEDA Lonni</td><td>Canada</td><td>Baseball/Softball</td><td>Softball</td></tr><tr><td>ALEKNO Vladimir</td><td>Islamic Republic of Iran</td><td>Volleyball</td><td>Men</td></tr><tr><td>ALEKSEEV Alexey</td><td>ROC</td><td>Handball</td><td>Women</td></tr><tr><td>ALLER CARBALLO Manuel Angel</td><td>Spain</td><td>Basketball</td><td>null</td></tr><tr><td>ALSHEHRI Saad</td><td>Saudi Arabia</td><td>Football</td><td>Men</td></tr><tr><td>ALY Kamal</td><td>Egypt</td><td>Football</td><td>null</td></tr><tr><td>AMAYA GAITAN Fabian</td><td>Puerto Rico</td><td>Basketball</td><td>null</td></tr><tr><td>AMO AGUADO Pablo</td><td>Spain</td><td>Football</td><td>null</td></tr><tr><td>ANDONOVSKI Vlatko</td><td>United States of America</td><td>Football</td><td>Women</td></tr><tr><td>ANNAN Alyson</td><td>Netherlands</td><td>Hockey</td><td>Women</td></tr><tr><td>ARNAU CREUS Xavier</td><td>Japan</td><td>Hockey</td><td>Women</td></tr><tr><td>ARNOLD Graham</td><td>Australia</td><td>Football</td><td>Men</td></tr><tr><td>AXNER Tomas</td><td>Sweden</td><td>Handball</td><td>Women</td></tr><tr><td>BABER Gareth Colin</td><td>Fiji</td><td>Rugby Sevens</td><td>Men</td></tr><tr><td>BACIU Horatiu</td><td>Romania</td><td>Football</td><td>null</td></tr><tr><td>BANBULA Wojciech</td><td>Poland</td><td>Volleyball</td><td>null</td></tr><tr><td>BAO Zhuang</td><td>People's Republic of China</td><td>Volleyball</td><td>null</td></tr><tr><td>BARYLA Pawel</td><td>ROC</td><td>Volleyball</td><td>null</td></tr><tr><td>BASILIO Mel</td><td>Canada</td><td>Baseball/Softball</td><td>Softball</td></tr><tr><td>BASSO Paola</td><td>Great Britain</td><td>Artistic Swimming</td><td>Duet</td></tr><tr><td>BATCH Colin</td><td>Australia</td><td>Hockey</td><td>Men</td></tr><tr><td>BATISTA Fernando</td><td>Argentina</td><td>Football</td><td>Men</td></tr><tr><td>BATISTA SANTIAGO Gerardo</td><td>Puerto Rico</td><td>Basketball</td><td>Women</td></tr><tr><td>BENCIC Filip</td><td>Serbia</td><td>Basketball</td><td>null</td></tr><tr><td>BERG Laura</td><td>United States of America</td><td>Baseball/Softball</td><td>Softball</td></tr><tr><td>BERGE Christian</td><td>Norway</td><td>Handball</td><td>Men</td></tr><tr><td>BILLAVA SURESH Ankitha</td><td>India</td><td>Hockey</td><td>Women</td></tr><tr><td>BIRO Attila</td><td>Hungary</td><td>Water Polo</td><td>Women</td></tr><tr><td>BLECHER SIDOROVA Svetlana</td><td>Israel</td><td>Artistic Swimming</td><td>Duet</td></tr><tr><td>BLENGINI Gianlorenzo</td><td>Italy</td><td>Volleyball</td><td>Men</td></tr><tr><td>BOLTON Alice</td><td>Nigeria</td><td>Basketball</td><td>null</td></tr><tr><td>BREIVIK Marit</td><td>Norway</td><td>Handball</td><td>null</td></tr><tr><td>BRODERICK William</td><td>Brazil</td><td>Rugby Sevens</td><td>Women</td></tr><tr><td>BRONDELLO Sandy</td><td>Australia</td><td>Basketball</td><td>Women</td></tr><tr><td>BROWN Chris</td><td>United States of America</td><td>Rugby Sevens</td><td>Women</td></tr><tr><td>BROWN Michael</td><td>Nigeria</td><td>Basketball</td><td>Men</td></tr><tr><td>BRUN Aristide</td><td>Austria</td><td>Artistic Swimming</td><td>null</td></tr><tr><td>BUNTING Allan</td><td>New Zealand</td><td>Rugby Sevens</td><td>Women</td></tr><tr><td>BURLANDO Giovanna</td><td>Italy</td><td>Artistic Swimming</td><td>null</td></tr><tr><td>BUSATO Sergio</td><td>ROC</td><td>Volleyball</td><td>Women</td></tr><tr><td>BUSENKELL Axel</td><td>Germany</td><td>Football</td><td>null</td></tr><tr><td>BYRNE Mick</td><td>Canada</td><td>Rugby Sevens</td><td>Women</td></tr><tr><td>CADENAS MONTANES Manuel</td><td>Argentina</td><td>Handball</td><td>Men</td></tr><tr><td>CALDAS Max</td><td>Netherlands</td><td>Hockey</td><td>Men</td></tr><tr><td>CAMPAGNA Alessandro</td><td>Italy</td><td>Water Polo</td><td>Men</td></tr><tr><td>CARO Carlos</td><td>Mexico</td><td>Baseball/Softball</td><td>Softball</td></tr><tr><td>CASAREZ Mary Lucy</td><td>Japan</td><td>Baseball/Softball</td><td>Softball</td></tr><tr><td>CASTRO Alex</td><td>Chile</td><td>Football</td><td>null</td></tr><tr><td>CHAMBERS Cheryl</td><td>Australia</td><td>Basketball</td><td>null</td></tr><tr><td>CHEPAK Anastasiya</td><td>Egypt</td><td>Artistic Swimming</td><td>Duet</td></tr><tr><td>CHEPAK Anastasiya</td><td>Egypt</td><td>Artistic Swimming</td><td>Team</td></tr><tr><td>CHERNETSKA Natalia</td><td>Greece</td><td>Artistic Swimming</td><td>Duet</td></tr><tr><td>CHERNETSKA Natalia</td><td>Greece</td><td>Artistic Swimming</td><td>Team</td></tr><tr><td>CHIARI Simona</td><td>San Marino</td><td>Artistic Swimming</td><td>null</td></tr><tr><td>CHOI Il Eon</td><td>Republic of Korea</td><td>Baseball/Softball</td><td>Baseball</td></tr><tr><td>CHUN Jooweon</td><td>Republic of Korea</td><td>Basketball</td><td>Women</td></tr><tr><td>CLARK STEPHEN Gregg</td><td>India</td><td>Hockey</td><td>Men</td></tr><tr><td>COLLET Vincent</td><td>France</td><td>Basketball</td><td>Men</td></tr><tr><td>COMMENS Adam</td><td>Belgium</td><td>Hockey</td><td>null</td></tr><tr><td>COURTEIX David</td><td>France</td><td>Rugby Sevens</td><td>Women</td></tr><tr><td>CRESPI JAUME Margalida</td><td>Colombia</td><td>Artistic Swimming</td><td>null</td></tr><tr><td>CRUZ Filipe</td><td>Angola</td><td>Handball</td><td>Women</td></tr><tr><td>DAL ZOTTO Renan</td><td>Brazil</td><td>Volleyball</td><td>Men</td></tr><tr><td>DANCER Sean</td><td>Ireland</td><td>Hockey</td><td>Women</td></tr><tr><td>DANCHENKO Tatiana</td><td>ROC</td><td>Artistic Swimming</td><td>Duet</td></tr><tr><td>DAVY Jeremy</td><td>Australia</td><td>Hockey</td><td>Women</td></tr><tr><td>DAZA Fabian</td><td>Chile</td><td>Football</td><td>null</td></tr><tr><td>de la FUENTE CASTILLO Luis</td><td>Spain</td><td>Football</td><td>Men</td></tr><tr><td>de MOURA Luizomar</td><td>Kenya</td><td>Volleyball</td><td>Women</td></tr><tr><td>de OLIVEIRA Marcus Ricardo</td><td>Brazil</td><td>Handball</td><td>Men</td></tr><tr><td>de VOS Robbert-Jan</td><td>Netherlands</td><td>Hockey</td><td>null</td></tr><tr><td>DELANEY Mike</td><td>New Zealand</td><td>Hockey</td><td>null</td></tr><tr><td>DEMCHENKO Zhanna</td><td>Kazakhstan</td><td>Artistic Swimming</td><td>Duet</td></tr><tr><td>DIAZ FERNANDEZ Jenaro Manuel</td><td>Spain</td><td>Basketball</td><td>null</td></tr><tr><td>DIAZ HENRIQUEZ Nestor</td><td>Dominican Republic</td><td>Basketball</td><td>null</td></tr><tr><td>DIDENKO Natalia</td><td>Spain</td><td>Artistic Swimming</td><td>null</td></tr><tr><td>DOBSON Howard</td><td>United States of America</td><td>Baseball/Softball</td><td>Softball</td></tr><tr><td>DORE Karine</td><td>Canada</td><td>Artistic Swimming</td><td>null</td></tr><tr><td>DROBNJAK Dragisa</td><td>Slovenia</td><td>Basketball</td><td>null</td></tr><tr><td>DUENAS de GALARZA Jorge</td><td>Brazil</td><td>Handball</td><td>Women</td></tr><tr><td>DURO Fernando</td><td>Venezuela</td><td>Basketball</td><td>null</td></tr><tr><td>DYKSTRA Trisha</td><td>Australia</td><td>Basketball</td><td>null</td></tr><tr><td>ECHEZURIA Manuel</td><td>Venezuela</td><td>Basketball</td><td>null</td></tr><tr><td>EDDY Anthony</td><td>Ireland</td><td>Rugby Sevens</td><td>Men</td></tr><tr><td>EITOKU Atsushi</td><td>Japan</td><td>Artistic Swimming</td><td>null</td></tr><tr><td>ELAFANDI Nour</td><td>Egypt</td><td>Artistic Swimming</td><td>Duet</td></tr><tr><td>ELAFANDI Nour</td><td>Egypt</td><td>Artistic Swimming</td><td>Team</td></tr><tr><td>ELEK Gabor</td><td>Hungary</td><td>Handball</td><td>Women</td></tr><tr><td>ENGELLAND Chip</td><td>United States of America</td><td>Basketball</td><td>null</td></tr><tr><td>ENQUIST Susan</td><td>United States of America</td><td>Volleyball</td><td>null</td></tr><tr><td>ERIKSEN Ken</td><td>United States of America</td><td>Baseball/Softball</td><td>Softball</td></tr><tr><td>EWING Gareth</td><td>South Africa</td><td>Hockey</td><td>Men</td></tr><tr><td>FABRE Julie</td><td>France</td><td>Artistic Swimming</td><td>Duet</td></tr><tr><td>FAHMY LATIF Yasmine</td><td>Egypt</td><td>Artistic Swimming</td><td>null</td></tr><tr><td>FALERO Miguel</td><td>Honduras</td><td>Football</td><td>Men</td></tr><tr><td>FARINELLI Roberta</td><td>Italy</td><td>Artistic Swimming</td><td>Duet</td></tr><tr><td>FARINELLI Roberta</td><td>Italy</td><td>Artistic Swimming</td><td>Team</td></tr><tr><td>FATOVIC Elvis</td><td>Australia</td><td>Water Polo</td><td>Men</td></tr><tr><td>FAVAREL Pablo</td><td>Venezuela</td><td>Basketball</td><td>null</td></tr><tr><td>FEDIUSHYNA Tetiana</td><td>Ukraine</td><td>Artistic Swimming</td><td>null</td></tr><tr><td>FERRARO Hernan</td><td>Argentina</td><td>Volleyball</td><td>Women</td></tr><tr><td>FISH Nathan</td><td>Israel</td><td>Baseball/Softball</td><td>Baseball</td></tr><tr><td>FLOWERS Tairia</td><td>United States of America</td><td>Baseball/Softball</td><td>Softball</td></tr><tr><td>FOIREST Laurent</td><td>France</td><td>Basketball</td><td>null</td></tr><tr><td>FORREST Scott</td><td>Great Britain</td><td>Rugby Sevens</td><td>Women</td></tr><tr><td>FRIDAY Mike</td><td>United States of America</td><td>Rugby Sevens</td><td>Men</td></tr><tr><td>FUENTES Andrea</td><td>United States of America</td><td>Artistic Swimming</td><td>Duet</td></tr><tr><td>FUERBRINGER Matthew</td><td>United States of America</td><td>Volleyball</td><td>null</td></tr><tr><td>FUJIKI Mayuko</td><td>Spain</td><td>Artistic Swimming</td><td>Duet</td></tr><tr><td>FUJIKI Mayuko</td><td>Spain</td><td>Artistic Swimming</td><td>Team</td></tr><tr><td>FULI Saiasi</td><td>Fiji</td><td>Rugby Sevens</td><td>Women</td></tr><tr><td>GADEMAN Pasha</td><td>Canada</td><td>Hockey</td><td>Men</td></tr><tr><td>GAIDUKOV Aleksandr</td><td>ROC</td><td>Water Polo</td><td>Women</td></tr><tr><td>GARCIA HERRERA Manuel</td><td>Dominican Republic</td><td>Baseball/Softball</td><td>Baseball</td></tr><tr><td>GARCIA Nestor</td><td>Dominican Republic</td><td>Basketball</td><td>null</td></tr><tr><td>GARCIA PIZARRO Paula</td><td>Colombia</td><td>Artistic Swimming</td><td>Duet</td></tr><tr><td>GARNIER Valerie</td><td>France</td><td>Basketball</td><td>Women</td></tr><tr><td>GERHARDSSON Peter</td><td>Sweden</td><td>Football</td><td>Women</td></tr><tr><td>GIACOBBE Antonio</td><td>Tunisia</td><td>Volleyball</td><td>Men</td></tr><tr><td>GIALLOMBARDO Patrizia</td><td>Italy</td><td>Artistic Swimming</td><td>Duet</td></tr><tr><td>GIALLOMBARDO Patrizia</td><td>Italy</td><td>Artistic Swimming</td><td>Team</td></tr><tr><td>GILLE Guillaume</td><td>France</td><td>Handball</td><td>Men</td></tr><tr><td>GINZBURG Ronen</td><td>Czech Republic</td><td>Basketball</td><td>Men</td></tr><tr><td>GISLASON Alfred</td><td>Germany</td><td>Handball</td><td>Men</td></tr><tr><td>GOJKOVIC Vladimir</td><td>Montenegro</td><td>Water Polo</td><td>Men</td></tr><tr><td>GOMEZ CORA Santiago</td><td>Argentina</td><td>Rugby Sevens</td><td>Men</td></tr><tr><td>GONZALEZ Anibal</td><td>Mexico</td><td>Football</td><td>null</td></tr><tr><td>GONZALEZ JARENO Angel</td><td>Spain</td><td>Basketball</td><td>null</td></tr><tr><td>GOORJIAN Brian</td><td>Australia</td><td>Basketball</td><td>Men</td></tr><tr><td>GORDO MANSILLA Juan David</td><td>Spain</td><td>Football</td><td>null</td></tr><tr><td>GRAINGER Adam</td><td>Ireland</td><td>Hockey</td><td>null</td></tr><tr><td>GRAUPERA Cristina</td><td>Greece</td><td>Artistic Swimming</td><td>null</td></tr><tr><td>GRAZIOSI Gianluca</td><td>Italy</td><td>Volleyball</td><td>null</td></tr><tr><td>GRESKOWIAK Arne</td><td>Germany</td><td>Basketball</td><td>null</td></tr><tr><td>GRYZUNOVA Elena</td><td>ROC</td><td>Artistic Swimming</td><td>Team</td></tr><tr><td>GUERRERO LOPEZ Julen</td><td>Spain</td><td>Football</td><td>null</td></tr><tr><td>GUERRERO Rolando</td><td>Mexico</td><td>Baseball/Softball</td><td>Softball</td></tr><tr><td>GUERRERO Rolando</td><td>Mexico</td><td>Baseball/Softball</td><td>Softball</td></tr><tr><td>GUIDETTI Giovanni</td><td>Turkey</td><td>Volleyball</td><td>Women</td></tr><tr><td>GUILLEN Ronald</td><td>Venezuela</td><td>Basketball</td><td>null</td></tr><tr><td>GUIMARAES Jose Roberto</td><td>Brazil</td><td>Volleyball</td><td>Women</td></tr><tr><td>GUSTAVSSON Tony</td><td>Australia</td><td>Football</td><td>Women</td></tr><tr><td>HAGER Mark</td><td>Great Britain</td><td>Hockey</td><td>Women</td></tr><tr><td>HAIDARA Soualiho</td><td>C�te d'Ivoire</td><td>Football</td><td>Men</td></tr><tr><td>HALD Simon</td><td>Denmark</td><td>Handball</td><td>null</td></tr><tr><td>HALKETT Rhett</td><td>Netherlands</td><td>Hockey</td><td>null</td></tr><tr><td>HAM Darvin de</td><td>Nigeria</td><td>Basketball</td><td>null</td></tr><tr><td>HARDY William</td><td>United States of America</td><td>Basketball</td><td>null</td></tr><tr><td>HARROW Laing</td><td>Australia</td><td>Baseball/Softball</td><td>Softball</td></tr><tr><td>HARVEY Laura</td><td>United States of America</td><td>Football</td><td>null</td></tr><tr><td>HAVENGA Arno</td><td>Netherlands</td><td>Water Polo</td><td>Women</td></tr><tr><td>HAY Danny</td><td>New Zealand</td><td>Football</td><td>Men</td></tr><tr><td>HEM Thon Ponloeu</td><td>Cambodia</td><td>Artistic Swimming</td><td>null</td></tr><tr><td>HENKEL Claas</td><td>Germany</td><td>Hockey</td><td>Men</td></tr><tr><td>HENNING Andre</td><td>Canada</td><td>Hockey</td><td>Men</td></tr><tr><td>HERGEIRSSON Thorir</td><td>Norway</td><td>Handball</td><td>Women</td></tr><tr><td>HERNANDEZ FRAILE Jose Ignacio</td><td>Spain</td><td>Basketball</td><td>null</td></tr><tr><td>HERNANDEZ Sergio</td><td>Argentina</td><td>Basketball</td><td>Men</td></tr><tr><td>HEYNEN Vital</td><td>Poland</td><td>Volleyball</td><td>Men</td></tr><tr><td>HIROSE Norikazu</td><td>Japan</td><td>Football</td><td>null</td></tr><tr><td>HOAG Glenn</td><td>Canada</td><td>Volleyball</td><td>Men</td></tr><tr><td>HOLANEK Zoltan</td><td>Hungary</td><td>Handball</td><td>null</td></tr><tr><td>HOVASSE Thomas Wayne</td><td>Japan</td><td>Basketball</td><td>Women</td></tr><tr><td>HUGHES Daniel</td><td>United States of America</td><td>Basketball</td><td>null</td></tr><tr><td>HUGHLEY JR Otis</td><td>Nigeria</td><td>Basketball</td><td>Women</td></tr><tr><td>IMURA Masayo</td><td>Japan</td><td>Artistic Swimming</td><td>null</td></tr><tr><td>IWABUCHI Kensuke</td><td>Japan</td><td>Rugby Sevens</td><td>Men</td></tr><tr><td>JACOBSEN Nikolaj</td><td>Denmark</td><td>Handball</td><td>Men</td></tr><tr><td>JARDINE Andre</td><td>Brazil</td><td>Football</td><td>Men</td></tr><tr><td>JAUMA CAYUELA Esther</td><td>Netherlands</td><td>Artistic Swimming</td><td>Duet</td></tr><tr><td>JENNINGS Dee</td><td>Australia</td><td>Hockey</td><td>null</td></tr><tr><td>JEROME Essapa</td><td>C�te d'Ivoire</td><td>Football</td><td>null</td></tr><tr><td>JIA Xiuquan</td><td>People's Republic of China</td><td>Football</td><td>Women</td></tr><tr><td>JIMENEZ NIETO Cecilia</td><td>Spain</td><td>Artistic Swimming</td><td>null</td></tr><tr><td>JOHNSON Vickie</td><td>United States of America</td><td>Basketball</td><td>null</td></tr><tr><td>JONES Chris</td><td>Canada</td><td>Baseball/Softball</td><td>Softball</td></tr><tr><td>JONES Nathan</td><td>Australia</td><td>Baseball/Softball</td><td>Softball</td></tr><tr><td>KAISER Pierre</td><td>Belgium</td><td>Basketball</td><td>null</td></tr><tr><td>KANEKO Makoto</td><td>Japan</td><td>Baseball/Softball</td><td>Baseball</td></tr><tr><td>KANG Jae Won</td><td>Republic of Korea</td><td>Handball</td><td>Women</td></tr><tr><td>KANUNGO Bergin</td><td>Zambia</td><td>Football</td><td>null</td></tr><tr><td>KAWASE Asaki</td><td>Japan</td><td>Football</td><td>null</td></tr><tr><td>KAZAMA Takafumi</td><td>Japan</td><td>Football</td><td>null</td></tr><tr><td>KELLER Florian</td><td>Germany</td><td>Hockey</td><td>Women</td></tr><tr><td>KERRY Danny</td><td>Great Britain</td><td>Hockey</td><td>Men</td></tr><tr><td>KIM Chanbin</td><td>Republic of Korea</td><td>Football</td><td>null</td></tr><tr><td>KIM Hagbum</td><td>Republic of Korea</td><td>Football</td><td>Men</td></tr><tr><td>KIRALY Karch</td><td>United States of America</td><td>Volleyball</td><td>Women</td></tr><tr><td>KIRKELY Ulrik</td><td>Japan</td><td>Handball</td><td>Women</td></tr><tr><td>KIRKPATRICK Andrew</td><td>Australia</td><td>Baseball/Softball</td><td>Softball</td></tr><tr><td>KITABAYASHI Kenji</td><td>Japan</td><td>Handball</td><td>null</td></tr><tr><td>KLARENBEEK Auke</td><td>Netherlands</td><td>Handball</td><td>null</td></tr><tr><td>KNEZEVIC Nemanja</td><td>Kazakhstan</td><td>Water Polo</td><td>Men</td></tr><tr><td>KOFFI Anthony</td><td>C�te d'Ivoire</td><td>Football</td><td>null</td></tr><tr><td>KONSTANTINOV Aleksei</td><td>ROC</td><td>Volleyball</td><td>null</td></tr><tr><td>KONTIC Svetlana</td><td>Serbia</td><td>Artistic Swimming</td><td>null</td></tr><tr><td>KRIKORIAN Adam</td><td>United States of America</td><td>Water Polo</td><td>Women</td></tr><tr><td>KRIST JANSSON Aron</td><td>Bahrain</td><td>Handball</td><td>Men</td></tr><tr><td>KRUMBHOLZ Olivier</td><td>France</td><td>Handball</td><td>Women</td></tr><tr><td>KULESZA Katarzyna</td><td>Canada</td><td>Artistic Swimming</td><td>Team</td></tr><tr><td>KUNTZ Stefan</td><td>Germany</td><td>Football</td><td>Men</td></tr><tr><td>KUZIN Andrey</td><td>ROC</td><td>Rugby Sevens</td><td>Women</td></tr><tr><td>KWIEK Marcos</td><td>Dominican Republic</td><td>Volleyball</td><td>Women</td></tr><tr><td>LAIDLAW Clark</td><td>New Zealand</td><td>Rugby Sevens</td><td>Men</td></tr><tr><td>LAMAS Julio</td><td>Japan</td><td>Basketball</td><td>Men</td></tr><tr><td>LANG Ping</td><td>People's Republic of China</td><td>Volleyball</td><td>Women</td></tr><tr><td>LAVARINI Stefano</td><td>Republic of Korea</td><td>Volleyball</td><td>Women</td></tr><tr><td>LAZARO CORRAL Jesus</td><td>Spain</td><td>Basketball</td><td>null</td></tr><tr><td>LETELIER Jose</td><td>Chile</td><td>Football</td><td>Women</td></tr><tr><td>LOCK Adrian Mayner</td><td>Spain</td><td>Hockey</td><td>Women</td></tr><tr><td>LOFTUS Adriana</td><td>Mexico</td><td>Artistic Swimming</td><td>Duet</td></tr><tr><td>LOPES BARBOSA Leonard</td><td>Kenya</td><td>Volleyball</td><td>null</td></tr><tr><td>LOPEZ GUILLEN Melvyn</td><td>Dominican Republic</td><td>Basketball</td><td>null</td></tr><tr><td>LOPEZ Monica Susana</td><td>Argentina</td><td>Artistic Swimming</td><td>null</td></tr><tr><td>LOUCKS Luke</td><td>Nigeria</td><td>Basketball</td><td>null</td></tr><tr><td>LOZANO Jaime</td><td>Mexico</td><td>Football</td><td>Men</td></tr><tr><td>MACEK Anze</td><td>Slovenia</td><td>Basketball</td><td>null</td></tr><tr><td>MACKINTOSH Euan Michael Gordon</td><td>People's Republic of China</td><td>Rugby Sevens</td><td>Women</td></tr><tr><td>MAEDA Kenzo</td><td>Japan</td><td>Basketball</td><td>null</td></tr><tr><td>MAHLANGU Sibusiso</td><td>South Africa</td><td>Football</td><td>null</td></tr><tr><td>MAKIRI Hare</td><td>Japan</td><td>Rugby Sevens</td><td>Women</td></tr><tr><td>MALJKOVIC Marina</td><td>Serbia</td><td>Basketball</td><td>Women</td></tr><tr><td>MANENTI John</td><td>Australia</td><td>Rugby Sevens</td><td>Women</td></tr><tr><td>MANZANILLO Andres</td><td>Venezuela</td><td>Volleyball</td><td>null</td></tr><tr><td>MARCZ Tamas</td><td>Hungary</td><td>Water Polo</td><td>Men</td></tr><tr><td>MARIJNE Sjoerd</td><td>India</td><td>Hockey</td><td>Women</td></tr><tr><td>MARINELLI Fernando</td><td>Chile</td><td>Football</td><td>null</td></tr><tr><td>MARTIN LOZANO David</td><td>Spain</td><td>Water Polo</td><td>Men</td></tr><tr><td>MARTIN Paul</td><td>South Africa</td><td>Water Polo</td><td>Men</td></tr><tr><td>MASHA Mario</td><td>South Africa</td><td>Football</td><td>null</td></tr><tr><td>MATSUNO Yoshiyuki</td><td>Japan</td><td>Basketball</td><td>null</td></tr><tr><td>MATSUODANI Yasushi</td><td>Japan</td><td>Football</td><td>null</td></tr><tr><td>MAYBURY Elena</td><td>United States of America</td><td>Football</td><td>null</td></tr><tr><td>MAYONNADE Emmanuel</td><td>Netherlands</td><td>Handball</td><td>Women</td></tr><tr><td>MAZZANTI Davide</td><td>Italy</td><td>Volleyball</td><td>Women</td></tr><tr><td>McCRORIE Christy</td><td>South Africa</td><td>Hockey</td><td>null</td></tr><tr><td>McLEOD Shane</td><td>Belgium</td><td>Hockey</td><td>Men</td></tr><tr><td>MEDINA Bobby</td><td>Nigeria</td><td>Basketball</td><td>null</td></tr><tr><td>MENDEZ Marcelo Rodolfo</td><td>Argentina</td><td>Volleyball</td><td>Men</td></tr><tr><td>MENGUAL CIVIL Gemma</td><td>Spain</td><td>Artistic Swimming</td><td>null</td></tr><tr><td>MENTOOR Delaine</td><td>South Africa</td><td>Water Polo</td><td>Women</td></tr><tr><td>MERCEDES del ROSARIO Jose</td><td>Dominican Republic</td><td>Basketball</td><td>null</td></tr><tr><td>MESTDAGH Philip</td><td>Belgium</td><td>Basketball</td><td>Women</td></tr><tr><td>MEZHENINA Valeriia</td><td>Ukraine</td><td>Artistic Swimming</td><td>Team</td></tr><tr><td>MEZIANE Rachid</td><td>France</td><td>Basketball</td><td>null</td></tr><tr><td>MIHAILOVIC Predrag</td><td>Australia</td><td>Water Polo</td><td>Women</td></tr><tr><td>MIREJOVSKY Michal</td><td>Czech Republic</td><td>Basketball</td><td>null</td></tr><tr><td>MIRET GARCIA Daniel</td><td>Spain</td><td>Basketball</td><td>null</td></tr><tr><td>MIURA Keiko</td><td>Japan</td><td>Hockey</td><td>Women</td></tr><tr><td>MIYAKAWA Miya</td><td>Japan</td><td>Artistic Swimming</td><td>null</td></tr><tr><td>MLADENOVA Albena</td><td>Austria</td><td>Artistic Swimming</td><td>Duet</td></tr><tr><td>MOHAMED Mai</td><td>Egypt</td><td>Artistic Swimming</td><td>null</td></tr><tr><td>MOHAMED Sayeda</td><td>Saudi Arabia</td><td>Football</td><td>null</td></tr><tr><td>MOHAMMED Silifat</td><td>Nigeria</td><td>Basketball</td><td>null</td></tr><tr><td>MONDELO GARCIA Lucas</td><td>Spain</td><td>Basketball</td><td>Women</td></tr><tr><td>MONTICO Loredana</td><td>Australia</td><td>Artistic Swimming</td><td>Duet</td></tr><tr><td>MONTICO Loredana</td><td>Australia</td><td>Artistic Swimming</td><td>Team</td></tr><tr><td>MORIYASU Hajime</td><td>Japan</td><td>Football</td><td>Men</td></tr><tr><td>MOTOMIYA Makihiro</td><td>Japan</td><td>Water Polo</td><td>Women</td></tr><tr><td>MULATI Adilijiang</td><td>People's Republic of China</td><td>Basketball</td><td>null</td></tr><tr><td>MUNOZ Noe de Jesus</td><td>Mexico</td><td>Baseball/Softball</td><td>Baseball</td></tr><tr><td>MWAPE Bruce</td><td>Zambia</td><td>Football</td><td>Women</td></tr><tr><td>NAGAE Shoji</td><td>Japan</td><td>Volleyball</td><td>null</td></tr><tr><td>NAIDOO Taren</td><td>South Africa</td><td>Hockey</td><td>Women</td></tr><tr><td>NAKADA Kumi</td><td>Japan</td><td>Volleyball</td><td>Women</td></tr><tr><td>NAKAGAICHI Yuichi</td><td>Japan</td><td>Volleyball</td><td>Men</td></tr><tr><td>NCUBE Mthandazo</td><td>South Africa</td><td>Football</td><td>null</td></tr><tr><td>NEVES Christophe</td><td>C�te d'Ivoire</td><td>Football</td><td>null</td></tr><tr><td>NISHIDA Takumi</td><td>Japan</td><td>Rugby Sevens</td><td>null</td></tr><tr><td>NOTOANE David</td><td>South Africa</td><td>Football</td><td>Men</td></tr><tr><td>OCA GAIA Miguel Angel</td><td>Spain</td><td>Water Polo</td><td>Women</td></tr><tr><td>ODAUDU Ogoh</td><td>Nigeria</td><td>Basketball</td><td>null</td></tr><tr><td>OLOO Felix</td><td>Kenya</td><td>Rugby Sevens</td><td>Women</td></tr><tr><td>OMOTO Yoji</td><td>Japan</td><td>Water Polo</td><td>Men</td></tr><tr><td>PAGAN CRISTOBAL Angel</td><td>Puerto Rico</td><td>Basketball</td><td>null</td></tr><tr><td>PALERMI Giovanna</td><td>Italy</td><td>Baseball/Softball</td><td>Softball</td></tr><tr><td>PANTOJA Hernan</td><td>Venezuela</td><td>Volleyball</td><td>null</td></tr><tr><td>PARADELO David</td><td>Canada</td><td>Water Polo</td><td>Women</td></tr><tr><td>PARRONDO Roberto</td><td>Egypt</td><td>Handball</td><td>Men</td></tr><tr><td>PAUL Henry</td><td>Canada</td><td>Rugby Sevens</td><td>Men</td></tr><tr><td>PECCI Isabella</td><td>San Marino</td><td>Artistic Swimming</td><td>null</td></tr><tr><td>PEDRERO Ofelia</td><td>Mexico</td><td>Artistic Swimming</td><td>Duet</td></tr><tr><td>PEREIRA Paulo Jorge</td><td>Portugal</td><td>Handball</td><td>Men</td></tr><tr><td>PEREZ Jose</td><td>Venezuela</td><td>Basketball</td><td>null</td></tr><tr><td>PIBIRI Rossella</td><td>Italy</td><td>Artistic Swimming</td><td>null</td></tr><tr><td>PISKAREVA Ekaterina</td><td>ROC</td><td>Artistic Swimming</td><td>null</td></tr><tr><td>PIZZOLINI Federico</td><td>Italy</td><td>Baseball/Softball</td><td>Softball</td></tr><tr><td>POPOVICH Gregg</td><td>United States of America</td><td>Basketball</td><td>Men</td></tr><tr><td>POROBIC Petar</td><td>People's Republic of China</td><td>Water Polo</td><td>Women</td></tr><tr><td>POTTER Anthony</td><td>Australia</td><td>Hockey</td><td>Men</td></tr><tr><td>POWELL Katrina</td><td>Australia</td><td>Hockey</td><td>Women</td></tr><tr><td>POWELL Neil</td><td>South Africa</td><td>Rugby Sevens</td><td>Men</td></tr><tr><td>PRADO BRANAS Joaquin</td><td>Spain</td><td>Basketball</td><td>null</td></tr><tr><td>PRIESTMAN Bev</td><td>Canada</td><td>Football</td><td>Women</td></tr><tr><td>RADOI Mirel</td><td>Romania</td><td>Football</td><td>Men</td></tr><tr><td>RECKINGER Xavier</td><td>Germany</td><td>Hockey</td><td>Women</td></tr><tr><td>REID Graham John</td><td>India</td><td>Hockey</td><td>Men</td></tr><tr><td>REQUENA PERICAS Judit</td><td>Spain</td><td>Artistic Swimming</td><td>Duet</td></tr><tr><td>REQUENA PERICAS Judit</td><td>Spain</td><td>Artistic Swimming</td><td>Team</td></tr><tr><td>RETEGUI Carlos Jose</td><td>Argentina</td><td>Hockey</td><td>Men</td></tr><tr><td>RETEGUI Carlos Jose</td><td>Argentina</td><td>Hockey</td><td>Women</td></tr><tr><td>RIBERA ROMANS Jordi</td><td>Spain</td><td>Handball</td><td>Men</td></tr><tr><td>RIISE Hege</td><td>Great Britain</td><td>Football</td><td>Women</td></tr><tr><td>RILLIE John</td><td>Australia</td><td>Basketball</td><td>null</td></tr><tr><td>RIPOLL Sylvain</td><td>France</td><td>Football</td><td>Men</td></tr><tr><td>RODRIGUEZ Eduardo Rafael</td><td>Argentina</td><td>Volleyball</td><td>null</td></tr><tr><td>ROEDL Henrik</td><td>Germany</td><td>Basketball</td><td>Men</td></tr><tr><td>ROQUES Anthony</td><td>Great Britain</td><td>Rugby Sevens</td><td>Men</td></tr><tr><td>SACCHETTI Romeo</td><td>Italy</td><td>Basketball</td><td>Men</td></tr><tr><td>SALAM Mohamed</td><td>Egypt</td><td>Football</td><td>null</td></tr><tr><td>SAMMELVUO Tuomas</td><td>ROC</td><td>Volleyball</td><td>Men</td></tr><tr><td>SARTI Ronald</td><td>Venezuela</td><td>Volleyball</td><td>Men</td></tr><tr><td>SAVIC Dejan</td><td>Serbia</td><td>Water Polo</td><td>Men</td></tr><tr><td>SAVIC Maja</td><td>Montenegro</td><td>Handball</td><td>Women</td></tr><tr><td>SCARIOLO Sergio</td><td>Spain</td><td>Basketball</td><td>Men</td></tr><tr><td>SCHILLING April</td><td>Nigeria</td><td>Basketball</td><td>null</td></tr><tr><td>SEKULIC Aleksander</td><td>Slovenia</td><td>Basketball</td><td>Men</td></tr><tr><td>SEO Chun Oh</td><td>Republic of Korea</td><td>Rugby Sevens</td><td>Men</td></tr><tr><td>SERMANNI Tom</td><td>New Zealand</td><td>Football</td><td>Women</td></tr><tr><td>SHAHINTAB Mehran</td><td>Islamic Republic of Iran</td><td>Basketball</td><td>Men</td></tr><tr><td>SHAHNAZI Shahbaz</td><td>Austria</td><td>Artistic Swimming</td><td>null</td></tr><tr><td>SHAW Graham</td><td>New Zealand</td><td>Hockey</td><td>Women</td></tr><tr><td>SHAWKY Gharib</td><td>Egypt</td><td>Football</td><td>Men</td></tr><tr><td>SIAM Zaghloul</td><td>Egypt</td><td>Football</td><td>null</td></tr><tr><td>SIGURDSSON Dagur</td><td>Japan</td><td>Handball</td><td>Men</td></tr><tr><td>SIMIYU Innocent</td><td>Kenya</td><td>Rugby Sevens</td><td>Men</td></tr><tr><td>SINGH Shivendra</td><td>India</td><td>Hockey</td><td>Men</td></tr><tr><td>SMITH Darren</td><td>New Zealand</td><td>Hockey</td><td>Men</td></tr><tr><td>SMITH Mark</td><td>Canada</td><td>Baseball/Softball</td><td>Softball</td></tr><tr><td>SOLBERG Glenn</td><td>Sweden</td><td>Handball</td><td>Men</td></tr><tr><td>SOYEZ Frederic</td><td>Spain</td><td>Hockey</td><td>Men</td></tr><tr><td>SPERAW John</td><td>United States of America</td><td>Volleyball</td><td>Men</td></tr><tr><td>SPERONI Stefania</td><td>Great Britain</td><td>Artistic Swimming</td><td>Duet</td></tr><tr><td>STALEY Dawn</td><td>United States of America</td><td>Basketball</td><td>Women</td></tr><tr><td>STANIFORTH Dave</td><td>Australia</td><td>Hockey</td><td>null</td></tr><tr><td>STAS Jacques</td><td>Belgium</td><td>Basketball</td><td>null</td></tr><tr><td>SUNDHAGE Pia Mariane</td><td>Brazil</td><td>Football</td><td>Women</td></tr><tr><td>SVETLICHNAYA Aliona</td><td>Belarus</td><td>Artistic Swimming</td><td>Duet</td></tr><tr><td>SZAUDER Gabor</td><td>Canada</td><td>Artistic Swimming</td><td>Duet</td></tr><tr><td>SZAUDER Gabor</td><td>Canada</td><td>Artistic Swimming</td><td>Team</td></tr><tr><td>SZAUDER Nora</td><td>Slovakia</td><td>Artistic Swimming</td><td>null</td></tr><tr><td>TAGLE German</td><td>Chile</td><td>Football</td><td>null</td></tr><tr><td>TAKAKURA Asako</td><td>Japan</td><td>Football</td><td>Women</td></tr><tr><td>TAKITA Risako</td><td>Japan</td><td>Artistic Swimming</td><td>null</td></tr><tr><td>TARR Heather</td><td>United States of America</td><td>Baseball/Softball</td><td>Softball</td></tr><tr><td>TARRES CAMPA Ana</td><td>Greece</td><td>Artistic Swimming</td><td>Duet</td></tr><tr><td>TARRES CAMPA Ana</td><td>Greece</td><td>Artistic Swimming</td><td>Team</td></tr><tr><td>TERZIC Zoran</td><td>Serbia</td><td>Volleyball</td><td>Women</td></tr><tr><td>THOMAIDIS Lisa</td><td>Canada</td><td>Basketball</td><td>Women</td></tr><tr><td>TILLIE Laurent</td><td>France</td><td>Volleyball</td><td>Men</td></tr><tr><td>TOMOMATSU Yumiko</td><td>Italy</td><td>Artistic Swimming</td><td>null</td></tr><tr><td>TUCAK Ivica</td><td>Croatia</td><td>Water Polo</td><td>Men</td></tr><tr><td>TURNER Glenn</td><td>New Zealand</td><td>Hockey</td><td>Men</td></tr><tr><td>UDOKA Ime</td><td>United States of America</td><td>Basketball</td><td>null</td></tr><tr><td>UDOVICIC Dejan</td><td>United States of America</td><td>Water Polo</td><td>Men</td></tr><tr><td>UTKIN Volodymyr</td><td>Ukraine</td><td>Artistic Swimming</td><td>null</td></tr><tr><td>UTSUGI Reika</td><td>Japan</td><td>Baseball/Softball</td><td>Softball</td></tr><tr><td>van GINKEL Robin</td><td>South Africa</td><td>Hockey</td><td>Women</td></tr><tr><td>van GUNDY Jeff</td><td>United States of America</td><td>Basketball</td><td>null</td></tr><tr><td>VASQUEZ Diego</td><td>Venezuela</td><td>Basketball</td><td>null</td></tr><tr><td>VEGA HERRERO Anna</td><td>Spain</td><td>Artistic Swimming</td><td>null</td></tr><tr><td>VILLEGAS Orlando</td><td>Venezuela</td><td>Volleyball</td><td>null</td></tr><tr><td>VITORINO de SOUZA Marcelo</td><td>Kenya</td><td>Volleyball</td><td>null</td></tr><tr><td>VIVER ARZA Carlos Enrique</td><td>Spain</td><td>Handball</td><td>Women</td></tr><tr><td>VLACHOS Theodoros</td><td>Greece</td><td>Water Polo</td><td>Men</td></tr><tr><td>VORONOVA Elena</td><td>ROC</td><td>Artistic Swimming</td><td>Duet</td></tr><tr><td>WALL Michael</td><td>United States of America</td><td>Volleyball</td><td>null</td></tr><tr><td>WALSH Tim</td><td>Australia</td><td>Rugby Sevens</td><td>Men</td></tr><tr><td>WANG Jie</td><td>People's Republic of China</td><td>Artistic Swimming</td><td>Duet</td></tr><tr><td>WANG Jie</td><td>People's Republic of China</td><td>Artistic Swimming</td><td>Team</td></tr><tr><td>WANG Yang</td><td>People's Republic of China</td><td>Hockey</td><td>Women</td></tr><tr><td>WEINSTEIN Jerry</td><td>United States of America</td><td>Baseball/Softball</td><td>Baseball</td></tr><tr><td>WIEGMAN Sarina</td><td>Netherlands</td><td>Football</td><td>Women</td></tr><tr><td>WIRTH Oscar</td><td>Chile</td><td>Football</td><td>null</td></tr><tr><td>WOELFLIN Roberto Osvaldo</td><td>Argentina</td><td>Volleyball</td><td>null</td></tr><tr><td>WOICKI Pawel</td><td>Poland</td><td>Volleyball</td><td>null</td></tr><tr><td>WRIGHT Jerold</td><td>United States of America</td><td>Basketball</td><td>null</td></tr><tr><td>XU Limin</td><td>People's Republic of China</td><td>Basketball</td><td>Women</td></tr><tr><td>YAMAJI Noriko</td><td>Japan</td><td>Baseball/Softball</td><td>Softball</td></tr><tr><td>YUAN Lingxi</td><td>People's Republic of China</td><td>Volleyball</td><td>null</td></tr><tr><td>YURKIN Sergey</td><td>ROC</td><td>Volleyball</td><td>null</td></tr><tr><td>ZAITSEVA Olesia</td><td>Ukraine</td><td>Artistic Swimming</td><td>Duet</td></tr><tr><td>ZAMORA PEDREIRA Javier</td><td>Spain</td><td>Basketball</td><td>null</td></tr><tr><td>ZAMPIERI Francesca</td><td>Liechtenstein</td><td>Artistic Swimming</td><td>Duet</td></tr><tr><td>ZHANG Xiaohuan</td><td>People's Republic of China</td><td>Artistic Swimming</td><td>null</td></tr><tr><td>ZIJP Simon</td><td>Netherlands</td><td>Hockey</td><td>null</td></tr><tr><td>ZONDI Nkuliso</td><td>South Africa</td><td>Hockey</td><td>Women</td></tr></tbody></table></div>"
      ]
     },
     "metadata": {
      "application/vnd.databricks.v1+output": {
       "addedWidgets": {},
       "aggData": [],
       "aggError": "",
       "aggOverflow": false,
       "aggSchema": [],
       "aggSeriesLimitReached": false,
       "aggType": "",
       "arguments": {},
       "columnCustomDisplayInfos": {},
       "data": [
        [
         "ABDELMAGID Wael",
         "Egypt",
         "Football",
         null
        ],
        [
         "ABE Junya",
         "Japan",
         "Volleyball",
         null
        ],
        [
         "ABE Katsuhiko",
         "Japan",
         "Basketball",
         null
        ],
        [
         "ADAMA Cherif",
         "C�te d'Ivoire",
         "Football",
         null
        ],
        [
         "AGEBA Yuya",
         "Japan",
         "Volleyball",
         null
        ],
        [
         "AIKMAN Siegfried Gottlieb",
         "Japan",
         "Hockey",
         "Men"
        ],
        [
         "AL SAADI Kais",
         "Germany",
         "Hockey",
         "Men"
        ],
        [
         "ALAMEDA Lonni",
         "Canada",
         "Baseball/Softball",
         "Softball"
        ],
        [
         "ALEKNO Vladimir",
         "Islamic Republic of Iran",
         "Volleyball",
         "Men"
        ],
        [
         "ALEKSEEV Alexey",
         "ROC",
         "Handball",
         "Women"
        ],
        [
         "ALLER CARBALLO Manuel Angel",
         "Spain",
         "Basketball",
         null
        ],
        [
         "ALSHEHRI Saad",
         "Saudi Arabia",
         "Football",
         "Men"
        ],
        [
         "ALY Kamal",
         "Egypt",
         "Football",
         null
        ],
        [
         "AMAYA GAITAN Fabian",
         "Puerto Rico",
         "Basketball",
         null
        ],
        [
         "AMO AGUADO Pablo",
         "Spain",
         "Football",
         null
        ],
        [
         "ANDONOVSKI Vlatko",
         "United States of America",
         "Football",
         "Women"
        ],
        [
         "ANNAN Alyson",
         "Netherlands",
         "Hockey",
         "Women"
        ],
        [
         "ARNAU CREUS Xavier",
         "Japan",
         "Hockey",
         "Women"
        ],
        [
         "ARNOLD Graham",
         "Australia",
         "Football",
         "Men"
        ],
        [
         "AXNER Tomas",
         "Sweden",
         "Handball",
         "Women"
        ],
        [
         "BABER Gareth Colin",
         "Fiji",
         "Rugby Sevens",
         "Men"
        ],
        [
         "BACIU Horatiu",
         "Romania",
         "Football",
         null
        ],
        [
         "BANBULA Wojciech",
         "Poland",
         "Volleyball",
         null
        ],
        [
         "BAO Zhuang",
         "People's Republic of China",
         "Volleyball",
         null
        ],
        [
         "BARYLA Pawel",
         "ROC",
         "Volleyball",
         null
        ],
        [
         "BASILIO Mel",
         "Canada",
         "Baseball/Softball",
         "Softball"
        ],
        [
         "BASSO Paola",
         "Great Britain",
         "Artistic Swimming",
         "Duet"
        ],
        [
         "BATCH Colin",
         "Australia",
         "Hockey",
         "Men"
        ],
        [
         "BATISTA Fernando",
         "Argentina",
         "Football",
         "Men"
        ],
        [
         "BATISTA SANTIAGO Gerardo",
         "Puerto Rico",
         "Basketball",
         "Women"
        ],
        [
         "BENCIC Filip",
         "Serbia",
         "Basketball",
         null
        ],
        [
         "BERG Laura",
         "United States of America",
         "Baseball/Softball",
         "Softball"
        ],
        [
         "BERGE Christian",
         "Norway",
         "Handball",
         "Men"
        ],
        [
         "BILLAVA SURESH Ankitha",
         "India",
         "Hockey",
         "Women"
        ],
        [
         "BIRO Attila",
         "Hungary",
         "Water Polo",
         "Women"
        ],
        [
         "BLECHER SIDOROVA Svetlana",
         "Israel",
         "Artistic Swimming",
         "Duet"
        ],
        [
         "BLENGINI Gianlorenzo",
         "Italy",
         "Volleyball",
         "Men"
        ],
        [
         "BOLTON Alice",
         "Nigeria",
         "Basketball",
         null
        ],
        [
         "BREIVIK Marit",
         "Norway",
         "Handball",
         null
        ],
        [
         "BRODERICK William",
         "Brazil",
         "Rugby Sevens",
         "Women"
        ],
        [
         "BRONDELLO Sandy",
         "Australia",
         "Basketball",
         "Women"
        ],
        [
         "BROWN Chris",
         "United States of America",
         "Rugby Sevens",
         "Women"
        ],
        [
         "BROWN Michael",
         "Nigeria",
         "Basketball",
         "Men"
        ],
        [
         "BRUN Aristide",
         "Austria",
         "Artistic Swimming",
         null
        ],
        [
         "BUNTING Allan",
         "New Zealand",
         "Rugby Sevens",
         "Women"
        ],
        [
         "BURLANDO Giovanna",
         "Italy",
         "Artistic Swimming",
         null
        ],
        [
         "BUSATO Sergio",
         "ROC",
         "Volleyball",
         "Women"
        ],
        [
         "BUSENKELL Axel",
         "Germany",
         "Football",
         null
        ],
        [
         "BYRNE Mick",
         "Canada",
         "Rugby Sevens",
         "Women"
        ],
        [
         "CADENAS MONTANES Manuel",
         "Argentina",
         "Handball",
         "Men"
        ],
        [
         "CALDAS Max",
         "Netherlands",
         "Hockey",
         "Men"
        ],
        [
         "CAMPAGNA Alessandro",
         "Italy",
         "Water Polo",
         "Men"
        ],
        [
         "CARO Carlos",
         "Mexico",
         "Baseball/Softball",
         "Softball"
        ],
        [
         "CASAREZ Mary Lucy",
         "Japan",
         "Baseball/Softball",
         "Softball"
        ],
        [
         "CASTRO Alex",
         "Chile",
         "Football",
         null
        ],
        [
         "CHAMBERS Cheryl",
         "Australia",
         "Basketball",
         null
        ],
        [
         "CHEPAK Anastasiya",
         "Egypt",
         "Artistic Swimming",
         "Duet"
        ],
        [
         "CHEPAK Anastasiya",
         "Egypt",
         "Artistic Swimming",
         "Team"
        ],
        [
         "CHERNETSKA Natalia",
         "Greece",
         "Artistic Swimming",
         "Duet"
        ],
        [
         "CHERNETSKA Natalia",
         "Greece",
         "Artistic Swimming",
         "Team"
        ],
        [
         "CHIARI Simona",
         "San Marino",
         "Artistic Swimming",
         null
        ],
        [
         "CHOI Il Eon",
         "Republic of Korea",
         "Baseball/Softball",
         "Baseball"
        ],
        [
         "CHUN Jooweon",
         "Republic of Korea",
         "Basketball",
         "Women"
        ],
        [
         "CLARK STEPHEN Gregg",
         "India",
         "Hockey",
         "Men"
        ],
        [
         "COLLET Vincent",
         "France",
         "Basketball",
         "Men"
        ],
        [
         "COMMENS Adam",
         "Belgium",
         "Hockey",
         null
        ],
        [
         "COURTEIX David",
         "France",
         "Rugby Sevens",
         "Women"
        ],
        [
         "CRESPI JAUME Margalida",
         "Colombia",
         "Artistic Swimming",
         null
        ],
        [
         "CRUZ Filipe",
         "Angola",
         "Handball",
         "Women"
        ],
        [
         "DAL ZOTTO Renan",
         "Brazil",
         "Volleyball",
         "Men"
        ],
        [
         "DANCER Sean",
         "Ireland",
         "Hockey",
         "Women"
        ],
        [
         "DANCHENKO Tatiana",
         "ROC",
         "Artistic Swimming",
         "Duet"
        ],
        [
         "DAVY Jeremy",
         "Australia",
         "Hockey",
         "Women"
        ],
        [
         "DAZA Fabian",
         "Chile",
         "Football",
         null
        ],
        [
         "de la FUENTE CASTILLO Luis",
         "Spain",
         "Football",
         "Men"
        ],
        [
         "de MOURA Luizomar",
         "Kenya",
         "Volleyball",
         "Women"
        ],
        [
         "de OLIVEIRA Marcus Ricardo",
         "Brazil",
         "Handball",
         "Men"
        ],
        [
         "de VOS Robbert-Jan",
         "Netherlands",
         "Hockey",
         null
        ],
        [
         "DELANEY Mike",
         "New Zealand",
         "Hockey",
         null
        ],
        [
         "DEMCHENKO Zhanna",
         "Kazakhstan",
         "Artistic Swimming",
         "Duet"
        ],
        [
         "DIAZ FERNANDEZ Jenaro Manuel",
         "Spain",
         "Basketball",
         null
        ],
        [
         "DIAZ HENRIQUEZ Nestor",
         "Dominican Republic",
         "Basketball",
         null
        ],
        [
         "DIDENKO Natalia",
         "Spain",
         "Artistic Swimming",
         null
        ],
        [
         "DOBSON Howard",
         "United States of America",
         "Baseball/Softball",
         "Softball"
        ],
        [
         "DORE Karine",
         "Canada",
         "Artistic Swimming",
         null
        ],
        [
         "DROBNJAK Dragisa",
         "Slovenia",
         "Basketball",
         null
        ],
        [
         "DUENAS de GALARZA Jorge",
         "Brazil",
         "Handball",
         "Women"
        ],
        [
         "DURO Fernando",
         "Venezuela",
         "Basketball",
         null
        ],
        [
         "DYKSTRA Trisha",
         "Australia",
         "Basketball",
         null
        ],
        [
         "ECHEZURIA Manuel",
         "Venezuela",
         "Basketball",
         null
        ],
        [
         "EDDY Anthony",
         "Ireland",
         "Rugby Sevens",
         "Men"
        ],
        [
         "EITOKU Atsushi",
         "Japan",
         "Artistic Swimming",
         null
        ],
        [
         "ELAFANDI Nour",
         "Egypt",
         "Artistic Swimming",
         "Duet"
        ],
        [
         "ELAFANDI Nour",
         "Egypt",
         "Artistic Swimming",
         "Team"
        ],
        [
         "ELEK Gabor",
         "Hungary",
         "Handball",
         "Women"
        ],
        [
         "ENGELLAND Chip",
         "United States of America",
         "Basketball",
         null
        ],
        [
         "ENQUIST Susan",
         "United States of America",
         "Volleyball",
         null
        ],
        [
         "ERIKSEN Ken",
         "United States of America",
         "Baseball/Softball",
         "Softball"
        ],
        [
         "EWING Gareth",
         "South Africa",
         "Hockey",
         "Men"
        ],
        [
         "FABRE Julie",
         "France",
         "Artistic Swimming",
         "Duet"
        ],
        [
         "FAHMY LATIF Yasmine",
         "Egypt",
         "Artistic Swimming",
         null
        ],
        [
         "FALERO Miguel",
         "Honduras",
         "Football",
         "Men"
        ],
        [
         "FARINELLI Roberta",
         "Italy",
         "Artistic Swimming",
         "Duet"
        ],
        [
         "FARINELLI Roberta",
         "Italy",
         "Artistic Swimming",
         "Team"
        ],
        [
         "FATOVIC Elvis",
         "Australia",
         "Water Polo",
         "Men"
        ],
        [
         "FAVAREL Pablo",
         "Venezuela",
         "Basketball",
         null
        ],
        [
         "FEDIUSHYNA Tetiana",
         "Ukraine",
         "Artistic Swimming",
         null
        ],
        [
         "FERRARO Hernan",
         "Argentina",
         "Volleyball",
         "Women"
        ],
        [
         "FISH Nathan",
         "Israel",
         "Baseball/Softball",
         "Baseball"
        ],
        [
         "FLOWERS Tairia",
         "United States of America",
         "Baseball/Softball",
         "Softball"
        ],
        [
         "FOIREST Laurent",
         "France",
         "Basketball",
         null
        ],
        [
         "FORREST Scott",
         "Great Britain",
         "Rugby Sevens",
         "Women"
        ],
        [
         "FRIDAY Mike",
         "United States of America",
         "Rugby Sevens",
         "Men"
        ],
        [
         "FUENTES Andrea",
         "United States of America",
         "Artistic Swimming",
         "Duet"
        ],
        [
         "FUERBRINGER Matthew",
         "United States of America",
         "Volleyball",
         null
        ],
        [
         "FUJIKI Mayuko",
         "Spain",
         "Artistic Swimming",
         "Duet"
        ],
        [
         "FUJIKI Mayuko",
         "Spain",
         "Artistic Swimming",
         "Team"
        ],
        [
         "FULI Saiasi",
         "Fiji",
         "Rugby Sevens",
         "Women"
        ],
        [
         "GADEMAN Pasha",
         "Canada",
         "Hockey",
         "Men"
        ],
        [
         "GAIDUKOV Aleksandr",
         "ROC",
         "Water Polo",
         "Women"
        ],
        [
         "GARCIA HERRERA Manuel",
         "Dominican Republic",
         "Baseball/Softball",
         "Baseball"
        ],
        [
         "GARCIA Nestor",
         "Dominican Republic",
         "Basketball",
         null
        ],
        [
         "GARCIA PIZARRO Paula",
         "Colombia",
         "Artistic Swimming",
         "Duet"
        ],
        [
         "GARNIER Valerie",
         "France",
         "Basketball",
         "Women"
        ],
        [
         "GERHARDSSON Peter",
         "Sweden",
         "Football",
         "Women"
        ],
        [
         "GIACOBBE Antonio",
         "Tunisia",
         "Volleyball",
         "Men"
        ],
        [
         "GIALLOMBARDO Patrizia",
         "Italy",
         "Artistic Swimming",
         "Duet"
        ],
        [
         "GIALLOMBARDO Patrizia",
         "Italy",
         "Artistic Swimming",
         "Team"
        ],
        [
         "GILLE Guillaume",
         "France",
         "Handball",
         "Men"
        ],
        [
         "GINZBURG Ronen",
         "Czech Republic",
         "Basketball",
         "Men"
        ],
        [
         "GISLASON Alfred",
         "Germany",
         "Handball",
         "Men"
        ],
        [
         "GOJKOVIC Vladimir",
         "Montenegro",
         "Water Polo",
         "Men"
        ],
        [
         "GOMEZ CORA Santiago",
         "Argentina",
         "Rugby Sevens",
         "Men"
        ],
        [
         "GONZALEZ Anibal",
         "Mexico",
         "Football",
         null
        ],
        [
         "GONZALEZ JARENO Angel",
         "Spain",
         "Basketball",
         null
        ],
        [
         "GOORJIAN Brian",
         "Australia",
         "Basketball",
         "Men"
        ],
        [
         "GORDO MANSILLA Juan David",
         "Spain",
         "Football",
         null
        ],
        [
         "GRAINGER Adam",
         "Ireland",
         "Hockey",
         null
        ],
        [
         "GRAUPERA Cristina",
         "Greece",
         "Artistic Swimming",
         null
        ],
        [
         "GRAZIOSI Gianluca",
         "Italy",
         "Volleyball",
         null
        ],
        [
         "GRESKOWIAK Arne",
         "Germany",
         "Basketball",
         null
        ],
        [
         "GRYZUNOVA Elena",
         "ROC",
         "Artistic Swimming",
         "Team"
        ],
        [
         "GUERRERO LOPEZ Julen",
         "Spain",
         "Football",
         null
        ],
        [
         "GUERRERO Rolando",
         "Mexico",
         "Baseball/Softball",
         "Softball"
        ],
        [
         "GUERRERO Rolando",
         "Mexico",
         "Baseball/Softball",
         "Softball"
        ],
        [
         "GUIDETTI Giovanni",
         "Turkey",
         "Volleyball",
         "Women"
        ],
        [
         "GUILLEN Ronald",
         "Venezuela",
         "Basketball",
         null
        ],
        [
         "GUIMARAES Jose Roberto",
         "Brazil",
         "Volleyball",
         "Women"
        ],
        [
         "GUSTAVSSON Tony",
         "Australia",
         "Football",
         "Women"
        ],
        [
         "HAGER Mark",
         "Great Britain",
         "Hockey",
         "Women"
        ],
        [
         "HAIDARA Soualiho",
         "C�te d'Ivoire",
         "Football",
         "Men"
        ],
        [
         "HALD Simon",
         "Denmark",
         "Handball",
         null
        ],
        [
         "HALKETT Rhett",
         "Netherlands",
         "Hockey",
         null
        ],
        [
         "HAM Darvin de",
         "Nigeria",
         "Basketball",
         null
        ],
        [
         "HARDY William",
         "United States of America",
         "Basketball",
         null
        ],
        [
         "HARROW Laing",
         "Australia",
         "Baseball/Softball",
         "Softball"
        ],
        [
         "HARVEY Laura",
         "United States of America",
         "Football",
         null
        ],
        [
         "HAVENGA Arno",
         "Netherlands",
         "Water Polo",
         "Women"
        ],
        [
         "HAY Danny",
         "New Zealand",
         "Football",
         "Men"
        ],
        [
         "HEM Thon Ponloeu",
         "Cambodia",
         "Artistic Swimming",
         null
        ],
        [
         "HENKEL Claas",
         "Germany",
         "Hockey",
         "Men"
        ],
        [
         "HENNING Andre",
         "Canada",
         "Hockey",
         "Men"
        ],
        [
         "HERGEIRSSON Thorir",
         "Norway",
         "Handball",
         "Women"
        ],
        [
         "HERNANDEZ FRAILE Jose Ignacio",
         "Spain",
         "Basketball",
         null
        ],
        [
         "HERNANDEZ Sergio",
         "Argentina",
         "Basketball",
         "Men"
        ],
        [
         "HEYNEN Vital",
         "Poland",
         "Volleyball",
         "Men"
        ],
        [
         "HIROSE Norikazu",
         "Japan",
         "Football",
         null
        ],
        [
         "HOAG Glenn",
         "Canada",
         "Volleyball",
         "Men"
        ],
        [
         "HOLANEK Zoltan",
         "Hungary",
         "Handball",
         null
        ],
        [
         "HOVASSE Thomas Wayne",
         "Japan",
         "Basketball",
         "Women"
        ],
        [
         "HUGHES Daniel",
         "United States of America",
         "Basketball",
         null
        ],
        [
         "HUGHLEY JR Otis",
         "Nigeria",
         "Basketball",
         "Women"
        ],
        [
         "IMURA Masayo",
         "Japan",
         "Artistic Swimming",
         null
        ],
        [
         "IWABUCHI Kensuke",
         "Japan",
         "Rugby Sevens",
         "Men"
        ],
        [
         "JACOBSEN Nikolaj",
         "Denmark",
         "Handball",
         "Men"
        ],
        [
         "JARDINE Andre",
         "Brazil",
         "Football",
         "Men"
        ],
        [
         "JAUMA CAYUELA Esther",
         "Netherlands",
         "Artistic Swimming",
         "Duet"
        ],
        [
         "JENNINGS Dee",
         "Australia",
         "Hockey",
         null
        ],
        [
         "JEROME Essapa",
         "C�te d'Ivoire",
         "Football",
         null
        ],
        [
         "JIA Xiuquan",
         "People's Republic of China",
         "Football",
         "Women"
        ],
        [
         "JIMENEZ NIETO Cecilia",
         "Spain",
         "Artistic Swimming",
         null
        ],
        [
         "JOHNSON Vickie",
         "United States of America",
         "Basketball",
         null
        ],
        [
         "JONES Chris",
         "Canada",
         "Baseball/Softball",
         "Softball"
        ],
        [
         "JONES Nathan",
         "Australia",
         "Baseball/Softball",
         "Softball"
        ],
        [
         "KAISER Pierre",
         "Belgium",
         "Basketball",
         null
        ],
        [
         "KANEKO Makoto",
         "Japan",
         "Baseball/Softball",
         "Baseball"
        ],
        [
         "KANG Jae Won",
         "Republic of Korea",
         "Handball",
         "Women"
        ],
        [
         "KANUNGO Bergin",
         "Zambia",
         "Football",
         null
        ],
        [
         "KAWASE Asaki",
         "Japan",
         "Football",
         null
        ],
        [
         "KAZAMA Takafumi",
         "Japan",
         "Football",
         null
        ],
        [
         "KELLER Florian",
         "Germany",
         "Hockey",
         "Women"
        ],
        [
         "KERRY Danny",
         "Great Britain",
         "Hockey",
         "Men"
        ],
        [
         "KIM Chanbin",
         "Republic of Korea",
         "Football",
         null
        ],
        [
         "KIM Hagbum",
         "Republic of Korea",
         "Football",
         "Men"
        ],
        [
         "KIRALY Karch",
         "United States of America",
         "Volleyball",
         "Women"
        ],
        [
         "KIRKELY Ulrik",
         "Japan",
         "Handball",
         "Women"
        ],
        [
         "KIRKPATRICK Andrew",
         "Australia",
         "Baseball/Softball",
         "Softball"
        ],
        [
         "KITABAYASHI Kenji",
         "Japan",
         "Handball",
         null
        ],
        [
         "KLARENBEEK Auke",
         "Netherlands",
         "Handball",
         null
        ],
        [
         "KNEZEVIC Nemanja",
         "Kazakhstan",
         "Water Polo",
         "Men"
        ],
        [
         "KOFFI Anthony",
         "C�te d'Ivoire",
         "Football",
         null
        ],
        [
         "KONSTANTINOV Aleksei",
         "ROC",
         "Volleyball",
         null
        ],
        [
         "KONTIC Svetlana",
         "Serbia",
         "Artistic Swimming",
         null
        ],
        [
         "KRIKORIAN Adam",
         "United States of America",
         "Water Polo",
         "Women"
        ],
        [
         "KRIST JANSSON Aron",
         "Bahrain",
         "Handball",
         "Men"
        ],
        [
         "KRUMBHOLZ Olivier",
         "France",
         "Handball",
         "Women"
        ],
        [
         "KULESZA Katarzyna",
         "Canada",
         "Artistic Swimming",
         "Team"
        ],
        [
         "KUNTZ Stefan",
         "Germany",
         "Football",
         "Men"
        ],
        [
         "KUZIN Andrey",
         "ROC",
         "Rugby Sevens",
         "Women"
        ],
        [
         "KWIEK Marcos",
         "Dominican Republic",
         "Volleyball",
         "Women"
        ],
        [
         "LAIDLAW Clark",
         "New Zealand",
         "Rugby Sevens",
         "Men"
        ],
        [
         "LAMAS Julio",
         "Japan",
         "Basketball",
         "Men"
        ],
        [
         "LANG Ping",
         "People's Republic of China",
         "Volleyball",
         "Women"
        ],
        [
         "LAVARINI Stefano",
         "Republic of Korea",
         "Volleyball",
         "Women"
        ],
        [
         "LAZARO CORRAL Jesus",
         "Spain",
         "Basketball",
         null
        ],
        [
         "LETELIER Jose",
         "Chile",
         "Football",
         "Women"
        ],
        [
         "LOCK Adrian Mayner",
         "Spain",
         "Hockey",
         "Women"
        ],
        [
         "LOFTUS Adriana",
         "Mexico",
         "Artistic Swimming",
         "Duet"
        ],
        [
         "LOPES BARBOSA Leonard",
         "Kenya",
         "Volleyball",
         null
        ],
        [
         "LOPEZ GUILLEN Melvyn",
         "Dominican Republic",
         "Basketball",
         null
        ],
        [
         "LOPEZ Monica Susana",
         "Argentina",
         "Artistic Swimming",
         null
        ],
        [
         "LOUCKS Luke",
         "Nigeria",
         "Basketball",
         null
        ],
        [
         "LOZANO Jaime",
         "Mexico",
         "Football",
         "Men"
        ],
        [
         "MACEK Anze",
         "Slovenia",
         "Basketball",
         null
        ],
        [
         "MACKINTOSH Euan Michael Gordon",
         "People's Republic of China",
         "Rugby Sevens",
         "Women"
        ],
        [
         "MAEDA Kenzo",
         "Japan",
         "Basketball",
         null
        ],
        [
         "MAHLANGU Sibusiso",
         "South Africa",
         "Football",
         null
        ],
        [
         "MAKIRI Hare",
         "Japan",
         "Rugby Sevens",
         "Women"
        ],
        [
         "MALJKOVIC Marina",
         "Serbia",
         "Basketball",
         "Women"
        ],
        [
         "MANENTI John",
         "Australia",
         "Rugby Sevens",
         "Women"
        ],
        [
         "MANZANILLO Andres",
         "Venezuela",
         "Volleyball",
         null
        ],
        [
         "MARCZ Tamas",
         "Hungary",
         "Water Polo",
         "Men"
        ],
        [
         "MARIJNE Sjoerd",
         "India",
         "Hockey",
         "Women"
        ],
        [
         "MARINELLI Fernando",
         "Chile",
         "Football",
         null
        ],
        [
         "MARTIN LOZANO David",
         "Spain",
         "Water Polo",
         "Men"
        ],
        [
         "MARTIN Paul",
         "South Africa",
         "Water Polo",
         "Men"
        ],
        [
         "MASHA Mario",
         "South Africa",
         "Football",
         null
        ],
        [
         "MATSUNO Yoshiyuki",
         "Japan",
         "Basketball",
         null
        ],
        [
         "MATSUODANI Yasushi",
         "Japan",
         "Football",
         null
        ],
        [
         "MAYBURY Elena",
         "United States of America",
         "Football",
         null
        ],
        [
         "MAYONNADE Emmanuel",
         "Netherlands",
         "Handball",
         "Women"
        ],
        [
         "MAZZANTI Davide",
         "Italy",
         "Volleyball",
         "Women"
        ],
        [
         "McCRORIE Christy",
         "South Africa",
         "Hockey",
         null
        ],
        [
         "McLEOD Shane",
         "Belgium",
         "Hockey",
         "Men"
        ],
        [
         "MEDINA Bobby",
         "Nigeria",
         "Basketball",
         null
        ],
        [
         "MENDEZ Marcelo Rodolfo",
         "Argentina",
         "Volleyball",
         "Men"
        ],
        [
         "MENGUAL CIVIL Gemma",
         "Spain",
         "Artistic Swimming",
         null
        ],
        [
         "MENTOOR Delaine",
         "South Africa",
         "Water Polo",
         "Women"
        ],
        [
         "MERCEDES del ROSARIO Jose",
         "Dominican Republic",
         "Basketball",
         null
        ],
        [
         "MESTDAGH Philip",
         "Belgium",
         "Basketball",
         "Women"
        ],
        [
         "MEZHENINA Valeriia",
         "Ukraine",
         "Artistic Swimming",
         "Team"
        ],
        [
         "MEZIANE Rachid",
         "France",
         "Basketball",
         null
        ],
        [
         "MIHAILOVIC Predrag",
         "Australia",
         "Water Polo",
         "Women"
        ],
        [
         "MIREJOVSKY Michal",
         "Czech Republic",
         "Basketball",
         null
        ],
        [
         "MIRET GARCIA Daniel",
         "Spain",
         "Basketball",
         null
        ],
        [
         "MIURA Keiko",
         "Japan",
         "Hockey",
         "Women"
        ],
        [
         "MIYAKAWA Miya",
         "Japan",
         "Artistic Swimming",
         null
        ],
        [
         "MLADENOVA Albena",
         "Austria",
         "Artistic Swimming",
         "Duet"
        ],
        [
         "MOHAMED Mai",
         "Egypt",
         "Artistic Swimming",
         null
        ],
        [
         "MOHAMED Sayeda",
         "Saudi Arabia",
         "Football",
         null
        ],
        [
         "MOHAMMED Silifat",
         "Nigeria",
         "Basketball",
         null
        ],
        [
         "MONDELO GARCIA Lucas",
         "Spain",
         "Basketball",
         "Women"
        ],
        [
         "MONTICO Loredana",
         "Australia",
         "Artistic Swimming",
         "Duet"
        ],
        [
         "MONTICO Loredana",
         "Australia",
         "Artistic Swimming",
         "Team"
        ],
        [
         "MORIYASU Hajime",
         "Japan",
         "Football",
         "Men"
        ],
        [
         "MOTOMIYA Makihiro",
         "Japan",
         "Water Polo",
         "Women"
        ],
        [
         "MULATI Adilijiang",
         "People's Republic of China",
         "Basketball",
         null
        ],
        [
         "MUNOZ Noe de Jesus",
         "Mexico",
         "Baseball/Softball",
         "Baseball"
        ],
        [
         "MWAPE Bruce",
         "Zambia",
         "Football",
         "Women"
        ],
        [
         "NAGAE Shoji",
         "Japan",
         "Volleyball",
         null
        ],
        [
         "NAIDOO Taren",
         "South Africa",
         "Hockey",
         "Women"
        ],
        [
         "NAKADA Kumi",
         "Japan",
         "Volleyball",
         "Women"
        ],
        [
         "NAKAGAICHI Yuichi",
         "Japan",
         "Volleyball",
         "Men"
        ],
        [
         "NCUBE Mthandazo",
         "South Africa",
         "Football",
         null
        ],
        [
         "NEVES Christophe",
         "C�te d'Ivoire",
         "Football",
         null
        ],
        [
         "NISHIDA Takumi",
         "Japan",
         "Rugby Sevens",
         null
        ],
        [
         "NOTOANE David",
         "South Africa",
         "Football",
         "Men"
        ],
        [
         "OCA GAIA Miguel Angel",
         "Spain",
         "Water Polo",
         "Women"
        ],
        [
         "ODAUDU Ogoh",
         "Nigeria",
         "Basketball",
         null
        ],
        [
         "OLOO Felix",
         "Kenya",
         "Rugby Sevens",
         "Women"
        ],
        [
         "OMOTO Yoji",
         "Japan",
         "Water Polo",
         "Men"
        ],
        [
         "PAGAN CRISTOBAL Angel",
         "Puerto Rico",
         "Basketball",
         null
        ],
        [
         "PALERMI Giovanna",
         "Italy",
         "Baseball/Softball",
         "Softball"
        ],
        [
         "PANTOJA Hernan",
         "Venezuela",
         "Volleyball",
         null
        ],
        [
         "PARADELO David",
         "Canada",
         "Water Polo",
         "Women"
        ],
        [
         "PARRONDO Roberto",
         "Egypt",
         "Handball",
         "Men"
        ],
        [
         "PAUL Henry",
         "Canada",
         "Rugby Sevens",
         "Men"
        ],
        [
         "PECCI Isabella",
         "San Marino",
         "Artistic Swimming",
         null
        ],
        [
         "PEDRERO Ofelia",
         "Mexico",
         "Artistic Swimming",
         "Duet"
        ],
        [
         "PEREIRA Paulo Jorge",
         "Portugal",
         "Handball",
         "Men"
        ],
        [
         "PEREZ Jose",
         "Venezuela",
         "Basketball",
         null
        ],
        [
         "PIBIRI Rossella",
         "Italy",
         "Artistic Swimming",
         null
        ],
        [
         "PISKAREVA Ekaterina",
         "ROC",
         "Artistic Swimming",
         null
        ],
        [
         "PIZZOLINI Federico",
         "Italy",
         "Baseball/Softball",
         "Softball"
        ],
        [
         "POPOVICH Gregg",
         "United States of America",
         "Basketball",
         "Men"
        ],
        [
         "POROBIC Petar",
         "People's Republic of China",
         "Water Polo",
         "Women"
        ],
        [
         "POTTER Anthony",
         "Australia",
         "Hockey",
         "Men"
        ],
        [
         "POWELL Katrina",
         "Australia",
         "Hockey",
         "Women"
        ],
        [
         "POWELL Neil",
         "South Africa",
         "Rugby Sevens",
         "Men"
        ],
        [
         "PRADO BRANAS Joaquin",
         "Spain",
         "Basketball",
         null
        ],
        [
         "PRIESTMAN Bev",
         "Canada",
         "Football",
         "Women"
        ],
        [
         "RADOI Mirel",
         "Romania",
         "Football",
         "Men"
        ],
        [
         "RECKINGER Xavier",
         "Germany",
         "Hockey",
         "Women"
        ],
        [
         "REID Graham John",
         "India",
         "Hockey",
         "Men"
        ],
        [
         "REQUENA PERICAS Judit",
         "Spain",
         "Artistic Swimming",
         "Duet"
        ],
        [
         "REQUENA PERICAS Judit",
         "Spain",
         "Artistic Swimming",
         "Team"
        ],
        [
         "RETEGUI Carlos Jose",
         "Argentina",
         "Hockey",
         "Men"
        ],
        [
         "RETEGUI Carlos Jose",
         "Argentina",
         "Hockey",
         "Women"
        ],
        [
         "RIBERA ROMANS Jordi",
         "Spain",
         "Handball",
         "Men"
        ],
        [
         "RIISE Hege",
         "Great Britain",
         "Football",
         "Women"
        ],
        [
         "RILLIE John",
         "Australia",
         "Basketball",
         null
        ],
        [
         "RIPOLL Sylvain",
         "France",
         "Football",
         "Men"
        ],
        [
         "RODRIGUEZ Eduardo Rafael",
         "Argentina",
         "Volleyball",
         null
        ],
        [
         "ROEDL Henrik",
         "Germany",
         "Basketball",
         "Men"
        ],
        [
         "ROQUES Anthony",
         "Great Britain",
         "Rugby Sevens",
         "Men"
        ],
        [
         "SACCHETTI Romeo",
         "Italy",
         "Basketball",
         "Men"
        ],
        [
         "SALAM Mohamed",
         "Egypt",
         "Football",
         null
        ],
        [
         "SAMMELVUO Tuomas",
         "ROC",
         "Volleyball",
         "Men"
        ],
        [
         "SARTI Ronald",
         "Venezuela",
         "Volleyball",
         "Men"
        ],
        [
         "SAVIC Dejan",
         "Serbia",
         "Water Polo",
         "Men"
        ],
        [
         "SAVIC Maja",
         "Montenegro",
         "Handball",
         "Women"
        ],
        [
         "SCARIOLO Sergio",
         "Spain",
         "Basketball",
         "Men"
        ],
        [
         "SCHILLING April",
         "Nigeria",
         "Basketball",
         null
        ],
        [
         "SEKULIC Aleksander",
         "Slovenia",
         "Basketball",
         "Men"
        ],
        [
         "SEO Chun Oh",
         "Republic of Korea",
         "Rugby Sevens",
         "Men"
        ],
        [
         "SERMANNI Tom",
         "New Zealand",
         "Football",
         "Women"
        ],
        [
         "SHAHINTAB Mehran",
         "Islamic Republic of Iran",
         "Basketball",
         "Men"
        ],
        [
         "SHAHNAZI Shahbaz",
         "Austria",
         "Artistic Swimming",
         null
        ],
        [
         "SHAW Graham",
         "New Zealand",
         "Hockey",
         "Women"
        ],
        [
         "SHAWKY Gharib",
         "Egypt",
         "Football",
         "Men"
        ],
        [
         "SIAM Zaghloul",
         "Egypt",
         "Football",
         null
        ],
        [
         "SIGURDSSON Dagur",
         "Japan",
         "Handball",
         "Men"
        ],
        [
         "SIMIYU Innocent",
         "Kenya",
         "Rugby Sevens",
         "Men"
        ],
        [
         "SINGH Shivendra",
         "India",
         "Hockey",
         "Men"
        ],
        [
         "SMITH Darren",
         "New Zealand",
         "Hockey",
         "Men"
        ],
        [
         "SMITH Mark",
         "Canada",
         "Baseball/Softball",
         "Softball"
        ],
        [
         "SOLBERG Glenn",
         "Sweden",
         "Handball",
         "Men"
        ],
        [
         "SOYEZ Frederic",
         "Spain",
         "Hockey",
         "Men"
        ],
        [
         "SPERAW John",
         "United States of America",
         "Volleyball",
         "Men"
        ],
        [
         "SPERONI Stefania",
         "Great Britain",
         "Artistic Swimming",
         "Duet"
        ],
        [
         "STALEY Dawn",
         "United States of America",
         "Basketball",
         "Women"
        ],
        [
         "STANIFORTH Dave",
         "Australia",
         "Hockey",
         null
        ],
        [
         "STAS Jacques",
         "Belgium",
         "Basketball",
         null
        ],
        [
         "SUNDHAGE Pia Mariane",
         "Brazil",
         "Football",
         "Women"
        ],
        [
         "SVETLICHNAYA Aliona",
         "Belarus",
         "Artistic Swimming",
         "Duet"
        ],
        [
         "SZAUDER Gabor",
         "Canada",
         "Artistic Swimming",
         "Duet"
        ],
        [
         "SZAUDER Gabor",
         "Canada",
         "Artistic Swimming",
         "Team"
        ],
        [
         "SZAUDER Nora",
         "Slovakia",
         "Artistic Swimming",
         null
        ],
        [
         "TAGLE German",
         "Chile",
         "Football",
         null
        ],
        [
         "TAKAKURA Asako",
         "Japan",
         "Football",
         "Women"
        ],
        [
         "TAKITA Risako",
         "Japan",
         "Artistic Swimming",
         null
        ],
        [
         "TARR Heather",
         "United States of America",
         "Baseball/Softball",
         "Softball"
        ],
        [
         "TARRES CAMPA Ana",
         "Greece",
         "Artistic Swimming",
         "Duet"
        ],
        [
         "TARRES CAMPA Ana",
         "Greece",
         "Artistic Swimming",
         "Team"
        ],
        [
         "TERZIC Zoran",
         "Serbia",
         "Volleyball",
         "Women"
        ],
        [
         "THOMAIDIS Lisa",
         "Canada",
         "Basketball",
         "Women"
        ],
        [
         "TILLIE Laurent",
         "France",
         "Volleyball",
         "Men"
        ],
        [
         "TOMOMATSU Yumiko",
         "Italy",
         "Artistic Swimming",
         null
        ],
        [
         "TUCAK Ivica",
         "Croatia",
         "Water Polo",
         "Men"
        ],
        [
         "TURNER Glenn",
         "New Zealand",
         "Hockey",
         "Men"
        ],
        [
         "UDOKA Ime",
         "United States of America",
         "Basketball",
         null
        ],
        [
         "UDOVICIC Dejan",
         "United States of America",
         "Water Polo",
         "Men"
        ],
        [
         "UTKIN Volodymyr",
         "Ukraine",
         "Artistic Swimming",
         null
        ],
        [
         "UTSUGI Reika",
         "Japan",
         "Baseball/Softball",
         "Softball"
        ],
        [
         "van GINKEL Robin",
         "South Africa",
         "Hockey",
         "Women"
        ],
        [
         "van GUNDY Jeff",
         "United States of America",
         "Basketball",
         null
        ],
        [
         "VASQUEZ Diego",
         "Venezuela",
         "Basketball",
         null
        ],
        [
         "VEGA HERRERO Anna",
         "Spain",
         "Artistic Swimming",
         null
        ],
        [
         "VILLEGAS Orlando",
         "Venezuela",
         "Volleyball",
         null
        ],
        [
         "VITORINO de SOUZA Marcelo",
         "Kenya",
         "Volleyball",
         null
        ],
        [
         "VIVER ARZA Carlos Enrique",
         "Spain",
         "Handball",
         "Women"
        ],
        [
         "VLACHOS Theodoros",
         "Greece",
         "Water Polo",
         "Men"
        ],
        [
         "VORONOVA Elena",
         "ROC",
         "Artistic Swimming",
         "Duet"
        ],
        [
         "WALL Michael",
         "United States of America",
         "Volleyball",
         null
        ],
        [
         "WALSH Tim",
         "Australia",
         "Rugby Sevens",
         "Men"
        ],
        [
         "WANG Jie",
         "People's Republic of China",
         "Artistic Swimming",
         "Duet"
        ],
        [
         "WANG Jie",
         "People's Republic of China",
         "Artistic Swimming",
         "Team"
        ],
        [
         "WANG Yang",
         "People's Republic of China",
         "Hockey",
         "Women"
        ],
        [
         "WEINSTEIN Jerry",
         "United States of America",
         "Baseball/Softball",
         "Baseball"
        ],
        [
         "WIEGMAN Sarina",
         "Netherlands",
         "Football",
         "Women"
        ],
        [
         "WIRTH Oscar",
         "Chile",
         "Football",
         null
        ],
        [
         "WOELFLIN Roberto Osvaldo",
         "Argentina",
         "Volleyball",
         null
        ],
        [
         "WOICKI Pawel",
         "Poland",
         "Volleyball",
         null
        ],
        [
         "WRIGHT Jerold",
         "United States of America",
         "Basketball",
         null
        ],
        [
         "XU Limin",
         "People's Republic of China",
         "Basketball",
         "Women"
        ],
        [
         "YAMAJI Noriko",
         "Japan",
         "Baseball/Softball",
         "Softball"
        ],
        [
         "YUAN Lingxi",
         "People's Republic of China",
         "Volleyball",
         null
        ],
        [
         "YURKIN Sergey",
         "ROC",
         "Volleyball",
         null
        ],
        [
         "ZAITSEVA Olesia",
         "Ukraine",
         "Artistic Swimming",
         "Duet"
        ],
        [
         "ZAMORA PEDREIRA Javier",
         "Spain",
         "Basketball",
         null
        ],
        [
         "ZAMPIERI Francesca",
         "Liechtenstein",
         "Artistic Swimming",
         "Duet"
        ],
        [
         "ZHANG Xiaohuan",
         "People's Republic of China",
         "Artistic Swimming",
         null
        ],
        [
         "ZIJP Simon",
         "Netherlands",
         "Hockey",
         null
        ],
        [
         "ZONDI Nkuliso",
         "South Africa",
         "Hockey",
         "Women"
        ]
       ],
       "datasetInfos": [],
       "dbfsResultPath": null,
       "isJsonSchema": true,
       "metadata": {},
       "overflow": false,
       "plotOptions": {
        "customPlotOptions": {},
        "displayType": "table",
        "pivotAggregation": null,
        "pivotColumns": null,
        "xColumns": null,
        "yColumns": null
       },
       "removedWidgets": [],
       "schema": [
        {
         "metadata": "{}",
         "name": "Name",
         "type": "\"string\""
        },
        {
         "metadata": "{}",
         "name": "Country",
         "type": "\"string\""
        },
        {
         "metadata": "{}",
         "name": "Discipline",
         "type": "\"string\""
        },
        {
         "metadata": "{}",
         "name": "Event",
         "type": "\"string\""
        }
       ],
       "type": "table"
      }
     },
     "output_type": "display_data"
    }
   ],
   "source": [
    "display(coaches)\n",
    "\n"
   ]
  },
  {
   "cell_type": "code",
   "execution_count": 0,
   "metadata": {
    "application/vnd.databricks.v1+cell": {
     "cellMetadata": {
      "byteLimit": 2048000,
      "rowLimit": 10000
     },
     "inputWidgets": {},
     "nuid": "0ed620da-fba2-469b-a5b5-a7427bb46b77",
     "showTitle": false,
     "tableResultSettingsMap": {},
     "title": ""
    }
   },
   "outputs": [
    {
     "data": {
      "text/html": [
       "<style scoped>\n",
       "  .table-result-container {\n",
       "    max-height: 300px;\n",
       "    overflow: auto;\n",
       "  }\n",
       "  table, th, td {\n",
       "    border: 1px solid black;\n",
       "    border-collapse: collapse;\n",
       "  }\n",
       "  th, td {\n",
       "    padding: 5px;\n",
       "  }\n",
       "  th {\n",
       "    text-align: left;\n",
       "  }\n",
       "</style><div class='table-result-container'><table class='table-result'><thead style='background-color: white'><tr><th>Discipline</th><th>Female</th><th>Male</th><th>Total</th></tr></thead><tbody><tr><td>3x3 Basketball</td><td>32</td><td>32</td><td>64</td></tr><tr><td>Archery</td><td>64</td><td>64</td><td>128</td></tr><tr><td>Artistic Gymnastics</td><td>98</td><td>98</td><td>196</td></tr><tr><td>Artistic Swimming</td><td>105</td><td>0</td><td>105</td></tr><tr><td>Athletics</td><td>969</td><td>1072</td><td>2041</td></tr><tr><td>Badminton</td><td>86</td><td>87</td><td>173</td></tr><tr><td>Baseball/Softball</td><td>90</td><td>144</td><td>234</td></tr><tr><td>Basketball</td><td>144</td><td>144</td><td>288</td></tr><tr><td>Beach Volleyball</td><td>48</td><td>48</td><td>96</td></tr><tr><td>Boxing</td><td>102</td><td>187</td><td>289</td></tr><tr><td>Canoe Slalom</td><td>41</td><td>41</td><td>82</td></tr><tr><td>Canoe Sprint</td><td>123</td><td>126</td><td>249</td></tr><tr><td>Cycling BMX Freestyle</td><td>10</td><td>9</td><td>19</td></tr><tr><td>Cycling BMX Racing</td><td>24</td><td>24</td><td>48</td></tr><tr><td>Cycling Mountain Bike</td><td>38</td><td>38</td><td>76</td></tr><tr><td>Cycling Road</td><td>70</td><td>131</td><td>201</td></tr><tr><td>Cycling Track</td><td>90</td><td>99</td><td>189</td></tr><tr><td>Diving</td><td>72</td><td>71</td><td>143</td></tr><tr><td>Equestrian</td><td>73</td><td>125</td><td>198</td></tr><tr><td>Fencing</td><td>107</td><td>108</td><td>215</td></tr><tr><td>Football</td><td>264</td><td>344</td><td>608</td></tr><tr><td>Golf</td><td>60</td><td>60</td><td>120</td></tr><tr><td>Handball</td><td>168</td><td>168</td><td>336</td></tr><tr><td>Hockey</td><td>192</td><td>192</td><td>384</td></tr><tr><td>Judo</td><td>192</td><td>201</td><td>393</td></tr><tr><td>Karate</td><td>40</td><td>42</td><td>82</td></tr><tr><td>Marathon Swimming</td><td>25</td><td>25</td><td>50</td></tr><tr><td>Modern Pentathlon</td><td>36</td><td>36</td><td>72</td></tr><tr><td>Rhythmic Gymnastics</td><td>96</td><td>0</td><td>96</td></tr><tr><td>Rowing</td><td>257</td><td>265</td><td>522</td></tr><tr><td>Rugby Sevens</td><td>146</td><td>151</td><td>297</td></tr><tr><td>Sailing</td><td>175</td><td>175</td><td>350</td></tr><tr><td>Shooting</td><td>178</td><td>178</td><td>356</td></tr><tr><td>Skateboarding</td><td>40</td><td>40</td><td>80</td></tr><tr><td>Sport Climbing</td><td>20</td><td>20</td><td>40</td></tr><tr><td>Surfing</td><td>20</td><td>20</td><td>40</td></tr><tr><td>Swimming</td><td>361</td><td>418</td><td>779</td></tr><tr><td>Table Tennis</td><td>86</td><td>86</td><td>172</td></tr><tr><td>Taekwondo</td><td>65</td><td>65</td><td>130</td></tr><tr><td>Tennis</td><td>94</td><td>97</td><td>191</td></tr><tr><td>Trampoline Gymnastics</td><td>16</td><td>16</td><td>32</td></tr><tr><td>Triathlon</td><td>55</td><td>55</td><td>110</td></tr><tr><td>Volleyball</td><td>144</td><td>144</td><td>288</td></tr><tr><td>Water Polo</td><td>122</td><td>146</td><td>268</td></tr><tr><td>Weightlifting</td><td>98</td><td>99</td><td>197</td></tr><tr><td>Wrestling</td><td>96</td><td>193</td><td>289</td></tr></tbody></table></div>"
      ]
     },
     "metadata": {
      "application/vnd.databricks.v1+output": {
       "addedWidgets": {},
       "aggData": [],
       "aggError": "",
       "aggOverflow": false,
       "aggSchema": [],
       "aggSeriesLimitReached": false,
       "aggType": "",
       "arguments": {},
       "columnCustomDisplayInfos": {},
       "data": [
        [
         "3x3 Basketball",
         "32",
         "32",
         "64"
        ],
        [
         "Archery",
         "64",
         "64",
         "128"
        ],
        [
         "Artistic Gymnastics",
         "98",
         "98",
         "196"
        ],
        [
         "Artistic Swimming",
         "105",
         "0",
         "105"
        ],
        [
         "Athletics",
         "969",
         "1072",
         "2041"
        ],
        [
         "Badminton",
         "86",
         "87",
         "173"
        ],
        [
         "Baseball/Softball",
         "90",
         "144",
         "234"
        ],
        [
         "Basketball",
         "144",
         "144",
         "288"
        ],
        [
         "Beach Volleyball",
         "48",
         "48",
         "96"
        ],
        [
         "Boxing",
         "102",
         "187",
         "289"
        ],
        [
         "Canoe Slalom",
         "41",
         "41",
         "82"
        ],
        [
         "Canoe Sprint",
         "123",
         "126",
         "249"
        ],
        [
         "Cycling BMX Freestyle",
         "10",
         "9",
         "19"
        ],
        [
         "Cycling BMX Racing",
         "24",
         "24",
         "48"
        ],
        [
         "Cycling Mountain Bike",
         "38",
         "38",
         "76"
        ],
        [
         "Cycling Road",
         "70",
         "131",
         "201"
        ],
        [
         "Cycling Track",
         "90",
         "99",
         "189"
        ],
        [
         "Diving",
         "72",
         "71",
         "143"
        ],
        [
         "Equestrian",
         "73",
         "125",
         "198"
        ],
        [
         "Fencing",
         "107",
         "108",
         "215"
        ],
        [
         "Football",
         "264",
         "344",
         "608"
        ],
        [
         "Golf",
         "60",
         "60",
         "120"
        ],
        [
         "Handball",
         "168",
         "168",
         "336"
        ],
        [
         "Hockey",
         "192",
         "192",
         "384"
        ],
        [
         "Judo",
         "192",
         "201",
         "393"
        ],
        [
         "Karate",
         "40",
         "42",
         "82"
        ],
        [
         "Marathon Swimming",
         "25",
         "25",
         "50"
        ],
        [
         "Modern Pentathlon",
         "36",
         "36",
         "72"
        ],
        [
         "Rhythmic Gymnastics",
         "96",
         "0",
         "96"
        ],
        [
         "Rowing",
         "257",
         "265",
         "522"
        ],
        [
         "Rugby Sevens",
         "146",
         "151",
         "297"
        ],
        [
         "Sailing",
         "175",
         "175",
         "350"
        ],
        [
         "Shooting",
         "178",
         "178",
         "356"
        ],
        [
         "Skateboarding",
         "40",
         "40",
         "80"
        ],
        [
         "Sport Climbing",
         "20",
         "20",
         "40"
        ],
        [
         "Surfing",
         "20",
         "20",
         "40"
        ],
        [
         "Swimming",
         "361",
         "418",
         "779"
        ],
        [
         "Table Tennis",
         "86",
         "86",
         "172"
        ],
        [
         "Taekwondo",
         "65",
         "65",
         "130"
        ],
        [
         "Tennis",
         "94",
         "97",
         "191"
        ],
        [
         "Trampoline Gymnastics",
         "16",
         "16",
         "32"
        ],
        [
         "Triathlon",
         "55",
         "55",
         "110"
        ],
        [
         "Volleyball",
         "144",
         "144",
         "288"
        ],
        [
         "Water Polo",
         "122",
         "146",
         "268"
        ],
        [
         "Weightlifting",
         "98",
         "99",
         "197"
        ],
        [
         "Wrestling",
         "96",
         "193",
         "289"
        ]
       ],
       "datasetInfos": [],
       "dbfsResultPath": null,
       "isJsonSchema": true,
       "metadata": {},
       "overflow": false,
       "plotOptions": {
        "customPlotOptions": {},
        "displayType": "table",
        "pivotAggregation": null,
        "pivotColumns": null,
        "xColumns": null,
        "yColumns": null
       },
       "removedWidgets": [],
       "schema": [
        {
         "metadata": "{}",
         "name": "Discipline",
         "type": "\"string\""
        },
        {
         "metadata": "{}",
         "name": "Female",
         "type": "\"string\""
        },
        {
         "metadata": "{}",
         "name": "Male",
         "type": "\"string\""
        },
        {
         "metadata": "{}",
         "name": "Total",
         "type": "\"string\""
        }
       ],
       "type": "table"
      }
     },
     "output_type": "display_data"
    }
   ],
   "source": [
    "display(entriesGender)\n"
   ]
  },
  {
   "cell_type": "code",
   "execution_count": 0,
   "metadata": {
    "application/vnd.databricks.v1+cell": {
     "cellMetadata": {
      "byteLimit": 2048000,
      "rowLimit": 10000
     },
     "inputWidgets": {},
     "nuid": "1c2d5b45-b1f7-49ab-8eb5-63bde5ea541c",
     "showTitle": false,
     "tableResultSettingsMap": {},
     "title": ""
    }
   },
   "outputs": [],
   "source": [
    "entriesGender.printSchema()"
   ]
  },
  {
   "cell_type": "code",
   "execution_count": 0,
   "metadata": {
    "application/vnd.databricks.v1+cell": {
     "cellMetadata": {
      "byteLimit": 2048000,
      "rowLimit": 10000
     },
     "inputWidgets": {},
     "nuid": "f4bed7b7-d026-4444-8926-dd817065c65a",
     "showTitle": false,
     "tableResultSettingsMap": {},
     "title": ""
    }
   },
   "outputs": [
    {
     "data": {
      "text/html": [
       "<style scoped>\n",
       "  .table-result-container {\n",
       "    max-height: 300px;\n",
       "    overflow: auto;\n",
       "  }\n",
       "  table, th, td {\n",
       "    border: 1px solid black;\n",
       "    border-collapse: collapse;\n",
       "  }\n",
       "  th, td {\n",
       "    padding: 5px;\n",
       "  }\n",
       "  th {\n",
       "    text-align: left;\n",
       "  }\n",
       "</style><div class='table-result-container'><table class='table-result'><thead style='background-color: white'><tr><th>Discipline</th><th>Female</th><th>Male</th><th>Total</th></tr></thead><tbody><tr><td>3x3 Basketball</td><td>32</td><td>32</td><td>64</td></tr><tr><td>Archery</td><td>64</td><td>64</td><td>128</td></tr><tr><td>Artistic Gymnastics</td><td>98</td><td>98</td><td>196</td></tr><tr><td>Artistic Swimming</td><td>105</td><td>0</td><td>105</td></tr><tr><td>Athletics</td><td>969</td><td>1072</td><td>2041</td></tr><tr><td>Badminton</td><td>86</td><td>87</td><td>173</td></tr><tr><td>Baseball/Softball</td><td>90</td><td>144</td><td>234</td></tr><tr><td>Basketball</td><td>144</td><td>144</td><td>288</td></tr><tr><td>Beach Volleyball</td><td>48</td><td>48</td><td>96</td></tr><tr><td>Boxing</td><td>102</td><td>187</td><td>289</td></tr><tr><td>Canoe Slalom</td><td>41</td><td>41</td><td>82</td></tr><tr><td>Canoe Sprint</td><td>123</td><td>126</td><td>249</td></tr><tr><td>Cycling BMX Freestyle</td><td>10</td><td>9</td><td>19</td></tr><tr><td>Cycling BMX Racing</td><td>24</td><td>24</td><td>48</td></tr><tr><td>Cycling Mountain Bike</td><td>38</td><td>38</td><td>76</td></tr><tr><td>Cycling Road</td><td>70</td><td>131</td><td>201</td></tr><tr><td>Cycling Track</td><td>90</td><td>99</td><td>189</td></tr><tr><td>Diving</td><td>72</td><td>71</td><td>143</td></tr><tr><td>Equestrian</td><td>73</td><td>125</td><td>198</td></tr><tr><td>Fencing</td><td>107</td><td>108</td><td>215</td></tr><tr><td>Football</td><td>264</td><td>344</td><td>608</td></tr><tr><td>Golf</td><td>60</td><td>60</td><td>120</td></tr><tr><td>Handball</td><td>168</td><td>168</td><td>336</td></tr><tr><td>Hockey</td><td>192</td><td>192</td><td>384</td></tr><tr><td>Judo</td><td>192</td><td>201</td><td>393</td></tr><tr><td>Karate</td><td>40</td><td>42</td><td>82</td></tr><tr><td>Marathon Swimming</td><td>25</td><td>25</td><td>50</td></tr><tr><td>Modern Pentathlon</td><td>36</td><td>36</td><td>72</td></tr><tr><td>Rhythmic Gymnastics</td><td>96</td><td>0</td><td>96</td></tr><tr><td>Rowing</td><td>257</td><td>265</td><td>522</td></tr><tr><td>Rugby Sevens</td><td>146</td><td>151</td><td>297</td></tr><tr><td>Sailing</td><td>175</td><td>175</td><td>350</td></tr><tr><td>Shooting</td><td>178</td><td>178</td><td>356</td></tr><tr><td>Skateboarding</td><td>40</td><td>40</td><td>80</td></tr><tr><td>Sport Climbing</td><td>20</td><td>20</td><td>40</td></tr><tr><td>Surfing</td><td>20</td><td>20</td><td>40</td></tr><tr><td>Swimming</td><td>361</td><td>418</td><td>779</td></tr><tr><td>Table Tennis</td><td>86</td><td>86</td><td>172</td></tr><tr><td>Taekwondo</td><td>65</td><td>65</td><td>130</td></tr><tr><td>Tennis</td><td>94</td><td>97</td><td>191</td></tr><tr><td>Trampoline Gymnastics</td><td>16</td><td>16</td><td>32</td></tr><tr><td>Triathlon</td><td>55</td><td>55</td><td>110</td></tr><tr><td>Volleyball</td><td>144</td><td>144</td><td>288</td></tr><tr><td>Water Polo</td><td>122</td><td>146</td><td>268</td></tr><tr><td>Weightlifting</td><td>98</td><td>99</td><td>197</td></tr><tr><td>Wrestling</td><td>96</td><td>193</td><td>289</td></tr></tbody></table></div>"
      ]
     },
     "metadata": {
      "application/vnd.databricks.v1+output": {
       "addedWidgets": {},
       "aggData": [],
       "aggError": "",
       "aggOverflow": false,
       "aggSchema": [],
       "aggSeriesLimitReached": false,
       "aggType": "",
       "arguments": {},
       "columnCustomDisplayInfos": {},
       "data": [
        [
         "3x3 Basketball",
         32,
         32,
         64
        ],
        [
         "Archery",
         64,
         64,
         128
        ],
        [
         "Artistic Gymnastics",
         98,
         98,
         196
        ],
        [
         "Artistic Swimming",
         105,
         0,
         105
        ],
        [
         "Athletics",
         969,
         1072,
         2041
        ],
        [
         "Badminton",
         86,
         87,
         173
        ],
        [
         "Baseball/Softball",
         90,
         144,
         234
        ],
        [
         "Basketball",
         144,
         144,
         288
        ],
        [
         "Beach Volleyball",
         48,
         48,
         96
        ],
        [
         "Boxing",
         102,
         187,
         289
        ],
        [
         "Canoe Slalom",
         41,
         41,
         82
        ],
        [
         "Canoe Sprint",
         123,
         126,
         249
        ],
        [
         "Cycling BMX Freestyle",
         10,
         9,
         19
        ],
        [
         "Cycling BMX Racing",
         24,
         24,
         48
        ],
        [
         "Cycling Mountain Bike",
         38,
         38,
         76
        ],
        [
         "Cycling Road",
         70,
         131,
         201
        ],
        [
         "Cycling Track",
         90,
         99,
         189
        ],
        [
         "Diving",
         72,
         71,
         143
        ],
        [
         "Equestrian",
         73,
         125,
         198
        ],
        [
         "Fencing",
         107,
         108,
         215
        ],
        [
         "Football",
         264,
         344,
         608
        ],
        [
         "Golf",
         60,
         60,
         120
        ],
        [
         "Handball",
         168,
         168,
         336
        ],
        [
         "Hockey",
         192,
         192,
         384
        ],
        [
         "Judo",
         192,
         201,
         393
        ],
        [
         "Karate",
         40,
         42,
         82
        ],
        [
         "Marathon Swimming",
         25,
         25,
         50
        ],
        [
         "Modern Pentathlon",
         36,
         36,
         72
        ],
        [
         "Rhythmic Gymnastics",
         96,
         0,
         96
        ],
        [
         "Rowing",
         257,
         265,
         522
        ],
        [
         "Rugby Sevens",
         146,
         151,
         297
        ],
        [
         "Sailing",
         175,
         175,
         350
        ],
        [
         "Shooting",
         178,
         178,
         356
        ],
        [
         "Skateboarding",
         40,
         40,
         80
        ],
        [
         "Sport Climbing",
         20,
         20,
         40
        ],
        [
         "Surfing",
         20,
         20,
         40
        ],
        [
         "Swimming",
         361,
         418,
         779
        ],
        [
         "Table Tennis",
         86,
         86,
         172
        ],
        [
         "Taekwondo",
         65,
         65,
         130
        ],
        [
         "Tennis",
         94,
         97,
         191
        ],
        [
         "Trampoline Gymnastics",
         16,
         16,
         32
        ],
        [
         "Triathlon",
         55,
         55,
         110
        ],
        [
         "Volleyball",
         144,
         144,
         288
        ],
        [
         "Water Polo",
         122,
         146,
         268
        ],
        [
         "Weightlifting",
         98,
         99,
         197
        ],
        [
         "Wrestling",
         96,
         193,
         289
        ]
       ],
       "datasetInfos": [],
       "dbfsResultPath": null,
       "isJsonSchema": true,
       "metadata": {},
       "overflow": false,
       "plotOptions": {
        "customPlotOptions": {},
        "displayType": "table",
        "pivotAggregation": null,
        "pivotColumns": null,
        "xColumns": null,
        "yColumns": null
       },
       "removedWidgets": [],
       "schema": [
        {
         "metadata": "{}",
         "name": "Discipline",
         "type": "\"string\""
        },
        {
         "metadata": "{}",
         "name": "Female",
         "type": "\"integer\""
        },
        {
         "metadata": "{}",
         "name": "Male",
         "type": "\"integer\""
        },
        {
         "metadata": "{}",
         "name": "Total",
         "type": "\"integer\""
        }
       ],
       "type": "table"
      }
     },
     "output_type": "display_data"
    }
   ],
   "source": [
    "entriesGender = entriesGender.withColumn(\"Female\", col(\"Female\").cast(IntegerType())) \\\n",
    "    .withColumn(\"Male\", col(\"Male\").cast(IntegerType())) \\\n",
    "    .withColumn(\"Total\", col(\"Total\").cast(IntegerType()))\n",
    "\n",
    "display(entriesGender)"
   ]
  },
  {
   "cell_type": "code",
   "execution_count": 0,
   "metadata": {
    "application/vnd.databricks.v1+cell": {
     "cellMetadata": {
      "byteLimit": 2048000,
      "rowLimit": 10000
     },
     "inputWidgets": {},
     "nuid": "de21376d-b106-4a05-ad96-6cfb276ba78a",
     "showTitle": false,
     "tableResultSettingsMap": {},
     "title": ""
    }
   },
   "outputs": [],
   "source": [
    "medals.printSchema()"
   ]
  },
  {
   "cell_type": "code",
   "execution_count": 0,
   "metadata": {
    "application/vnd.databricks.v1+cell": {
     "cellMetadata": {},
     "inputWidgets": {},
     "nuid": "1ad2fa0e-5df3-49ea-b670-9b680f699820",
     "showTitle": false,
     "tableResultSettingsMap": {},
     "title": ""
    }
   },
   "outputs": [],
   "source": [
    "#For medals and other columns we are doing when we are reading the file we are using the following code to convert the columns to the correct data type---  option(\"inferSchema\", \"true\")"
   ]
  },
  {
   "cell_type": "code",
   "execution_count": 0,
   "metadata": {
    "application/vnd.databricks.v1+cell": {
     "cellMetadata": {
      "byteLimit": 2048000,
      "rowLimit": 10000
     },
     "inputWidgets": {},
     "nuid": "719c6ca6-8038-4e4c-86cd-5bd421bd7855",
     "showTitle": false,
     "tableResultSettingsMap": {},
     "title": ""
    }
   },
   "outputs": [
    {
     "data": {
      "text/html": [
       "<style scoped>\n",
       "  .table-result-container {\n",
       "    max-height: 300px;\n",
       "    overflow: auto;\n",
       "  }\n",
       "  table, th, td {\n",
       "    border: 1px solid black;\n",
       "    border-collapse: collapse;\n",
       "  }\n",
       "  th, td {\n",
       "    padding: 5px;\n",
       "  }\n",
       "  th {\n",
       "    text-align: left;\n",
       "  }\n",
       "</style><div class='table-result-container'><table class='table-result'><thead style='background-color: white'><tr><th>TeamName</th><th>Discipline</th><th>Country</th><th>Event</th></tr></thead><tbody><tr><td>Belgium</td><td>3x3 Basketball</td><td>Belgium</td><td>Men</td></tr><tr><td>China</td><td>3x3 Basketball</td><td>People's Republic of China</td><td>Men</td></tr><tr><td>China</td><td>3x3 Basketball</td><td>People's Republic of China</td><td>Women</td></tr><tr><td>France</td><td>3x3 Basketball</td><td>France</td><td>Women</td></tr><tr><td>Italy</td><td>3x3 Basketball</td><td>Italy</td><td>Women</td></tr><tr><td>Japan</td><td>3x3 Basketball</td><td>Japan</td><td>Men</td></tr><tr><td>Japan</td><td>3x3 Basketball</td><td>Japan</td><td>Women</td></tr><tr><td>Latvia</td><td>3x3 Basketball</td><td>Latvia</td><td>Men</td></tr><tr><td>Mongolia</td><td>3x3 Basketball</td><td>Mongolia</td><td>Women</td></tr><tr><td>Netherlands</td><td>3x3 Basketball</td><td>Netherlands</td><td>Men</td></tr><tr><td>Poland</td><td>3x3 Basketball</td><td>Poland</td><td>Men</td></tr><tr><td>ROC</td><td>3x3 Basketball</td><td>ROC</td><td>Men</td></tr><tr><td>ROC</td><td>3x3 Basketball</td><td>ROC</td><td>Women</td></tr><tr><td>Romania</td><td>3x3 Basketball</td><td>Romania</td><td>Women</td></tr><tr><td>Serbia</td><td>3x3 Basketball</td><td>Serbia</td><td>Men</td></tr><tr><td>United States</td><td>3x3 Basketball</td><td>United States of America</td><td>Women</td></tr><tr><td>Australia</td><td>Archery</td><td>Australia</td><td>Men's Team</td></tr><tr><td>Australia</td><td>Archery</td><td>Australia</td><td>Mixed Team</td></tr><tr><td>Bangladesh</td><td>Archery</td><td>Bangladesh</td><td>Mixed Team</td></tr><tr><td>Belarus</td><td>Archery</td><td>Belarus</td><td>Women's Team</td></tr><tr><td>Brazil</td><td>Archery</td><td>Brazil</td><td>Mixed Team</td></tr><tr><td>Canada</td><td>Archery</td><td>Canada</td><td>Mixed Team</td></tr><tr><td>China</td><td>Archery</td><td>People's Republic of China</td><td>Men's Team</td></tr><tr><td>China</td><td>Archery</td><td>People's Republic of China</td><td>Mixed Team</td></tr><tr><td>China</td><td>Archery</td><td>People's Republic of China</td><td>Women's Team</td></tr><tr><td>Chinese Taipei</td><td>Archery</td><td>Chinese Taipei</td><td>Men's Team</td></tr><tr><td>Chinese Taipei</td><td>Archery</td><td>Chinese Taipei</td><td>Mixed Team</td></tr><tr><td>Chinese Taipei</td><td>Archery</td><td>Chinese Taipei</td><td>Women's Team</td></tr><tr><td>Colombia</td><td>Archery</td><td>Colombia</td><td>Mixed Team</td></tr><tr><td>Egypt</td><td>Archery</td><td>Egypt</td><td>Mixed Team</td></tr><tr><td>France</td><td>Archery</td><td>France</td><td>Men's Team</td></tr><tr><td>France</td><td>Archery</td><td>France</td><td>Mixed Team</td></tr><tr><td>Germany</td><td>Archery</td><td>Germany</td><td>Mixed Team</td></tr><tr><td>Germany</td><td>Archery</td><td>Germany</td><td>Women's Team</td></tr><tr><td>Great Britain</td><td>Archery</td><td>Great Britain</td><td>Men's Team</td></tr><tr><td>Great Britain</td><td>Archery</td><td>Great Britain</td><td>Mixed Team</td></tr><tr><td>Great Britain</td><td>Archery</td><td>Great Britain</td><td>Women's Team</td></tr><tr><td>India</td><td>Archery</td><td>India</td><td>Men's Team</td></tr><tr><td>India</td><td>Archery</td><td>India</td><td>Mixed Team</td></tr><tr><td>Indonesia</td><td>Archery</td><td>Indonesia</td><td>Men's Team</td></tr><tr><td>Indonesia</td><td>Archery</td><td>Indonesia</td><td>Mixed Team</td></tr><tr><td>Italy</td><td>Archery</td><td>Italy</td><td>Mixed Team</td></tr><tr><td>Italy</td><td>Archery</td><td>Italy</td><td>Women's Team</td></tr><tr><td>Japan</td><td>Archery</td><td>Japan</td><td>Men's Team</td></tr><tr><td>Japan</td><td>Archery</td><td>Japan</td><td>Mixed Team</td></tr><tr><td>Japan</td><td>Archery</td><td>Japan</td><td>Women's Team</td></tr><tr><td>Kazakhstan</td><td>Archery</td><td>Kazakhstan</td><td>Men's Team</td></tr><tr><td>Malaysia</td><td>Archery</td><td>Malaysia</td><td>Mixed Team</td></tr><tr><td>Mexico</td><td>Archery</td><td>Mexico</td><td>Mixed Team</td></tr><tr><td>Mexico</td><td>Archery</td><td>Mexico</td><td>Women's Team</td></tr><tr><td>Mongolia</td><td>Archery</td><td>Mongolia</td><td>Mixed Team</td></tr><tr><td>Netherlands</td><td>Archery</td><td>Netherlands</td><td>Men's Team</td></tr><tr><td>Netherlands</td><td>Archery</td><td>Netherlands</td><td>Mixed Team</td></tr><tr><td>Poland</td><td>Archery</td><td>Poland</td><td>Mixed Team</td></tr><tr><td>Rep. of Moldova</td><td>Archery</td><td>Republic of Moldova</td><td>Mixed Team</td></tr><tr><td>Republic of Korea</td><td>Archery</td><td>Republic of Korea</td><td>Men's Team</td></tr><tr><td>Republic of Korea</td><td>Archery</td><td>Republic of Korea</td><td>Mixed Team</td></tr><tr><td>Republic of Korea</td><td>Archery</td><td>Republic of Korea</td><td>Women's Team</td></tr><tr><td>ROC</td><td>Archery</td><td>ROC</td><td>Mixed Team</td></tr><tr><td>ROC</td><td>Archery</td><td>ROC</td><td>Women's Team</td></tr><tr><td>Spain</td><td>Archery</td><td>Spain</td><td>Mixed Team</td></tr><tr><td>Tunisia</td><td>Archery</td><td>Tunisia</td><td>Mixed Team</td></tr><tr><td>Turkey</td><td>Archery</td><td>Turkey</td><td>Mixed Team</td></tr><tr><td>Ukraine</td><td>Archery</td><td>Ukraine</td><td>Mixed Team</td></tr><tr><td>Ukraine</td><td>Archery</td><td>Ukraine</td><td>Women's Team</td></tr><tr><td>United States</td><td>Archery</td><td>United States of America</td><td>Men's Team</td></tr><tr><td>United States</td><td>Archery</td><td>United States of America</td><td>Mixed Team</td></tr><tr><td>United States</td><td>Archery</td><td>United States of America</td><td>Women's Team</td></tr><tr><td>Vietnam</td><td>Archery</td><td>Vietnam</td><td>Mixed Team</td></tr><tr><td>Belgium</td><td>Artistic Gymnastics</td><td>Belgium</td><td>Women's Team</td></tr><tr><td>Brazil</td><td>Artistic Gymnastics</td><td>Brazil</td><td>Men's Team</td></tr><tr><td>Canada</td><td>Artistic Gymnastics</td><td>Canada</td><td>Women's Team</td></tr><tr><td>China</td><td>Artistic Gymnastics</td><td>People's Republic of China</td><td>Men's Team</td></tr><tr><td>China</td><td>Artistic Gymnastics</td><td>People's Republic of China</td><td>Women's Team</td></tr><tr><td>Chinese Taipei</td><td>Artistic Gymnastics</td><td>Chinese Taipei</td><td>Men's Team</td></tr><tr><td>France</td><td>Artistic Gymnastics</td><td>France</td><td>Women's Team</td></tr><tr><td>Germany</td><td>Artistic Gymnastics</td><td>Germany</td><td>Men's Team</td></tr><tr><td>Germany</td><td>Artistic Gymnastics</td><td>Germany</td><td>Women's Team</td></tr><tr><td>Great Britain</td><td>Artistic Gymnastics</td><td>Great Britain</td><td>Men's Team</td></tr><tr><td>Great Britain</td><td>Artistic Gymnastics</td><td>Great Britain</td><td>Women's Team</td></tr><tr><td>Italy</td><td>Artistic Gymnastics</td><td>Italy</td><td>Women's Team</td></tr><tr><td>Japan</td><td>Artistic Gymnastics</td><td>Japan</td><td>Men's Team</td></tr><tr><td>Japan</td><td>Artistic Gymnastics</td><td>Japan</td><td>Women's Team</td></tr><tr><td>Netherlands</td><td>Artistic Gymnastics</td><td>Netherlands</td><td>Women's Team</td></tr><tr><td>Korea</td><td>Artistic Gymnastics</td><td>Republic of Korea</td><td>Men's Team</td></tr><tr><td>ROC</td><td>Artistic Gymnastics</td><td>ROC</td><td>Men's Team</td></tr><tr><td>ROC</td><td>Artistic Gymnastics</td><td>ROC</td><td>Women's Team</td></tr><tr><td>Spain</td><td>Artistic Gymnastics</td><td>Spain</td><td>Men's Team</td></tr><tr><td>Spain</td><td>Artistic Gymnastics</td><td>Spain</td><td>Women's Team</td></tr><tr><td>Switzerland</td><td>Artistic Gymnastics</td><td>Switzerland</td><td>Men's Team</td></tr><tr><td>Ukraine</td><td>Artistic Gymnastics</td><td>Ukraine</td><td>Men's Team</td></tr><tr><td>United States</td><td>Artistic Gymnastics</td><td>United States of America</td><td>Men's Team</td></tr><tr><td>United States</td><td>Artistic Gymnastics</td><td>United States of America</td><td>Women's Team</td></tr><tr><td>Australia</td><td>Artistic Swimming</td><td>Australia</td><td>Duet</td></tr><tr><td>Australia</td><td>Artistic Swimming</td><td>Australia</td><td>Team</td></tr><tr><td>Austria</td><td>Artistic Swimming</td><td>Austria</td><td>Duet</td></tr><tr><td>Belarus</td><td>Artistic Swimming</td><td>Belarus</td><td>Duet</td></tr><tr><td>Canada</td><td>Artistic Swimming</td><td>Canada</td><td>Duet</td></tr><tr><td>Canada</td><td>Artistic Swimming</td><td>Canada</td><td>Team</td></tr><tr><td>China</td><td>Artistic Swimming</td><td>People's Republic of China</td><td>Duet</td></tr><tr><td>China</td><td>Artistic Swimming</td><td>People's Republic of China</td><td>Team</td></tr><tr><td>Colombia</td><td>Artistic Swimming</td><td>Colombia</td><td>Duet</td></tr><tr><td>Egypt</td><td>Artistic Swimming</td><td>Egypt</td><td>Duet</td></tr><tr><td>Egypt</td><td>Artistic Swimming</td><td>Egypt</td><td>Team</td></tr><tr><td>France</td><td>Artistic Swimming</td><td>France</td><td>Duet</td></tr><tr><td>Great Britain</td><td>Artistic Swimming</td><td>Great Britain</td><td>Duet</td></tr><tr><td>Greece</td><td>Artistic Swimming</td><td>Greece</td><td>Duet</td></tr><tr><td>Greece</td><td>Artistic Swimming</td><td>Greece</td><td>Team</td></tr><tr><td>Israel</td><td>Artistic Swimming</td><td>Israel</td><td>Duet</td></tr><tr><td>Italy</td><td>Artistic Swimming</td><td>Italy</td><td>Duet</td></tr><tr><td>Italy</td><td>Artistic Swimming</td><td>Italy</td><td>Team</td></tr><tr><td>Japan</td><td>Artistic Swimming</td><td>Japan</td><td>Duet</td></tr><tr><td>Japan</td><td>Artistic Swimming</td><td>Japan</td><td>Team</td></tr><tr><td>Kazakhstan</td><td>Artistic Swimming</td><td>Kazakhstan</td><td>Duet</td></tr><tr><td>Liechtenstein</td><td>Artistic Swimming</td><td>Liechtenstein</td><td>Duet</td></tr><tr><td>Mexico</td><td>Artistic Swimming</td><td>Mexico</td><td>Duet</td></tr><tr><td>Netherlands</td><td>Artistic Swimming</td><td>Netherlands</td><td>Duet</td></tr><tr><td>ROC</td><td>Artistic Swimming</td><td>ROC</td><td>Duet</td></tr><tr><td>ROC</td><td>Artistic Swimming</td><td>ROC</td><td>Team</td></tr><tr><td>South Africa</td><td>Artistic Swimming</td><td>South Africa</td><td>Duet</td></tr><tr><td>Spain</td><td>Artistic Swimming</td><td>Spain</td><td>Duet</td></tr><tr><td>Spain</td><td>Artistic Swimming</td><td>Spain</td><td>Team</td></tr><tr><td>Ukraine</td><td>Artistic Swimming</td><td>Ukraine</td><td>Duet</td></tr><tr><td>Ukraine</td><td>Artistic Swimming</td><td>Ukraine</td><td>Team</td></tr><tr><td>United States</td><td>Artistic Swimming</td><td>United States of America</td><td>Duet</td></tr><tr><td>Australia</td><td>Athletics</td><td>Australia</td><td>Women's 4 x 400m Relay</td></tr><tr><td>Bahamas</td><td>Athletics</td><td>Bahamas</td><td>Women's 4 x 400m Relay</td></tr><tr><td>Belarus</td><td>Athletics</td><td>Belarus</td><td>Women's 4 x 400m Relay</td></tr><tr><td>Belgium</td><td>Athletics</td><td>Belgium</td><td>4 x 400m Relay Mixed</td></tr><tr><td>Belgium</td><td>Athletics</td><td>Belgium</td><td>Men's 4 x 400m Relay</td></tr><tr><td>Belgium</td><td>Athletics</td><td>Belgium</td><td>Women's 4 x 400m Relay</td></tr><tr><td>Botswana</td><td>Athletics</td><td>Botswana</td><td>Men's 4 x 400m Relay</td></tr><tr><td>Brazil</td><td>Athletics</td><td>Brazil</td><td>4 x 400m Relay Mixed</td></tr><tr><td>Brazil</td><td>Athletics</td><td>Brazil</td><td>Men's 4 x 100m Relay</td></tr><tr><td>Brazil</td><td>Athletics</td><td>Brazil</td><td>Women's 4 x 100m Relay</td></tr><tr><td>Canada</td><td>Athletics</td><td>Canada</td><td>Men's 4 x 100m Relay</td></tr><tr><td>Canada</td><td>Athletics</td><td>Canada</td><td>Women's 4 x 400m Relay</td></tr><tr><td>China</td><td>Athletics</td><td>People's Republic of China</td><td>Men's 4 x 100m Relay</td></tr><tr><td>China</td><td>Athletics</td><td>People's Republic of China</td><td>Women's 4 x 100m Relay</td></tr><tr><td>Colombia</td><td>Athletics</td><td>Colombia</td><td>Men's 4 x 400m Relay</td></tr><tr><td>Cuba</td><td>Athletics</td><td>Cuba</td><td>Women's 4 x 400m Relay</td></tr><tr><td>Czech Republic</td><td>Athletics</td><td>Czech Republic</td><td>Men's 4 x 400m Relay</td></tr><tr><td>Denmark</td><td>Athletics</td><td>Denmark</td><td>Men's 4 x 100m Relay</td></tr><tr><td>Denmark</td><td>Athletics</td><td>Denmark</td><td>Women's 4 x 100m Relay</td></tr><tr><td>Dominican Rep.</td><td>Athletics</td><td>Dominican Republic</td><td>4 x 400m Relay Mixed</td></tr><tr><td>Ecuador</td><td>Athletics</td><td>Ecuador</td><td>Women's 4 x 100m Relay</td></tr><tr><td>France</td><td>Athletics</td><td>France</td><td>Men's 4 x 100m Relay</td></tr><tr><td>France</td><td>Athletics</td><td>France</td><td>Men's 4 x 400m Relay</td></tr><tr><td>France</td><td>Athletics</td><td>France</td><td>Women's 4 x 100m Relay</td></tr><tr><td>France</td><td>Athletics</td><td>France</td><td>Women's 4 x 400m Relay</td></tr><tr><td>Germany</td><td>Athletics</td><td>Germany</td><td>4 x 400m Relay Mixed</td></tr><tr><td>Germany</td><td>Athletics</td><td>Germany</td><td>Men's 4 x 100m Relay</td></tr><tr><td>Germany</td><td>Athletics</td><td>Germany</td><td>Men's 4 x 400m Relay</td></tr><tr><td>Germany</td><td>Athletics</td><td>Germany</td><td>Women's 4 x 100m Relay</td></tr><tr><td>Germany</td><td>Athletics</td><td>Germany</td><td>Women's 4 x 400m Relay</td></tr><tr><td>Ghana</td><td>Athletics</td><td>Ghana</td><td>Men's 4 x 100m Relay</td></tr><tr><td>Great Britain</td><td>Athletics</td><td>Great Britain</td><td>4 x 400m Relay Mixed</td></tr><tr><td>Great Britain</td><td>Athletics</td><td>Great Britain</td><td>Men's 4 x 100m Relay</td></tr><tr><td>Great Britain</td><td>Athletics</td><td>Great Britain</td><td>Men's 4 x 400m Relay</td></tr><tr><td>Great Britain</td><td>Athletics</td><td>Great Britain</td><td>Women's 4 x 100m Relay</td></tr><tr><td>Great Britain</td><td>Athletics</td><td>Great Britain</td><td>Women's 4 x 400m Relay</td></tr><tr><td>India</td><td>Athletics</td><td>India</td><td>4 x 400m Relay Mixed</td></tr><tr><td>India</td><td>Athletics</td><td>India</td><td>Men's 4 x 400m Relay</td></tr><tr><td>Ireland</td><td>Athletics</td><td>Ireland</td><td>4 x 400m Relay Mixed</td></tr><tr><td>Italy</td><td>Athletics</td><td>Italy</td><td>4 x 400m Relay Mixed</td></tr><tr><td>Italy</td><td>Athletics</td><td>Italy</td><td>Men's 4 x 100m Relay</td></tr><tr><td>Italy</td><td>Athletics</td><td>Italy</td><td>Men's 4 x 400m Relay</td></tr><tr><td>Italy</td><td>Athletics</td><td>Italy</td><td>Women's 4 x 100m Relay</td></tr><tr><td>Italy</td><td>Athletics</td><td>Italy</td><td>Women's 4 x 400m Relay</td></tr><tr><td>Jamaica</td><td>Athletics</td><td>Jamaica</td><td>4 x 400m Relay Mixed</td></tr><tr><td>Jamaica</td><td>Athletics</td><td>Jamaica</td><td>Men's 4 x 100m Relay</td></tr><tr><td>Jamaica</td><td>Athletics</td><td>Jamaica</td><td>Men's 4 x 400m Relay</td></tr><tr><td>Jamaica</td><td>Athletics</td><td>Jamaica</td><td>Women's 4 x 100m Relay</td></tr><tr><td>Jamaica</td><td>Athletics</td><td>Jamaica</td><td>Women's 4 x 400m Relay</td></tr><tr><td>Japan</td><td>Athletics</td><td>Japan</td><td>Men's 4 x 100m Relay</td></tr><tr><td>Japan</td><td>Athletics</td><td>Japan</td><td>Men's 4 x 400m Relay</td></tr><tr><td>Japan</td><td>Athletics</td><td>Japan</td><td>Women's 4 x 100m Relay</td></tr><tr><td>Netherlands</td><td>Athletics</td><td>Netherlands</td><td>4 x 400m Relay Mixed</td></tr><tr><td>Netherlands</td><td>Athletics</td><td>Netherlands</td><td>Men's 4 x 100m Relay</td></tr><tr><td>Netherlands</td><td>Athletics</td><td>Netherlands</td><td>Men's 4 x 400m Relay</td></tr><tr><td>Netherlands</td><td>Athletics</td><td>Netherlands</td><td>Women's 4 x 100m Relay</td></tr><tr><td>Netherlands</td><td>Athletics</td><td>Netherlands</td><td>Women's 4 x 400m Relay</td></tr><tr><td>Nigeria</td><td>Athletics</td><td>Nigeria</td><td>4 x 400m Relay Mixed</td></tr><tr><td>Nigeria</td><td>Athletics</td><td>Nigeria</td><td>Women's 4 x 100m Relay</td></tr><tr><td>Poland</td><td>Athletics</td><td>Poland</td><td>4 x 400m Relay Mixed</td></tr><tr><td>Poland</td><td>Athletics</td><td>Poland</td><td>Men's 4 x 400m Relay</td></tr><tr><td>Poland</td><td>Athletics</td><td>Poland</td><td>Women's 4 x 100m Relay</td></tr><tr><td>Poland</td><td>Athletics</td><td>Poland</td><td>Women's 4 x 400m Relay</td></tr><tr><td>South Africa</td><td>Athletics</td><td>South Africa</td><td>Men's 4 x 100m Relay</td></tr><tr><td>South Africa</td><td>Athletics</td><td>South Africa</td><td>Men's 4 x 400m Relay</td></tr><tr><td>Spain</td><td>Athletics</td><td>Spain</td><td>4 x 400m Relay Mixed</td></tr><tr><td>Switzerland</td><td>Athletics</td><td>Switzerland</td><td>Women's 4 x 100m Relay</td></tr><tr><td>Switzerland</td><td>Athletics</td><td>Switzerland</td><td>Women's 4 x 400m Relay</td></tr><tr><td>Trinidad & Tobago</td><td>Athletics</td><td>Trinidad and Tobago</td><td>Men's 4 x 100m Relay</td></tr><tr><td>Trinidad & Tobago</td><td>Athletics</td><td>Trinidad and Tobago</td><td>Men's 4 x 400m Relay</td></tr><tr><td>Trinidad & Tobago</td><td>Athletics</td><td>Trinidad and Tobago</td><td>Women's 4 x 100m Relay</td></tr><tr><td>Turkey</td><td>Athletics</td><td>Turkey</td><td>Men's 4 x 100m Relay</td></tr><tr><td>Ukraine</td><td>Athletics</td><td>Ukraine</td><td>4 x 400m Relay Mixed</td></tr><tr><td>Ukraine</td><td>Athletics</td><td>Ukraine</td><td>Women's 4 x 400m Relay</td></tr><tr><td>United States</td><td>Athletics</td><td>United States of America</td><td>4 x 400m Relay Mixed</td></tr><tr><td>United States</td><td>Athletics</td><td>United States of America</td><td>Men's 4 x 100m Relay</td></tr><tr><td>United States</td><td>Athletics</td><td>United States of America</td><td>Men's 4 x 400m Relay</td></tr><tr><td>United States</td><td>Athletics</td><td>United States of America</td><td>Women's 4 x 100m Relay</td></tr><tr><td>United States</td><td>Athletics</td><td>United States of America</td><td>Women's 4 x 400m Relay</td></tr><tr><td>Australia</td><td>Baseball/Softball</td><td>Australia</td><td>Softball</td></tr><tr><td>Canada</td><td>Baseball/Softball</td><td>Canada</td><td>Softball</td></tr><tr><td>Dominican Rep.</td><td>Baseball/Softball</td><td>Dominican Republic</td><td>Baseball</td></tr><tr><td>Israel</td><td>Baseball/Softball</td><td>Israel</td><td>Baseball</td></tr><tr><td>Italy</td><td>Baseball/Softball</td><td>Italy</td><td>Softball</td></tr><tr><td>Japan</td><td>Baseball/Softball</td><td>Japan</td><td>Baseball</td></tr><tr><td>Japan</td><td>Baseball/Softball</td><td>Japan</td><td>Softball</td></tr><tr><td>Mexico</td><td>Baseball/Softball</td><td>Mexico</td><td>Baseball</td></tr><tr><td>Mexico</td><td>Baseball/Softball</td><td>Mexico</td><td>Softball</td></tr><tr><td>Republic of Korea</td><td>Baseball/Softball</td><td>Republic of Korea</td><td>Baseball</td></tr><tr><td>United States</td><td>Baseball/Softball</td><td>United States of America</td><td>Baseball</td></tr><tr><td>United States</td><td>Baseball/Softball</td><td>United States of America</td><td>Softball</td></tr><tr><td>Argentina</td><td>Basketball</td><td>Argentina</td><td>Men</td></tr><tr><td>Australia</td><td>Basketball</td><td>Australia</td><td>Men</td></tr><tr><td>Australia</td><td>Basketball</td><td>Australia</td><td>Women</td></tr><tr><td>Belgium</td><td>Basketball</td><td>Belgium</td><td>Women</td></tr><tr><td>Canada</td><td>Basketball</td><td>Canada</td><td>Women</td></tr><tr><td>China</td><td>Basketball</td><td>People's Republic of China</td><td>Women</td></tr><tr><td>Czech Republic</td><td>Basketball</td><td>Czech Republic</td><td>Men</td></tr><tr><td>France</td><td>Basketball</td><td>France</td><td>Men</td></tr><tr><td>France</td><td>Basketball</td><td>France</td><td>Women</td></tr><tr><td>Germany</td><td>Basketball</td><td>Germany</td><td>Men</td></tr><tr><td>Islamic Rep. of Iran</td><td>Basketball</td><td>Islamic Republic of Iran</td><td>Men</td></tr><tr><td>Italy</td><td>Basketball</td><td>Italy</td><td>Men</td></tr><tr><td>Japan</td><td>Basketball</td><td>Japan</td><td>Men</td></tr><tr><td>Japan</td><td>Basketball</td><td>Japan</td><td>Women</td></tr><tr><td>Nigeria</td><td>Basketball</td><td>Nigeria</td><td>Men</td></tr><tr><td>Nigeria</td><td>Basketball</td><td>Nigeria</td><td>Women</td></tr><tr><td>Puerto Rico</td><td>Basketball</td><td>Puerto Rico</td><td>Women</td></tr><tr><td>Republic of Korea</td><td>Basketball</td><td>Republic of Korea</td><td>Women</td></tr><tr><td>Serbia</td><td>Basketball</td><td>Serbia</td><td>Women</td></tr><tr><td>Slovenia</td><td>Basketball</td><td>Slovenia</td><td>Men</td></tr><tr><td>Spain</td><td>Basketball</td><td>Spain</td><td>Men</td></tr><tr><td>Spain</td><td>Basketball</td><td>Spain</td><td>Women</td></tr><tr><td>United States</td><td>Basketball</td><td>United States of America</td><td>Men</td></tr><tr><td>United States</td><td>Basketball</td><td>United States of America</td><td>Women</td></tr><tr><td>Azaad/Capogrosso</td><td>Beach Volleyball</td><td>Argentina</td><td>Men</td></tr><tr><td>Gallay/Pereyra</td><td>Beach Volleyball</td><td>Argentina</td><td>Women</td></tr><tr><td>McHugh/Schumann</td><td>Beach Volleyball</td><td>Australia</td><td>Men</td></tr><tr><td>Artacho Del Solar/Clancy</td><td>Beach Volleyball</td><td>Australia</td><td>Women</td></tr><tr><td>Alison/Alvaro Filho</td><td>Beach Volleyball</td><td>Brazil</td><td>Men</td></tr><tr><td>Evandro/Bruno Schmidt</td><td>Beach Volleyball</td><td>Brazil</td><td>Men</td></tr><tr><td>Ana Patricia/Rebecca</td><td>Beach Volleyball</td><td>Brazil</td><td>Women</td></tr><tr><td>Agatha/Duda</td><td>Beach Volleyball</td><td>Brazil</td><td>Women</td></tr><tr><td>Bansley/Brandie</td><td>Beach Volleyball</td><td>Canada</td><td>Women</td></tr><tr><td>Pavan/Melissa</td><td>Beach Volleyball</td><td>Canada</td><td>Women</td></tr><tr><td>Grimalt M./Grimalt E.</td><td>Beach Volleyball</td><td>Chile</td><td>Men</td></tr><tr><td>Wang/X.Y.Xia</td><td>Beach Volleyball</td><td>People's Republic of China</td><td>Women</td></tr><tr><td>Xue/Wang X.X.</td><td>Beach Volleyball</td><td>People's Republic of China</td><td>Women</td></tr><tr><td>Lidy/Leila</td><td>Beach Volleyball</td><td>Cuba</td><td>Women</td></tr><tr><td>Perusic/Schweiner</td><td>Beach Volleyball</td><td>Czech Republic</td><td>Men</td></tr><tr><td>Hermannova/Slukova</td><td>Beach Volleyball</td><td>Czech Republic</td><td>Women</td></tr><tr><td>Thole J./Wickler</td><td>Beach Volleyball</td><td>Germany</td><td>Men</td></tr><tr><td>Ludwig/Kozuch</td><td>Beach Volleyball</td><td>Germany</td><td>Women</td></tr><tr><td>Sude/Borger</td><td>Beach Volleyball</td><td>Germany</td><td>Women</td></tr><tr><td>Nicolai/Lupo</td><td>Beach Volleyball</td><td>Italy</td><td>Men</td></tr><tr><td>Carambula/Rossi</td><td>Beach Volleyball</td><td>Italy</td><td>Men</td></tr><tr><td>Menegatti/Orsi Toth</td><td>Beach Volleyball</td><td>Italy</td><td>Women</td></tr><tr><td>Gottsu/Shiratori</td><td>Beach Volleyball</td><td>Japan</td><td>Men</td></tr><tr><td>Ishii/Murakami</td><td>Beach Volleyball</td><td>Japan</td><td>Women</td></tr><tr><td>Makokha/Khadambi</td><td>Beach Volleyball</td><td>Kenya</td><td>Women</td></tr><tr><td>Plavins/Tocs</td><td>Beach Volleyball</td><td>Latvia</td><td>Men</td></tr><tr><td>Graudina/Kravcenoka</td><td>Beach Volleyball</td><td>Latvia</td><td>Women</td></tr><tr><td>Gaxiola/Rubio</td><td>Beach Volleyball</td><td>Mexico</td><td>Men</td></tr><tr><td>Abicha/Elgraoui</td><td>Beach Volleyball</td><td>Morocco</td><td>Men</td></tr><tr><td>Brouwer/Meeuwsen</td><td>Beach Volleyball</td><td>Netherlands</td><td>Men</td></tr><tr><td>Keizer/Meppelink</td><td>Beach Volleyball</td><td>Netherlands</td><td>Women</td></tr><tr><td>Stam/Schoon</td><td>Beach Volleyball</td><td>Netherlands</td><td>Women</td></tr><tr><td>Mol A./Sorum C.</td><td>Beach Volleyball</td><td>Norway</td><td>Men</td></tr><tr><td>Bryl/Fijalek</td><td>Beach Volleyball</td><td>Poland</td><td>Men</td></tr><tr><td>Kantor/Losiak</td><td>Beach Volleyball</td><td>Poland</td><td>Men</td></tr><tr><td>Cherif/Ahmed</td><td>Beach Volleyball</td><td>Qatar</td><td>Men</td></tr><tr><td>Krasilnikov/Stoyanovskiy</td><td>Beach Volleyball</td><td>ROC</td><td>Men</td></tr><tr><td>Leshukov/Semenov</td><td>Beach Volleyball</td><td>ROC</td><td>Men</td></tr><tr><td>Makroguzova/Kholomina</td><td>Beach Volleyball</td><td>ROC</td><td>Women</td></tr><tr><td>Herrera/Gavira</td><td>Beach Volleyball</td><td>Spain</td><td>Men</td></tr><tr><td>Liliana/Elsa</td><td>Beach Volleyball</td><td>Spain</td><td>Women</td></tr><tr><td>Heidrich/Gerson</td><td>Beach Volleyball</td><td>Switzerland</td><td>Men</td></tr><tr><td>Huberli/Betschart</td><td>Beach Volleyball</td><td>Switzerland</td><td>Women</td></tr><tr><td>Verge-Depre, A./Heidrich</td><td>Beach Volleyball</td><td>Switzerland</td><td>Women</td></tr><tr><td>Gibb/Bourne</td><td>Beach Volleyball</td><td>United States of America</td><td>Men</td></tr><tr><td>Lucena/Dalhausser</td><td>Beach Volleyball</td><td>United States of America</td><td>Men</td></tr><tr><td>April/Alix</td><td>Beach Volleyball</td><td>United States of America</td><td>Women</td></tr><tr><td>Claes/Sponcil</td><td>Beach Volleyball</td><td>United States of America</td><td>Women</td></tr><tr><td>Australia</td><td>Cycling Track</td><td>Australia</td><td>Men's Madison</td></tr><tr><td>Australia</td><td>Cycling Track</td><td>Australia</td><td>Men's Team Pursuit</td></tr><tr><td>Australia</td><td>Cycling Track</td><td>Australia</td><td>Men's Team Sprint</td></tr><tr><td>Australia</td><td>Cycling Track</td><td>Australia</td><td>Women's Madison</td></tr><tr><td>Australia</td><td>Cycling Track</td><td>Australia</td><td>Women's Team Pursuit</td></tr><tr><td>Austria</td><td>Cycling Track</td><td>Austria</td><td>Men's Madison</td></tr><tr><td>Belgium</td><td>Cycling Track</td><td>Belgium</td><td>Men's Madison</td></tr><tr><td>Belgium</td><td>Cycling Track</td><td>Belgium</td><td>Women's Madison</td></tr><tr><td>Canada</td><td>Cycling Track</td><td>Canada</td><td>Men's Madison</td></tr><tr><td>Canada</td><td>Cycling Track</td><td>Canada</td><td>Men's Team Pursuit</td></tr><tr><td>Canada</td><td>Cycling Track</td><td>Canada</td><td>Women's Madison</td></tr><tr><td>Canada</td><td>Cycling Track</td><td>Canada</td><td>Women's Team Pursuit</td></tr><tr><td>China</td><td>Cycling Track</td><td>People's Republic of China</td><td>Women's Team Sprint</td></tr><tr><td>Denmark</td><td>Cycling Track</td><td>Denmark</td><td>Men's Madison</td></tr><tr><td>Denmark</td><td>Cycling Track</td><td>Denmark</td><td>Men's Team Pursuit</td></tr><tr><td>Denmark</td><td>Cycling Track</td><td>Denmark</td><td>Women's Madison</td></tr><tr><td>France</td><td>Cycling Track</td><td>France</td><td>Men's Madison</td></tr><tr><td>France</td><td>Cycling Track</td><td>France</td><td>Men's Team Sprint</td></tr><tr><td>France</td><td>Cycling Track</td><td>France</td><td>Women's Madison</td></tr><tr><td>France</td><td>Cycling Track</td><td>France</td><td>Women's Team Pursuit</td></tr><tr><td>Germany</td><td>Cycling Track</td><td>Germany</td><td>Men's Madison</td></tr><tr><td>Germany</td><td>Cycling Track</td><td>Germany</td><td>Men's Team Pursuit</td></tr><tr><td>Germany</td><td>Cycling Track</td><td>Germany</td><td>Men's Team Sprint</td></tr><tr><td>Germany</td><td>Cycling Track</td><td>Germany</td><td>Women's Madison</td></tr><tr><td>Germany</td><td>Cycling Track</td><td>Germany</td><td>Women's Team Pursuit</td></tr><tr><td>Germany</td><td>Cycling Track</td><td>Germany</td><td>Women's Team Sprint</td></tr><tr><td>Great Britain</td><td>Cycling Track</td><td>Great Britain</td><td>Men's Madison</td></tr><tr><td>Great Britain</td><td>Cycling Track</td><td>Great Britain</td><td>Men's Team Pursuit</td></tr><tr><td>Great Britain</td><td>Cycling Track</td><td>Great Britain</td><td>Men's Team Sprint</td></tr><tr><td>Great Britain</td><td>Cycling Track</td><td>Great Britain</td><td>Women's Madison</td></tr><tr><td>Great Britain</td><td>Cycling Track</td><td>Great Britain</td><td>Women's Team Pursuit</td></tr><tr><td>Hong Kong, China</td><td>Cycling Track</td><td>Hong Kong, China</td><td>Women's Madison</td></tr><tr><td>Ireland</td><td>Cycling Track</td><td>Ireland</td><td>Men's Madison</td></tr><tr><td>Ireland</td><td>Cycling Track</td><td>Ireland</td><td>Women's Madison</td></tr><tr><td>Italy</td><td>Cycling Track</td><td>Italy</td><td>Men's Madison</td></tr><tr><td>Italy</td><td>Cycling Track</td><td>Italy</td><td>Men's Team Pursuit</td></tr><tr><td>Italy</td><td>Cycling Track</td><td>Italy</td><td>Women's Madison</td></tr><tr><td>Italy</td><td>Cycling Track</td><td>Italy</td><td>Women's Team Pursuit</td></tr><tr><td>Japan</td><td>Cycling Track</td><td>Japan</td><td>Women's Madison</td></tr><tr><td>Lithuania</td><td>Cycling Track</td><td>Lithuania</td><td>Women's Team Sprint</td></tr><tr><td>Mexico</td><td>Cycling Track</td><td>Mexico</td><td>Women's Team Sprint</td></tr><tr><td>Netherlands</td><td>Cycling Track</td><td>Netherlands</td><td>Men's Madison</td></tr><tr><td>Netherlands</td><td>Cycling Track</td><td>Netherlands</td><td>Men's Team Sprint</td></tr><tr><td>Netherlands</td><td>Cycling Track</td><td>Netherlands</td><td>Women's Madison</td></tr><tr><td>Netherlands</td><td>Cycling Track</td><td>Netherlands</td><td>Women's Team Sprint</td></tr><tr><td>New Zealand</td><td>Cycling Track</td><td>New Zealand</td><td>Men's Madison</td></tr><tr><td>New Zealand</td><td>Cycling Track</td><td>New Zealand</td><td>Men's Team Pursuit</td></tr><tr><td>New Zealand</td><td>Cycling Track</td><td>New Zealand</td><td>Men's Team Sprint</td></tr><tr><td>New Zealand</td><td>Cycling Track</td><td>New Zealand</td><td>Women's Madison</td></tr><tr><td>New Zealand</td><td>Cycling Track</td><td>New Zealand</td><td>Women's Team Pursuit</td></tr><tr><td>Poland</td><td>Cycling Track</td><td>Poland</td><td>Men's Madison</td></tr><tr><td>Poland</td><td>Cycling Track</td><td>Poland</td><td>Men's Team Sprint</td></tr><tr><td>Poland</td><td>Cycling Track</td><td>Poland</td><td>Women's Madison</td></tr><tr><td>Poland</td><td>Cycling Track</td><td>Poland</td><td>Women's Team Sprint</td></tr><tr><td>ROC</td><td>Cycling Track</td><td>ROC</td><td>Men's Team Sprint</td></tr><tr><td>ROC</td><td>Cycling Track</td><td>ROC</td><td>Women's Madison</td></tr><tr><td>ROC</td><td>Cycling Track</td><td>ROC</td><td>Women's Team Sprint</td></tr><tr><td>Spain</td><td>Cycling Track</td><td>Spain</td><td>Men's Madison</td></tr><tr><td>Switzerland</td><td>Cycling Track</td><td>Switzerland</td><td>Men's Madison</td></tr><tr><td>Switzerland</td><td>Cycling Track</td><td>Switzerland</td><td>Men's Team Pursuit</td></tr><tr><td>Ukraine</td><td>Cycling Track</td><td>Ukraine</td><td>Women's Team Sprint</td></tr><tr><td>United States</td><td>Cycling Track</td><td>United States of America</td><td>Men's Madison</td></tr><tr><td>United States</td><td>Cycling Track</td><td>United States of America</td><td>Women's Madison</td></tr><tr><td>United States</td><td>Cycling Track</td><td>United States of America</td><td>Women's Team Pursuit</td></tr><tr><td>Canada</td><td>Fencing</td><td>Canada</td><td>Men's Foil Team</td></tr><tr><td>Canada</td><td>Fencing</td><td>Canada</td><td>Women's Foil Team</td></tr><tr><td>China</td><td>Fencing</td><td>People's Republic of China</td><td>Men's �p�e Team</td></tr><tr><td>China</td><td>Fencing</td><td>People's Republic of China</td><td>Women's �p�e Team</td></tr><tr><td>China</td><td>Fencing</td><td>People's Republic of China</td><td>Women's Sabre Team</td></tr><tr><td>Egypt</td><td>Fencing</td><td>Egypt</td><td>Men's Foil Team</td></tr><tr><td>Egypt</td><td>Fencing</td><td>Egypt</td><td>Men's Sabre Team</td></tr><tr><td>Egypt</td><td>Fencing</td><td>Egypt</td><td>Women's Foil Team</td></tr><tr><td>Estonia</td><td>Fencing</td><td>Estonia</td><td>Women's �p�e Team</td></tr><tr><td>France</td><td>Fencing</td><td>France</td><td>Men's �p�e Team</td></tr><tr><td>France</td><td>Fencing</td><td>France</td><td>Men's Foil Team</td></tr><tr><td>France</td><td>Fencing</td><td>France</td><td>Women's Foil Team</td></tr><tr><td>France</td><td>Fencing</td><td>France</td><td>Women's Sabre Team</td></tr><tr><td>Germany</td><td>Fencing</td><td>Germany</td><td>Men's Foil Team</td></tr><tr><td>Germany</td><td>Fencing</td><td>Germany</td><td>Men's Sabre Team</td></tr><tr><td>Hong Kong, China</td><td>Fencing</td><td>Hong Kong, China</td><td>Men's Foil Team</td></tr><tr><td>Hong Kong, China</td><td>Fencing</td><td>Hong Kong, China</td><td>Women's �p�e Team</td></tr><tr><td>Hungary</td><td>Fencing</td><td>Hungary</td><td>Men's Sabre Team</td></tr><tr><td>Hungary</td><td>Fencing</td><td>Hungary</td><td>Women's Foil Team</td></tr><tr><td>Hungary</td><td>Fencing</td><td>Hungary</td><td>Women's Sabre Team</td></tr><tr><td>Islamic Rep. of Iran</td><td>Fencing</td><td>Islamic Republic of Iran</td><td>Men's Sabre Team</td></tr><tr><td>Italy</td><td>Fencing</td><td>Italy</td><td>Men's �p�e Team</td></tr><tr><td>Italy</td><td>Fencing</td><td>Italy</td><td>Men's Foil Team</td></tr><tr><td>Italy</td><td>Fencing</td><td>Italy</td><td>Men's Sabre Team</td></tr><tr><td>Italy</td><td>Fencing</td><td>Italy</td><td>Women's �p�e Team</td></tr><tr><td>Italy</td><td>Fencing</td><td>Italy</td><td>Women's Foil Team</td></tr><tr><td>Italy</td><td>Fencing</td><td>Italy</td><td>Women's Sabre Team</td></tr><tr><td>Japan</td><td>Fencing</td><td>Japan</td><td>Men's �p�e Team</td></tr><tr><td>Japan</td><td>Fencing</td><td>Japan</td><td>Men's Foil Team</td></tr><tr><td>Japan</td><td>Fencing</td><td>Japan</td><td>Men's Sabre Team</td></tr><tr><td>Japan</td><td>Fencing</td><td>Japan</td><td>Women's Foil Team</td></tr><tr><td>Japan</td><td>Fencing</td><td>Japan</td><td>Women's Sabre Team</td></tr><tr><td>Poland</td><td>Fencing</td><td>Poland</td><td>Women's �p�e Team</td></tr><tr><td>Republic of Korea</td><td>Fencing</td><td>Republic of Korea</td><td>Men's �p�e Team</td></tr><tr><td>Republic of Korea</td><td>Fencing</td><td>Republic of Korea</td><td>Men's Sabre Team</td></tr><tr><td>Republic of Korea</td><td>Fencing</td><td>Republic of Korea</td><td>Women's �p�e Team</td></tr><tr><td>Republic of Korea</td><td>Fencing</td><td>Republic of Korea</td><td>Women's Sabre Team</td></tr><tr><td>ROC</td><td>Fencing</td><td>ROC</td><td>Men's �p�e Team</td></tr><tr><td>ROC</td><td>Fencing</td><td>ROC</td><td>Men's Foil Team</td></tr><tr><td>ROC</td><td>Fencing</td><td>ROC</td><td>Men's Sabre Team</td></tr><tr><td>ROC</td><td>Fencing</td><td>ROC</td><td>Women's �p�e Team</td></tr><tr><td>ROC</td><td>Fencing</td><td>ROC</td><td>Women's Foil Team</td></tr><tr><td>ROC</td><td>Fencing</td><td>ROC</td><td>Women's Sabre Team</td></tr><tr><td>Switzerland</td><td>Fencing</td><td>Switzerland</td><td>Men's �p�e Team</td></tr><tr><td>Tunisia</td><td>Fencing</td><td>Tunisia</td><td>Women's Sabre Team</td></tr><tr><td>Ukraine</td><td>Fencing</td><td>Ukraine</td><td>Men's �p�e Team</td></tr><tr><td>United States</td><td>Fencing</td><td>United States of America</td><td>Men's �p�e Team</td></tr><tr><td>United States</td><td>Fencing</td><td>United States of America</td><td>Men's Foil Team</td></tr><tr><td>United States</td><td>Fencing</td><td>United States of America</td><td>Men's Sabre Team</td></tr><tr><td>United States</td><td>Fencing</td><td>United States of America</td><td>Women's �p�e Team</td></tr><tr><td>United States</td><td>Fencing</td><td>United States of America</td><td>Women's Foil Team</td></tr><tr><td>United States</td><td>Fencing</td><td>United States of America</td><td>Women's Sabre Team</td></tr><tr><td>Argentina</td><td>Football</td><td>Argentina</td><td>Men</td></tr><tr><td>Australia</td><td>Football</td><td>Australia</td><td>Men</td></tr><tr><td>Australia</td><td>Football</td><td>Australia</td><td>Women</td></tr><tr><td>Brazil</td><td>Football</td><td>Brazil</td><td>Men</td></tr><tr><td>Brazil</td><td>Football</td><td>Brazil</td><td>Women</td></tr><tr><td>Canada</td><td>Football</td><td>Canada</td><td>Women</td></tr><tr><td>Chile</td><td>Football</td><td>Chile</td><td>Women</td></tr><tr><td>China</td><td>Football</td><td>People's Republic of China</td><td>Women</td></tr><tr><td>C�te d�Ivoire</td><td>Football</td><td>C�te d'Ivoire</td><td>Men</td></tr><tr><td>Egypt</td><td>Football</td><td>Egypt</td><td>Men</td></tr><tr><td>France</td><td>Football</td><td>France</td><td>Men</td></tr><tr><td>Germany</td><td>Football</td><td>Germany</td><td>Men</td></tr><tr><td>Great Britain</td><td>Football</td><td>Great Britain</td><td>Women</td></tr><tr><td>Honduras</td><td>Football</td><td>Honduras</td><td>Men</td></tr><tr><td>Japan</td><td>Football</td><td>Japan</td><td>Men</td></tr><tr><td>Japan</td><td>Football</td><td>Japan</td><td>Women</td></tr><tr><td>Mexico</td><td>Football</td><td>Mexico</td><td>Men</td></tr><tr><td>Netherlands</td><td>Football</td><td>Netherlands</td><td>Women</td></tr><tr><td>New Zealand</td><td>Football</td><td>New Zealand</td><td>Men</td></tr><tr><td>New Zealand</td><td>Football</td><td>New Zealand</td><td>Women</td></tr><tr><td>Republic of Korea</td><td>Football</td><td>Republic of Korea</td><td>Men</td></tr><tr><td>Romania</td><td>Football</td><td>Romania</td><td>Men</td></tr><tr><td>Saudi Arabia</td><td>Football</td><td>Saudi Arabia</td><td>Men</td></tr><tr><td>South Africa</td><td>Football</td><td>South Africa</td><td>Men</td></tr><tr><td>Spain</td><td>Football</td><td>Spain</td><td>Men</td></tr><tr><td>Sweden</td><td>Football</td><td>Sweden</td><td>Women</td></tr><tr><td>United States</td><td>Football</td><td>United States of America</td><td>Women</td></tr><tr><td>Zambia</td><td>Football</td><td>Zambia</td><td>Women</td></tr><tr><td>Angola</td><td>Handball</td><td>Angola</td><td>Women</td></tr><tr><td>Argentina</td><td>Handball</td><td>Argentina</td><td>Men</td></tr><tr><td>Bahrain</td><td>Handball</td><td>Bahrain</td><td>Men</td></tr><tr><td>Brazil</td><td>Handball</td><td>Brazil</td><td>Men</td></tr><tr><td>Brazil</td><td>Handball</td><td>Brazil</td><td>Women</td></tr><tr><td>Denmark</td><td>Handball</td><td>Denmark</td><td>Men</td></tr><tr><td>Egypt</td><td>Handball</td><td>Egypt</td><td>Men</td></tr><tr><td>France</td><td>Handball</td><td>France</td><td>Men</td></tr><tr><td>France</td><td>Handball</td><td>France</td><td>Women</td></tr><tr><td>Germany</td><td>Handball</td><td>Germany</td><td>Men</td></tr><tr><td>Hungary</td><td>Handball</td><td>Hungary</td><td>Women</td></tr><tr><td>Japan</td><td>Handball</td><td>Japan</td><td>Men</td></tr><tr><td>Japan</td><td>Handball</td><td>Japan</td><td>Women</td></tr><tr><td>Montenegro</td><td>Handball</td><td>Montenegro</td><td>Women</td></tr><tr><td>Netherlands</td><td>Handball</td><td>Netherlands</td><td>Women</td></tr><tr><td>Norway</td><td>Handball</td><td>Norway</td><td>Men</td></tr><tr><td>Norway</td><td>Handball</td><td>Norway</td><td>Women</td></tr><tr><td>Portugal</td><td>Handball</td><td>Portugal</td><td>Men</td></tr><tr><td>Republic of Korea</td><td>Handball</td><td>Republic of Korea</td><td>Women</td></tr><tr><td>ROC</td><td>Handball</td><td>ROC</td><td>Women</td></tr><tr><td>Spain</td><td>Handball</td><td>Spain</td><td>Men</td></tr><tr><td>Spain</td><td>Handball</td><td>Spain</td><td>Women</td></tr><tr><td>Sweden</td><td>Handball</td><td>Sweden</td><td>Men</td></tr><tr><td>Sweden</td><td>Handball</td><td>Sweden</td><td>Women</td></tr><tr><td>Argentina</td><td>Hockey</td><td>Argentina</td><td>Men</td></tr><tr><td>Argentina</td><td>Hockey</td><td>Argentina</td><td>Women</td></tr><tr><td>Australia</td><td>Hockey</td><td>Australia</td><td>Men</td></tr><tr><td>Australia</td><td>Hockey</td><td>Australia</td><td>Women</td></tr><tr><td>Belgium</td><td>Hockey</td><td>Belgium</td><td>Men</td></tr><tr><td>Canada</td><td>Hockey</td><td>Canada</td><td>Men</td></tr><tr><td>China</td><td>Hockey</td><td>People's Republic of China</td><td>Women</td></tr><tr><td>Germany</td><td>Hockey</td><td>Germany</td><td>Men</td></tr><tr><td>Germany</td><td>Hockey</td><td>Germany</td><td>Women</td></tr><tr><td>Great Britain</td><td>Hockey</td><td>Great Britain</td><td>Men</td></tr><tr><td>Great Britain</td><td>Hockey</td><td>Great Britain</td><td>Women</td></tr><tr><td>India</td><td>Hockey</td><td>India</td><td>Men</td></tr><tr><td>India</td><td>Hockey</td><td>India</td><td>Women</td></tr><tr><td>Ireland</td><td>Hockey</td><td>Ireland</td><td>Women</td></tr><tr><td>Japan</td><td>Hockey</td><td>Japan</td><td>Men</td></tr><tr><td>Japan</td><td>Hockey</td><td>Japan</td><td>Women</td></tr><tr><td>Netherlands</td><td>Hockey</td><td>Netherlands</td><td>Men</td></tr><tr><td>Netherlands</td><td>Hockey</td><td>Netherlands</td><td>Women</td></tr><tr><td>New Zealand</td><td>Hockey</td><td>New Zealand</td><td>Men</td></tr><tr><td>New Zealand</td><td>Hockey</td><td>New Zealand</td><td>Women</td></tr><tr><td>South Africa</td><td>Hockey</td><td>South Africa</td><td>Men</td></tr><tr><td>South Africa</td><td>Hockey</td><td>South Africa</td><td>Women</td></tr><tr><td>Spain</td><td>Hockey</td><td>Spain</td><td>Men</td></tr><tr><td>Spain</td><td>Hockey</td><td>Spain</td><td>Women</td></tr><tr><td>Australia</td><td>Rhythmic Gymnastics</td><td>Australia</td><td>Group All-Around</td></tr><tr><td>Azerbaijan</td><td>Rhythmic Gymnastics</td><td>Azerbaijan</td><td>Group All-Around</td></tr><tr><td>Belarus</td><td>Rhythmic Gymnastics</td><td>Belarus</td><td>Group All-Around</td></tr><tr><td>Brazil</td><td>Rhythmic Gymnastics</td><td>Brazil</td><td>Group All-Around</td></tr><tr><td>Bulgaria</td><td>Rhythmic Gymnastics</td><td>Bulgaria</td><td>Group All-Around</td></tr><tr><td>China</td><td>Rhythmic Gymnastics</td><td>People's Republic of China</td><td>Group All-Around</td></tr><tr><td>Egypt</td><td>Rhythmic Gymnastics</td><td>Egypt</td><td>Group All-Around</td></tr><tr><td>Israel</td><td>Rhythmic Gymnastics</td><td>Israel</td><td>Group All-Around</td></tr><tr><td>Italy</td><td>Rhythmic Gymnastics</td><td>Italy</td><td>Group All-Around</td></tr><tr><td>Japan</td><td>Rhythmic Gymnastics</td><td>Japan</td><td>Group All-Around</td></tr><tr><td>ROC</td><td>Rhythmic Gymnastics</td><td>ROC</td><td>Group All-Around</td></tr><tr><td>Ukraine</td><td>Rhythmic Gymnastics</td><td>Ukraine</td><td>Group All-Around</td></tr><tr><td>United States</td><td>Rhythmic Gymnastics</td><td>United States of America</td><td>Group All-Around</td></tr><tr><td>Uzbekistan</td><td>Rhythmic Gymnastics</td><td>Uzbekistan</td><td>Group All-Around</td></tr><tr><td>Argentina</td><td>Rugby Sevens</td><td>Argentina</td><td>Men</td></tr><tr><td>Australia</td><td>Rugby Sevens</td><td>Australia</td><td>Men</td></tr><tr><td>Australia</td><td>Rugby Sevens</td><td>Australia</td><td>Women</td></tr><tr><td>Brazil</td><td>Rugby Sevens</td><td>Brazil</td><td>Women</td></tr><tr><td>Canada</td><td>Rugby Sevens</td><td>Canada</td><td>Men</td></tr><tr><td>Canada</td><td>Rugby Sevens</td><td>Canada</td><td>Women</td></tr><tr><td>China</td><td>Rugby Sevens</td><td>People's Republic of China</td><td>Women</td></tr><tr><td>Fiji</td><td>Rugby Sevens</td><td>Fiji</td><td>Men</td></tr><tr><td>Fiji</td><td>Rugby Sevens</td><td>Fiji</td><td>Women</td></tr><tr><td>France</td><td>Rugby Sevens</td><td>France</td><td>Women</td></tr><tr><td>Great Britain</td><td>Rugby Sevens</td><td>Great Britain</td><td>Men</td></tr><tr><td>Great Britain</td><td>Rugby Sevens</td><td>Great Britain</td><td>Women</td></tr><tr><td>Ireland</td><td>Rugby Sevens</td><td>Ireland</td><td>Men</td></tr><tr><td>Japan</td><td>Rugby Sevens</td><td>Japan</td><td>Men</td></tr><tr><td>Japan</td><td>Rugby Sevens</td><td>Japan</td><td>Women</td></tr><tr><td>Kenya</td><td>Rugby Sevens</td><td>Kenya</td><td>Men</td></tr><tr><td>Kenya</td><td>Rugby Sevens</td><td>Kenya</td><td>Women</td></tr><tr><td>New Zealand</td><td>Rugby Sevens</td><td>New Zealand</td><td>Men</td></tr><tr><td>New Zealand</td><td>Rugby Sevens</td><td>New Zealand</td><td>Women</td></tr><tr><td>Republic of Korea</td><td>Rugby Sevens</td><td>Republic of Korea</td><td>Men</td></tr><tr><td>ROC</td><td>Rugby Sevens</td><td>ROC</td><td>Women</td></tr><tr><td>South Africa</td><td>Rugby Sevens</td><td>South Africa</td><td>Men</td></tr><tr><td>United States</td><td>Rugby Sevens</td><td>United States of America</td><td>Men</td></tr><tr><td>United States</td><td>Rugby Sevens</td><td>United States of America</td><td>Women</td></tr><tr><td>Australia</td><td>Swimming</td><td>Australia</td><td>Men's 4 x 100m Freestyle Relay</td></tr><tr><td>Australia</td><td>Swimming</td><td>Australia</td><td>Men's 4 x 100m Medley Relay</td></tr><tr><td>Australia</td><td>Swimming</td><td>Australia</td><td>Men's 4 x 200m Freestyle Relay</td></tr><tr><td>Australia</td><td>Swimming</td><td>Australia</td><td>Mixed 4 x 100m Medley Relay</td></tr><tr><td>Australia</td><td>Swimming</td><td>Australia</td><td>Women's 4 x 100m Freestyle Relay</td></tr><tr><td>Australia</td><td>Swimming</td><td>Australia</td><td>Women's 4 x 100m Medley Relay</td></tr><tr><td>Australia</td><td>Swimming</td><td>Australia</td><td>Women's 4 x 200m Freestyle Relay</td></tr><tr><td>Belarus</td><td>Swimming</td><td>Belarus</td><td>Men's 4 x 100m Medley Relay</td></tr><tr><td>Belarus</td><td>Swimming</td><td>Belarus</td><td>Mixed 4 x 100m Medley Relay</td></tr><tr><td>Belarus</td><td>Swimming</td><td>Belarus</td><td>Women's 4 x 100m Medley Relay</td></tr><tr><td>Brazil</td><td>Swimming</td><td>Brazil</td><td>Men's 4 x 100m Freestyle Relay</td></tr><tr><td>Brazil</td><td>Swimming</td><td>Brazil</td><td>Men's 4 x 100m Medley Relay</td></tr><tr><td>Brazil</td><td>Swimming</td><td>Brazil</td><td>Men's 4 x 200m Freestyle Relay</td></tr><tr><td>Brazil</td><td>Swimming</td><td>Brazil</td><td>Mixed 4 x 100m Medley Relay</td></tr><tr><td>Brazil</td><td>Swimming</td><td>Brazil</td><td>Women's 4 x 100m Freestyle Relay</td></tr><tr><td>Brazil</td><td>Swimming</td><td>Brazil</td><td>Women's 4 x 200m Freestyle Relay</td></tr><tr><td>Canada</td><td>Swimming</td><td>Canada</td><td>Men's 4 x 100m Freestyle Relay</td></tr><tr><td>Canada</td><td>Swimming</td><td>Canada</td><td>Men's 4 x 100m Medley Relay</td></tr><tr><td>Canada</td><td>Swimming</td><td>Canada</td><td>Mixed 4 x 100m Medley Relay</td></tr><tr><td>Canada</td><td>Swimming</td><td>Canada</td><td>Women's 4 x 100m Freestyle Relay</td></tr><tr><td>Canada</td><td>Swimming</td><td>Canada</td><td>Women's 4 x 100m Medley Relay</td></tr><tr><td>Canada</td><td>Swimming</td><td>Canada</td><td>Women's 4 x 200m Freestyle Relay</td></tr><tr><td>China</td><td>Swimming</td><td>People's Republic of China</td><td>Men's 4 x 100m Medley Relay</td></tr><tr><td>China</td><td>Swimming</td><td>People's Republic of China</td><td>Men's 4 x 200m Freestyle Relay</td></tr><tr><td>China</td><td>Swimming</td><td>People's Republic of China</td><td>Mixed 4 x 100m Medley Relay</td></tr><tr><td>China</td><td>Swimming</td><td>People's Republic of China</td><td>Women's 4 x 100m Freestyle Relay</td></tr><tr><td>China</td><td>Swimming</td><td>People's Republic of China</td><td>Women's 4 x 100m Medley Relay</td></tr><tr><td>China</td><td>Swimming</td><td>People's Republic of China</td><td>Women's 4 x 200m Freestyle Relay</td></tr><tr><td>Czech Republic</td><td>Swimming</td><td>Czech Republic</td><td>Women's 4 x 100m Freestyle Relay</td></tr><tr><td>Denmark</td><td>Swimming</td><td>Denmark</td><td>Women's 4 x 100m Freestyle Relay</td></tr><tr><td>Denmark</td><td>Swimming</td><td>Denmark</td><td>Women's 4 x 100m Medley Relay</td></tr><tr><td>France</td><td>Swimming</td><td>France</td><td>Men's 4 x 100m Freestyle Relay</td></tr><tr><td>France</td><td>Swimming</td><td>France</td><td>Men's 4 x 100m Medley Relay</td></tr><tr><td>France</td><td>Swimming</td><td>France</td><td>Men's 4 x 200m Freestyle Relay</td></tr><tr><td>France</td><td>Swimming</td><td>France</td><td>Women's 4 x 100m Freestyle Relay</td></tr><tr><td>France</td><td>Swimming</td><td>France</td><td>Women's 4 x 200m Freestyle Relay</td></tr><tr><td>Germany</td><td>Swimming</td><td>Germany</td><td>Men's 4 x 100m Freestyle Relay</td></tr><tr><td>Germany</td><td>Swimming</td><td>Germany</td><td>Men's 4 x 100m Medley Relay</td></tr><tr><td>Germany</td><td>Swimming</td><td>Germany</td><td>Men's 4 x 200m Freestyle Relay</td></tr><tr><td>Germany</td><td>Swimming</td><td>Germany</td><td>Mixed 4 x 100m Medley Relay</td></tr><tr><td>Germany</td><td>Swimming</td><td>Germany</td><td>Women's 4 x 100m Freestyle Relay</td></tr><tr><td>Germany</td><td>Swimming</td><td>Germany</td><td>Women's 4 x 100m Medley Relay</td></tr><tr><td>Germany</td><td>Swimming</td><td>Germany</td><td>Women's 4 x 200m Freestyle Relay</td></tr><tr><td>Great Britain</td><td>Swimming</td><td>Great Britain</td><td>Men's 4 x 100m Freestyle Relay</td></tr><tr><td>Great Britain</td><td>Swimming</td><td>Great Britain</td><td>Men's 4 x 100m Medley Relay</td></tr><tr><td>Great Britain</td><td>Swimming</td><td>Great Britain</td><td>Men's 4 x 200m Freestyle Relay</td></tr><tr><td>Great Britain</td><td>Swimming</td><td>Great Britain</td><td>Mixed 4 x 100m Medley Relay</td></tr><tr><td>Great Britain</td><td>Swimming</td><td>Great Britain</td><td>Women's 4 x 100m Freestyle Relay</td></tr><tr><td>Great Britain</td><td>Swimming</td><td>Great Britain</td><td>Women's 4 x 100m Medley Relay</td></tr><tr><td>Greece</td><td>Swimming</td><td>Greece</td><td>Men's 4 x 100m Freestyle Relay</td></tr><tr><td>Greece</td><td>Swimming</td><td>Greece</td><td>Men's 4 x 100m Medley Relay</td></tr><tr><td>Greece</td><td>Swimming</td><td>Greece</td><td>Mixed 4 x 100m Medley Relay</td></tr><tr><td>Hong Kong, China</td><td>Swimming</td><td>Hong Kong, China</td><td>Women's 4 x 100m Freestyle Relay</td></tr><tr><td>Hong Kong, China</td><td>Swimming</td><td>Hong Kong, China</td><td>Women's 4 x 100m Medley Relay</td></tr><tr><td>Hong Kong, China</td><td>Swimming</td><td>Hong Kong, China</td><td>Women's 4 x 200m Freestyle Relay</td></tr><tr><td>Hungary</td><td>Swimming</td><td>Hungary</td><td>Men's 4 x 100m Freestyle Relay</td></tr><tr><td>Hungary</td><td>Swimming</td><td>Hungary</td><td>Men's 4 x 100m Medley Relay</td></tr><tr><td>Hungary</td><td>Swimming</td><td>Hungary</td><td>Men's 4 x 200m Freestyle Relay</td></tr><tr><td>Hungary</td><td>Swimming</td><td>Hungary</td><td>Mixed 4 x 100m Medley Relay</td></tr><tr><td>Hungary</td><td>Swimming</td><td>Hungary</td><td>Women's 4 x 200m Freestyle Relay</td></tr><tr><td>Ireland</td><td>Swimming</td><td>Ireland</td><td>Men's 4 x 200m Freestyle Relay</td></tr><tr><td>Israel</td><td>Swimming</td><td>Israel</td><td>Men's 4 x 200m Freestyle Relay</td></tr><tr><td>Israel</td><td>Swimming</td><td>Israel</td><td>Mixed 4 x 100m Medley Relay</td></tr><tr><td>Italy</td><td>Swimming</td><td>Italy</td><td>Men's 4 x 100m Freestyle Relay</td></tr><tr><td>Italy</td><td>Swimming</td><td>Italy</td><td>Men's 4 x 100m Medley Relay</td></tr><tr><td>Italy</td><td>Swimming</td><td>Italy</td><td>Men's 4 x 200m Freestyle Relay</td></tr><tr><td>Italy</td><td>Swimming</td><td>Italy</td><td>Mixed 4 x 100m Medley Relay</td></tr><tr><td>Italy</td><td>Swimming</td><td>Italy</td><td>Women's 4 x 100m Medley Relay</td></tr><tr><td>Italy</td><td>Swimming</td><td>Italy</td><td>Women's 4 x 200m Freestyle Relay</td></tr><tr><td>Japan</td><td>Swimming</td><td>Japan</td><td>Men's 4 x 100m Freestyle Relay</td></tr><tr><td>Japan</td><td>Swimming</td><td>Japan</td><td>Men's 4 x 100m Medley Relay</td></tr><tr><td>Japan</td><td>Swimming</td><td>Japan</td><td>Men's 4 x 200m Freestyle Relay</td></tr><tr><td>Japan</td><td>Swimming</td><td>Japan</td><td>Mixed 4 x 100m Medley Relay</td></tr><tr><td>Japan</td><td>Swimming</td><td>Japan</td><td>Women's 4 x 100m Freestyle Relay</td></tr><tr><td>Japan</td><td>Swimming</td><td>Japan</td><td>Women's 4 x 100m Medley Relay</td></tr><tr><td>Japan</td><td>Swimming</td><td>Japan</td><td>Women's 4 x 200m Freestyle Relay</td></tr><tr><td>Lithuania</td><td>Swimming</td><td>Lithuania</td><td>Men's 4 x 100m Medley Relay</td></tr><tr><td>Netherlands</td><td>Swimming</td><td>Netherlands</td><td>Men's 4 x 100m Freestyle Relay</td></tr><tr><td>Netherlands</td><td>Swimming</td><td>Netherlands</td><td>Mixed 4 x 100m Medley Relay</td></tr><tr><td>Netherlands</td><td>Swimming</td><td>Netherlands</td><td>Women's 4 x 100m Freestyle Relay</td></tr><tr><td>Netherlands</td><td>Swimming</td><td>Netherlands</td><td>Women's 4 x 100m Medley Relay</td></tr><tr><td>New Zealand</td><td>Swimming</td><td>New Zealand</td><td>Women's 4 x 200m Freestyle Relay</td></tr><tr><td>Poland</td><td>Swimming</td><td>Poland</td><td>Men's 4 x 100m Freestyle Relay</td></tr><tr><td>Poland</td><td>Swimming</td><td>Poland</td><td>Men's 4 x 100m Medley Relay</td></tr><tr><td>Poland</td><td>Swimming</td><td>Poland</td><td>Men's 4 x 200m Freestyle Relay</td></tr><tr><td>Poland</td><td>Swimming</td><td>Poland</td><td>Mixed 4 x 100m Medley Relay</td></tr><tr><td>Poland</td><td>Swimming</td><td>Poland</td><td>Women's 4 x 100m Freestyle Relay</td></tr><tr><td>Poland</td><td>Swimming</td><td>Poland</td><td>Women's 4 x 200m Freestyle Relay</td></tr><tr><td>Republic of Korea</td><td>Swimming</td><td>Republic of Korea</td><td>Men's 4 x 200m Freestyle Relay</td></tr><tr><td>Republic of Korea</td><td>Swimming</td><td>Republic of Korea</td><td>Women's 4 x 200m Freestyle Relay</td></tr><tr><td>ROC</td><td>Swimming</td><td>ROC</td><td>Men's 4 x 100m Freestyle Relay</td></tr><tr><td>ROC</td><td>Swimming</td><td>ROC</td><td>Men's 4 x 100m Medley Relay</td></tr><tr><td>ROC</td><td>Swimming</td><td>ROC</td><td>Men's 4 x 200m Freestyle Relay</td></tr><tr><td>ROC</td><td>Swimming</td><td>ROC</td><td>Mixed 4 x 100m Medley Relay</td></tr><tr><td>ROC</td><td>Swimming</td><td>ROC</td><td>Women's 4 x 100m Freestyle Relay</td></tr><tr><td>ROC</td><td>Swimming</td><td>ROC</td><td>Women's 4 x 100m Medley Relay</td></tr><tr><td>ROC</td><td>Swimming</td><td>ROC</td><td>Women's 4 x 200m Freestyle Relay</td></tr><tr><td>Serbia</td><td>Swimming</td><td>Serbia</td><td>Men's 4 x 100m Freestyle Relay</td></tr><tr><td>South Africa</td><td>Swimming</td><td>South Africa</td><td>Women's 4 x 100m Medley Relay</td></tr><tr><td>South Africa</td><td>Swimming</td><td>South Africa</td><td>Women's 4 x 200m Freestyle Relay</td></tr><tr><td>Spain</td><td>Swimming</td><td>Spain</td><td>Women's 4 x 100m Medley Relay</td></tr><tr><td>Sweden</td><td>Swimming</td><td>Sweden</td><td>Women's 4 x 100m Freestyle Relay</td></tr><tr><td>Sweden</td><td>Swimming</td><td>Sweden</td><td>Women's 4 x 100m Medley Relay</td></tr><tr><td>Switzerland</td><td>Swimming</td><td>Switzerland</td><td>Men's 4 x 100m Freestyle Relay</td></tr><tr><td>Switzerland</td><td>Swimming</td><td>Switzerland</td><td>Men's 4 x 200m Freestyle Relay</td></tr><tr><td>Turkey</td><td>Swimming</td><td>Turkey</td><td>Women's 4 x 200m Freestyle Relay</td></tr><tr><td>United States</td><td>Swimming</td><td>United States of America</td><td>Men's 4 x 100m Freestyle Relay</td></tr><tr><td>United States</td><td>Swimming</td><td>United States of America</td><td>Men's 4 x 100m Medley Relay</td></tr><tr><td>United States</td><td>Swimming</td><td>United States of America</td><td>Men's 4 x 200m Freestyle Relay</td></tr><tr><td>United States</td><td>Swimming</td><td>United States of America</td><td>Mixed 4 x 100m Medley Relay</td></tr><tr><td>United States</td><td>Swimming</td><td>United States of America</td><td>Women's 4 x 100m Freestyle Relay</td></tr><tr><td>United States</td><td>Swimming</td><td>United States of America</td><td>Women's 4 x 100m Medley Relay</td></tr><tr><td>United States</td><td>Swimming</td><td>United States of America</td><td>Women's 4 x 200m Freestyle Relay</td></tr><tr><td>Australia</td><td>Table Tennis</td><td>Australia</td><td>Men's Team</td></tr><tr><td>HU Heming / TAPPER Melissa</td><td>Table Tennis</td><td>Australia</td><td>Mixed Doubles</td></tr><tr><td>Australia</td><td>Table Tennis</td><td>Australia</td><td>Women's Team</td></tr><tr><td>FEGERL Stefan / POLCANOVA Sofia</td><td>Table Tennis</td><td>Austria</td><td>Mixed Doubles</td></tr><tr><td>Austria</td><td>Table Tennis</td><td>Austria</td><td>Women's Team</td></tr><tr><td>Brazil</td><td>Table Tennis</td><td>Brazil</td><td>Men's Team</td></tr><tr><td>Brazil</td><td>Table Tennis</td><td>Brazil</td><td>Women's Team</td></tr><tr><td>WANG Zhen / ZHANG Mo</td><td>Table Tennis</td><td>Canada</td><td>Mixed Doubles</td></tr><tr><td>China</td><td>Table Tennis</td><td>People's Republic of China</td><td>Men's Team</td></tr><tr><td>XU Xin / LIU Shiwen</td><td>Table Tennis</td><td>People's Republic of China</td><td>Mixed Doubles</td></tr><tr><td>China</td><td>Table Tennis</td><td>People's Republic of China</td><td>Women's Team</td></tr><tr><td>Chinese Taipei</td><td>Table Tennis</td><td>Chinese Taipei</td><td>Men's Team</td></tr><tr><td>LIN Yun Ju / CHENG I Ching</td><td>Table Tennis</td><td>Chinese Taipei</td><td>Mixed Doubles</td></tr><tr><td>Chinese Taipei</td><td>Table Tennis</td><td>Chinese Taipei</td><td>Women's Team</td></tr><tr><td>Croatia</td><td>Table Tennis</td><td>Croatia</td><td>Men's Team</td></tr><tr><td>CAMPOS Jorge / FONSECA Daniela</td><td>Table Tennis</td><td>Cuba</td><td>Mixed Doubles</td></tr><tr><td>Egypt</td><td>Table Tennis</td><td>Egypt</td><td>Men's Team</td></tr><tr><td>ASSAR Omar / MESHREF Dina</td><td>Table Tennis</td><td>Egypt</td><td>Mixed Doubles</td></tr><tr><td>Egypt</td><td>Table Tennis</td><td>Egypt</td><td>Women's Team</td></tr><tr><td>France</td><td>Table Tennis</td><td>France</td><td>Men's Team</td></tr><tr><td>LEBESSON Emmanuel / YUAN Jia Nan</td><td>Table Tennis</td><td>France</td><td>Mixed Doubles</td></tr><tr><td>France</td><td>Table Tennis</td><td>France</td><td>Women's Team</td></tr><tr><td>Germany</td><td>Table Tennis</td><td>Germany</td><td>Men's Team</td></tr><tr><td>FRANZISKA Patrick / SOLJA Petrissa</td><td>Table Tennis</td><td>Germany</td><td>Mixed Doubles</td></tr><tr><td>Germany</td><td>Table Tennis</td><td>Germany</td><td>Women's Team</td></tr><tr><td>Hong Kong, China</td><td>Table Tennis</td><td>Hong Kong, China</td><td>Men's Team</td></tr><tr><td>WONG Chun Ting / DOO Hoi Kem</td><td>Table Tennis</td><td>Hong Kong, China</td><td>Mixed Doubles</td></tr><tr><td>Hong Kong, China</td><td>Table Tennis</td><td>Hong Kong, China</td><td>Women's Team</td></tr><tr><td>SZUDI Adam / PERGEL Szandra</td><td>Table Tennis</td><td>Hungary</td><td>Mixed Doubles</td></tr><tr><td>Hungary</td><td>Table Tennis</td><td>Hungary</td><td>Women's Team</td></tr><tr><td>ACHANTA Kamal / BATRA Manika</td><td>Table Tennis</td><td>India</td><td>Mixed Doubles</td></tr><tr><td>Japan</td><td>Table Tennis</td><td>Japan</td><td>Men's Team</td></tr><tr><td>MIZUTANI Jun / ITO Mima</td><td>Table Tennis</td><td>Japan</td><td>Mixed Doubles</td></tr><tr><td>Japan</td><td>Table Tennis</td><td>Japan</td><td>Women's Team</td></tr><tr><td>Poland</td><td>Table Tennis</td><td>Poland</td><td>Women's Team</td></tr><tr><td>Portugal</td><td>Table Tennis</td><td>Portugal</td><td>Men's Team</td></tr><tr><td>Republic of Korea</td><td>Table Tennis</td><td>Republic of Korea</td><td>Men's Team</td></tr><tr><td>LEE Sangsu / JEON Jihee</td><td>Table Tennis</td><td>Republic of Korea</td><td>Mixed Doubles</td></tr><tr><td>Republic of Korea</td><td>Table Tennis</td><td>Republic of Korea</td><td>Women's Team</td></tr><tr><td>IONESCU Ovidiu / SZOCS Bernadette</td><td>Table Tennis</td><td>Romania</td><td>Mixed Doubles</td></tr><tr><td>Romania</td><td>Table Tennis</td><td>Romania</td><td>Women's Team</td></tr><tr><td>Serbia</td><td>Table Tennis</td><td>Serbia</td><td>Men's Team</td></tr><tr><td>Singapore</td><td>Table Tennis</td><td>Singapore</td><td>Women's Team</td></tr><tr><td>PISTEJ Lubomir / BALAZOVA Barbora</td><td>Table Tennis</td><td>Slovakia</td><td>Mixed Doubles</td></tr><tr><td>Slovenia</td><td>Table Tennis</td><td>Slovenia</td><td>Men's Team</td></tr><tr><td>Sweden</td><td>Table Tennis</td><td>Sweden</td><td>Men's Team</td></tr><tr><td>United States</td><td>Table Tennis</td><td>United States of America</td><td>Men's Team</td></tr><tr><td>United States</td><td>Table Tennis</td><td>United States of America</td><td>Women's Team</td></tr><tr><td>Australia</td><td>Triathlon</td><td>Australia</td><td>Mixed Relay</td></tr><tr><td>Austria</td><td>Triathlon</td><td>Austria</td><td>Mixed Relay</td></tr><tr><td>Belgium</td><td>Triathlon</td><td>Belgium</td><td>Mixed Relay</td></tr><tr><td>Canada</td><td>Triathlon</td><td>Canada</td><td>Mixed Relay</td></tr><tr><td>France</td><td>Triathlon</td><td>France</td><td>Mixed Relay</td></tr><tr><td>Germany</td><td>Triathlon</td><td>Germany</td><td>Mixed Relay</td></tr><tr><td>Great Britain</td><td>Triathlon</td><td>Great Britain</td><td>Mixed Relay</td></tr><tr><td>Hungary</td><td>Triathlon</td><td>Hungary</td><td>Mixed Relay</td></tr><tr><td>Italy</td><td>Triathlon</td><td>Italy</td><td>Mixed Relay</td></tr><tr><td>Japan</td><td>Triathlon</td><td>Japan</td><td>Mixed Relay</td></tr><tr><td>Mexico</td><td>Triathlon</td><td>Mexico</td><td>Mixed Relay</td></tr><tr><td>Netherlands</td><td>Triathlon</td><td>Netherlands</td><td>Mixed Relay</td></tr><tr><td>New Zealand</td><td>Triathlon</td><td>New Zealand</td><td>Mixed Relay</td></tr><tr><td>ROC</td><td>Triathlon</td><td>ROC</td><td>Mixed Relay</td></tr><tr><td>South Africa</td><td>Triathlon</td><td>South Africa</td><td>Mixed Relay</td></tr><tr><td>Spain</td><td>Triathlon</td><td>Spain</td><td>Mixed Relay</td></tr><tr><td>Switzerland</td><td>Triathlon</td><td>Switzerland</td><td>Mixed Relay</td></tr><tr><td>United States</td><td>Triathlon</td><td>United States of America</td><td>Mixed Relay</td></tr><tr><td>Argentina</td><td>Volleyball</td><td>Argentina</td><td>Men</td></tr><tr><td>Argentina</td><td>Volleyball</td><td>Argentina</td><td>Women</td></tr><tr><td>Brazil</td><td>Volleyball</td><td>Brazil</td><td>Men</td></tr><tr><td>Brazil</td><td>Volleyball</td><td>Brazil</td><td>Women</td></tr><tr><td>Canada</td><td>Volleyball</td><td>Canada</td><td>Men</td></tr><tr><td>China</td><td>Volleyball</td><td>People's Republic of China</td><td>Women</td></tr><tr><td>Dominican Rep.</td><td>Volleyball</td><td>Dominican Republic</td><td>Women</td></tr><tr><td>France</td><td>Volleyball</td><td>France</td><td>Men</td></tr><tr><td>Islamic Rep. of Iran</td><td>Volleyball</td><td>Islamic Republic of Iran</td><td>Men</td></tr><tr><td>Italy</td><td>Volleyball</td><td>Italy</td><td>Men</td></tr><tr><td>Italy</td><td>Volleyball</td><td>Italy</td><td>Women</td></tr><tr><td>Japan</td><td>Volleyball</td><td>Japan</td><td>Men</td></tr><tr><td>Japan</td><td>Volleyball</td><td>Japan</td><td>Women</td></tr><tr><td>Kenya</td><td>Volleyball</td><td>Kenya</td><td>Women</td></tr><tr><td>Poland</td><td>Volleyball</td><td>Poland</td><td>Men</td></tr><tr><td>Republic of Korea</td><td>Volleyball</td><td>Republic of Korea</td><td>Women</td></tr><tr><td>ROC</td><td>Volleyball</td><td>ROC</td><td>Men</td></tr><tr><td>ROC</td><td>Volleyball</td><td>ROC</td><td>Women</td></tr><tr><td>Serbia</td><td>Volleyball</td><td>Serbia</td><td>Women</td></tr><tr><td>Tunisia</td><td>Volleyball</td><td>Tunisia</td><td>Men</td></tr><tr><td>Turkey</td><td>Volleyball</td><td>Turkey</td><td>Women</td></tr><tr><td>United States</td><td>Volleyball</td><td>United States of America</td><td>Men</td></tr><tr><td>United States</td><td>Volleyball</td><td>United States of America</td><td>Women</td></tr><tr><td>Venezuela</td><td>Volleyball</td><td>Venezuela</td><td>Men</td></tr><tr><td>Australia</td><td>Water Polo</td><td>Australia</td><td>Men</td></tr><tr><td>Australia</td><td>Water Polo</td><td>Australia</td><td>Women</td></tr><tr><td>Canada</td><td>Water Polo</td><td>Canada</td><td>Women</td></tr><tr><td>China</td><td>Water Polo</td><td>People's Republic of China</td><td>Women</td></tr><tr><td>Croatia</td><td>Water Polo</td><td>Croatia</td><td>Men</td></tr><tr><td>Greece</td><td>Water Polo</td><td>Greece</td><td>Men</td></tr><tr><td>Hungary</td><td>Water Polo</td><td>Hungary</td><td>Men</td></tr><tr><td>Hungary</td><td>Water Polo</td><td>Hungary</td><td>Women</td></tr><tr><td>Italy</td><td>Water Polo</td><td>Italy</td><td>Men</td></tr><tr><td>Japan</td><td>Water Polo</td><td>Japan</td><td>Men</td></tr><tr><td>Japan</td><td>Water Polo</td><td>Japan</td><td>Women</td></tr><tr><td>Kazakhstan</td><td>Water Polo</td><td>Kazakhstan</td><td>Men</td></tr><tr><td>Montenegro</td><td>Water Polo</td><td>Montenegro</td><td>Men</td></tr><tr><td>Netherlands</td><td>Water Polo</td><td>Netherlands</td><td>Women</td></tr><tr><td>ROC</td><td>Water Polo</td><td>ROC</td><td>Women</td></tr><tr><td>Serbia</td><td>Water Polo</td><td>Serbia</td><td>Men</td></tr><tr><td>South Africa</td><td>Water Polo</td><td>South Africa</td><td>Men</td></tr><tr><td>South Africa</td><td>Water Polo</td><td>South Africa</td><td>Women</td></tr><tr><td>Spain</td><td>Water Polo</td><td>Spain</td><td>Men</td></tr><tr><td>Spain</td><td>Water Polo</td><td>Spain</td><td>Women</td></tr><tr><td>United States</td><td>Water Polo</td><td>United States of America</td><td>Men</td></tr><tr><td>United States</td><td>Water Polo</td><td>United States of America</td><td>Women</td></tr></tbody></table></div>"
      ]
     },
     "metadata": {
      "application/vnd.databricks.v1+output": {
       "addedWidgets": {},
       "aggData": [],
       "aggError": "",
       "aggOverflow": false,
       "aggSchema": [],
       "aggSeriesLimitReached": false,
       "aggType": "",
       "arguments": {},
       "columnCustomDisplayInfos": {},
       "data": [
        [
         "Belgium",
         "3x3 Basketball",
         "Belgium",
         "Men"
        ],
        [
         "China",
         "3x3 Basketball",
         "People's Republic of China",
         "Men"
        ],
        [
         "China",
         "3x3 Basketball",
         "People's Republic of China",
         "Women"
        ],
        [
         "France",
         "3x3 Basketball",
         "France",
         "Women"
        ],
        [
         "Italy",
         "3x3 Basketball",
         "Italy",
         "Women"
        ],
        [
         "Japan",
         "3x3 Basketball",
         "Japan",
         "Men"
        ],
        [
         "Japan",
         "3x3 Basketball",
         "Japan",
         "Women"
        ],
        [
         "Latvia",
         "3x3 Basketball",
         "Latvia",
         "Men"
        ],
        [
         "Mongolia",
         "3x3 Basketball",
         "Mongolia",
         "Women"
        ],
        [
         "Netherlands",
         "3x3 Basketball",
         "Netherlands",
         "Men"
        ],
        [
         "Poland",
         "3x3 Basketball",
         "Poland",
         "Men"
        ],
        [
         "ROC",
         "3x3 Basketball",
         "ROC",
         "Men"
        ],
        [
         "ROC",
         "3x3 Basketball",
         "ROC",
         "Women"
        ],
        [
         "Romania",
         "3x3 Basketball",
         "Romania",
         "Women"
        ],
        [
         "Serbia",
         "3x3 Basketball",
         "Serbia",
         "Men"
        ],
        [
         "United States",
         "3x3 Basketball",
         "United States of America",
         "Women"
        ],
        [
         "Australia",
         "Archery",
         "Australia",
         "Men's Team"
        ],
        [
         "Australia",
         "Archery",
         "Australia",
         "Mixed Team"
        ],
        [
         "Bangladesh",
         "Archery",
         "Bangladesh",
         "Mixed Team"
        ],
        [
         "Belarus",
         "Archery",
         "Belarus",
         "Women's Team"
        ],
        [
         "Brazil",
         "Archery",
         "Brazil",
         "Mixed Team"
        ],
        [
         "Canada",
         "Archery",
         "Canada",
         "Mixed Team"
        ],
        [
         "China",
         "Archery",
         "People's Republic of China",
         "Men's Team"
        ],
        [
         "China",
         "Archery",
         "People's Republic of China",
         "Mixed Team"
        ],
        [
         "China",
         "Archery",
         "People's Republic of China",
         "Women's Team"
        ],
        [
         "Chinese Taipei",
         "Archery",
         "Chinese Taipei",
         "Men's Team"
        ],
        [
         "Chinese Taipei",
         "Archery",
         "Chinese Taipei",
         "Mixed Team"
        ],
        [
         "Chinese Taipei",
         "Archery",
         "Chinese Taipei",
         "Women's Team"
        ],
        [
         "Colombia",
         "Archery",
         "Colombia",
         "Mixed Team"
        ],
        [
         "Egypt",
         "Archery",
         "Egypt",
         "Mixed Team"
        ],
        [
         "France",
         "Archery",
         "France",
         "Men's Team"
        ],
        [
         "France",
         "Archery",
         "France",
         "Mixed Team"
        ],
        [
         "Germany",
         "Archery",
         "Germany",
         "Mixed Team"
        ],
        [
         "Germany",
         "Archery",
         "Germany",
         "Women's Team"
        ],
        [
         "Great Britain",
         "Archery",
         "Great Britain",
         "Men's Team"
        ],
        [
         "Great Britain",
         "Archery",
         "Great Britain",
         "Mixed Team"
        ],
        [
         "Great Britain",
         "Archery",
         "Great Britain",
         "Women's Team"
        ],
        [
         "India",
         "Archery",
         "India",
         "Men's Team"
        ],
        [
         "India",
         "Archery",
         "India",
         "Mixed Team"
        ],
        [
         "Indonesia",
         "Archery",
         "Indonesia",
         "Men's Team"
        ],
        [
         "Indonesia",
         "Archery",
         "Indonesia",
         "Mixed Team"
        ],
        [
         "Italy",
         "Archery",
         "Italy",
         "Mixed Team"
        ],
        [
         "Italy",
         "Archery",
         "Italy",
         "Women's Team"
        ],
        [
         "Japan",
         "Archery",
         "Japan",
         "Men's Team"
        ],
        [
         "Japan",
         "Archery",
         "Japan",
         "Mixed Team"
        ],
        [
         "Japan",
         "Archery",
         "Japan",
         "Women's Team"
        ],
        [
         "Kazakhstan",
         "Archery",
         "Kazakhstan",
         "Men's Team"
        ],
        [
         "Malaysia",
         "Archery",
         "Malaysia",
         "Mixed Team"
        ],
        [
         "Mexico",
         "Archery",
         "Mexico",
         "Mixed Team"
        ],
        [
         "Mexico",
         "Archery",
         "Mexico",
         "Women's Team"
        ],
        [
         "Mongolia",
         "Archery",
         "Mongolia",
         "Mixed Team"
        ],
        [
         "Netherlands",
         "Archery",
         "Netherlands",
         "Men's Team"
        ],
        [
         "Netherlands",
         "Archery",
         "Netherlands",
         "Mixed Team"
        ],
        [
         "Poland",
         "Archery",
         "Poland",
         "Mixed Team"
        ],
        [
         "Rep. of Moldova",
         "Archery",
         "Republic of Moldova",
         "Mixed Team"
        ],
        [
         "Republic of Korea",
         "Archery",
         "Republic of Korea",
         "Men's Team"
        ],
        [
         "Republic of Korea",
         "Archery",
         "Republic of Korea",
         "Mixed Team"
        ],
        [
         "Republic of Korea",
         "Archery",
         "Republic of Korea",
         "Women's Team"
        ],
        [
         "ROC",
         "Archery",
         "ROC",
         "Mixed Team"
        ],
        [
         "ROC",
         "Archery",
         "ROC",
         "Women's Team"
        ],
        [
         "Spain",
         "Archery",
         "Spain",
         "Mixed Team"
        ],
        [
         "Tunisia",
         "Archery",
         "Tunisia",
         "Mixed Team"
        ],
        [
         "Turkey",
         "Archery",
         "Turkey",
         "Mixed Team"
        ],
        [
         "Ukraine",
         "Archery",
         "Ukraine",
         "Mixed Team"
        ],
        [
         "Ukraine",
         "Archery",
         "Ukraine",
         "Women's Team"
        ],
        [
         "United States",
         "Archery",
         "United States of America",
         "Men's Team"
        ],
        [
         "United States",
         "Archery",
         "United States of America",
         "Mixed Team"
        ],
        [
         "United States",
         "Archery",
         "United States of America",
         "Women's Team"
        ],
        [
         "Vietnam",
         "Archery",
         "Vietnam",
         "Mixed Team"
        ],
        [
         "Belgium",
         "Artistic Gymnastics",
         "Belgium",
         "Women's Team"
        ],
        [
         "Brazil",
         "Artistic Gymnastics",
         "Brazil",
         "Men's Team"
        ],
        [
         "Canada",
         "Artistic Gymnastics",
         "Canada",
         "Women's Team"
        ],
        [
         "China",
         "Artistic Gymnastics",
         "People's Republic of China",
         "Men's Team"
        ],
        [
         "China",
         "Artistic Gymnastics",
         "People's Republic of China",
         "Women's Team"
        ],
        [
         "Chinese Taipei",
         "Artistic Gymnastics",
         "Chinese Taipei",
         "Men's Team"
        ],
        [
         "France",
         "Artistic Gymnastics",
         "France",
         "Women's Team"
        ],
        [
         "Germany",
         "Artistic Gymnastics",
         "Germany",
         "Men's Team"
        ],
        [
         "Germany",
         "Artistic Gymnastics",
         "Germany",
         "Women's Team"
        ],
        [
         "Great Britain",
         "Artistic Gymnastics",
         "Great Britain",
         "Men's Team"
        ],
        [
         "Great Britain",
         "Artistic Gymnastics",
         "Great Britain",
         "Women's Team"
        ],
        [
         "Italy",
         "Artistic Gymnastics",
         "Italy",
         "Women's Team"
        ],
        [
         "Japan",
         "Artistic Gymnastics",
         "Japan",
         "Men's Team"
        ],
        [
         "Japan",
         "Artistic Gymnastics",
         "Japan",
         "Women's Team"
        ],
        [
         "Netherlands",
         "Artistic Gymnastics",
         "Netherlands",
         "Women's Team"
        ],
        [
         "Korea",
         "Artistic Gymnastics",
         "Republic of Korea",
         "Men's Team"
        ],
        [
         "ROC",
         "Artistic Gymnastics",
         "ROC",
         "Men's Team"
        ],
        [
         "ROC",
         "Artistic Gymnastics",
         "ROC",
         "Women's Team"
        ],
        [
         "Spain",
         "Artistic Gymnastics",
         "Spain",
         "Men's Team"
        ],
        [
         "Spain",
         "Artistic Gymnastics",
         "Spain",
         "Women's Team"
        ],
        [
         "Switzerland",
         "Artistic Gymnastics",
         "Switzerland",
         "Men's Team"
        ],
        [
         "Ukraine",
         "Artistic Gymnastics",
         "Ukraine",
         "Men's Team"
        ],
        [
         "United States",
         "Artistic Gymnastics",
         "United States of America",
         "Men's Team"
        ],
        [
         "United States",
         "Artistic Gymnastics",
         "United States of America",
         "Women's Team"
        ],
        [
         "Australia",
         "Artistic Swimming",
         "Australia",
         "Duet"
        ],
        [
         "Australia",
         "Artistic Swimming",
         "Australia",
         "Team"
        ],
        [
         "Austria",
         "Artistic Swimming",
         "Austria",
         "Duet"
        ],
        [
         "Belarus",
         "Artistic Swimming",
         "Belarus",
         "Duet"
        ],
        [
         "Canada",
         "Artistic Swimming",
         "Canada",
         "Duet"
        ],
        [
         "Canada",
         "Artistic Swimming",
         "Canada",
         "Team"
        ],
        [
         "China",
         "Artistic Swimming",
         "People's Republic of China",
         "Duet"
        ],
        [
         "China",
         "Artistic Swimming",
         "People's Republic of China",
         "Team"
        ],
        [
         "Colombia",
         "Artistic Swimming",
         "Colombia",
         "Duet"
        ],
        [
         "Egypt",
         "Artistic Swimming",
         "Egypt",
         "Duet"
        ],
        [
         "Egypt",
         "Artistic Swimming",
         "Egypt",
         "Team"
        ],
        [
         "France",
         "Artistic Swimming",
         "France",
         "Duet"
        ],
        [
         "Great Britain",
         "Artistic Swimming",
         "Great Britain",
         "Duet"
        ],
        [
         "Greece",
         "Artistic Swimming",
         "Greece",
         "Duet"
        ],
        [
         "Greece",
         "Artistic Swimming",
         "Greece",
         "Team"
        ],
        [
         "Israel",
         "Artistic Swimming",
         "Israel",
         "Duet"
        ],
        [
         "Italy",
         "Artistic Swimming",
         "Italy",
         "Duet"
        ],
        [
         "Italy",
         "Artistic Swimming",
         "Italy",
         "Team"
        ],
        [
         "Japan",
         "Artistic Swimming",
         "Japan",
         "Duet"
        ],
        [
         "Japan",
         "Artistic Swimming",
         "Japan",
         "Team"
        ],
        [
         "Kazakhstan",
         "Artistic Swimming",
         "Kazakhstan",
         "Duet"
        ],
        [
         "Liechtenstein",
         "Artistic Swimming",
         "Liechtenstein",
         "Duet"
        ],
        [
         "Mexico",
         "Artistic Swimming",
         "Mexico",
         "Duet"
        ],
        [
         "Netherlands",
         "Artistic Swimming",
         "Netherlands",
         "Duet"
        ],
        [
         "ROC",
         "Artistic Swimming",
         "ROC",
         "Duet"
        ],
        [
         "ROC",
         "Artistic Swimming",
         "ROC",
         "Team"
        ],
        [
         "South Africa",
         "Artistic Swimming",
         "South Africa",
         "Duet"
        ],
        [
         "Spain",
         "Artistic Swimming",
         "Spain",
         "Duet"
        ],
        [
         "Spain",
         "Artistic Swimming",
         "Spain",
         "Team"
        ],
        [
         "Ukraine",
         "Artistic Swimming",
         "Ukraine",
         "Duet"
        ],
        [
         "Ukraine",
         "Artistic Swimming",
         "Ukraine",
         "Team"
        ],
        [
         "United States",
         "Artistic Swimming",
         "United States of America",
         "Duet"
        ],
        [
         "Australia",
         "Athletics",
         "Australia",
         "Women's 4 x 400m Relay"
        ],
        [
         "Bahamas",
         "Athletics",
         "Bahamas",
         "Women's 4 x 400m Relay"
        ],
        [
         "Belarus",
         "Athletics",
         "Belarus",
         "Women's 4 x 400m Relay"
        ],
        [
         "Belgium",
         "Athletics",
         "Belgium",
         "4 x 400m Relay Mixed"
        ],
        [
         "Belgium",
         "Athletics",
         "Belgium",
         "Men's 4 x 400m Relay"
        ],
        [
         "Belgium",
         "Athletics",
         "Belgium",
         "Women's 4 x 400m Relay"
        ],
        [
         "Botswana",
         "Athletics",
         "Botswana",
         "Men's 4 x 400m Relay"
        ],
        [
         "Brazil",
         "Athletics",
         "Brazil",
         "4 x 400m Relay Mixed"
        ],
        [
         "Brazil",
         "Athletics",
         "Brazil",
         "Men's 4 x 100m Relay"
        ],
        [
         "Brazil",
         "Athletics",
         "Brazil",
         "Women's 4 x 100m Relay"
        ],
        [
         "Canada",
         "Athletics",
         "Canada",
         "Men's 4 x 100m Relay"
        ],
        [
         "Canada",
         "Athletics",
         "Canada",
         "Women's 4 x 400m Relay"
        ],
        [
         "China",
         "Athletics",
         "People's Republic of China",
         "Men's 4 x 100m Relay"
        ],
        [
         "China",
         "Athletics",
         "People's Republic of China",
         "Women's 4 x 100m Relay"
        ],
        [
         "Colombia",
         "Athletics",
         "Colombia",
         "Men's 4 x 400m Relay"
        ],
        [
         "Cuba",
         "Athletics",
         "Cuba",
         "Women's 4 x 400m Relay"
        ],
        [
         "Czech Republic",
         "Athletics",
         "Czech Republic",
         "Men's 4 x 400m Relay"
        ],
        [
         "Denmark",
         "Athletics",
         "Denmark",
         "Men's 4 x 100m Relay"
        ],
        [
         "Denmark",
         "Athletics",
         "Denmark",
         "Women's 4 x 100m Relay"
        ],
        [
         "Dominican Rep.",
         "Athletics",
         "Dominican Republic",
         "4 x 400m Relay Mixed"
        ],
        [
         "Ecuador",
         "Athletics",
         "Ecuador",
         "Women's 4 x 100m Relay"
        ],
        [
         "France",
         "Athletics",
         "France",
         "Men's 4 x 100m Relay"
        ],
        [
         "France",
         "Athletics",
         "France",
         "Men's 4 x 400m Relay"
        ],
        [
         "France",
         "Athletics",
         "France",
         "Women's 4 x 100m Relay"
        ],
        [
         "France",
         "Athletics",
         "France",
         "Women's 4 x 400m Relay"
        ],
        [
         "Germany",
         "Athletics",
         "Germany",
         "4 x 400m Relay Mixed"
        ],
        [
         "Germany",
         "Athletics",
         "Germany",
         "Men's 4 x 100m Relay"
        ],
        [
         "Germany",
         "Athletics",
         "Germany",
         "Men's 4 x 400m Relay"
        ],
        [
         "Germany",
         "Athletics",
         "Germany",
         "Women's 4 x 100m Relay"
        ],
        [
         "Germany",
         "Athletics",
         "Germany",
         "Women's 4 x 400m Relay"
        ],
        [
         "Ghana",
         "Athletics",
         "Ghana",
         "Men's 4 x 100m Relay"
        ],
        [
         "Great Britain",
         "Athletics",
         "Great Britain",
         "4 x 400m Relay Mixed"
        ],
        [
         "Great Britain",
         "Athletics",
         "Great Britain",
         "Men's 4 x 100m Relay"
        ],
        [
         "Great Britain",
         "Athletics",
         "Great Britain",
         "Men's 4 x 400m Relay"
        ],
        [
         "Great Britain",
         "Athletics",
         "Great Britain",
         "Women's 4 x 100m Relay"
        ],
        [
         "Great Britain",
         "Athletics",
         "Great Britain",
         "Women's 4 x 400m Relay"
        ],
        [
         "India",
         "Athletics",
         "India",
         "4 x 400m Relay Mixed"
        ],
        [
         "India",
         "Athletics",
         "India",
         "Men's 4 x 400m Relay"
        ],
        [
         "Ireland",
         "Athletics",
         "Ireland",
         "4 x 400m Relay Mixed"
        ],
        [
         "Italy",
         "Athletics",
         "Italy",
         "4 x 400m Relay Mixed"
        ],
        [
         "Italy",
         "Athletics",
         "Italy",
         "Men's 4 x 100m Relay"
        ],
        [
         "Italy",
         "Athletics",
         "Italy",
         "Men's 4 x 400m Relay"
        ],
        [
         "Italy",
         "Athletics",
         "Italy",
         "Women's 4 x 100m Relay"
        ],
        [
         "Italy",
         "Athletics",
         "Italy",
         "Women's 4 x 400m Relay"
        ],
        [
         "Jamaica",
         "Athletics",
         "Jamaica",
         "4 x 400m Relay Mixed"
        ],
        [
         "Jamaica",
         "Athletics",
         "Jamaica",
         "Men's 4 x 100m Relay"
        ],
        [
         "Jamaica",
         "Athletics",
         "Jamaica",
         "Men's 4 x 400m Relay"
        ],
        [
         "Jamaica",
         "Athletics",
         "Jamaica",
         "Women's 4 x 100m Relay"
        ],
        [
         "Jamaica",
         "Athletics",
         "Jamaica",
         "Women's 4 x 400m Relay"
        ],
        [
         "Japan",
         "Athletics",
         "Japan",
         "Men's 4 x 100m Relay"
        ],
        [
         "Japan",
         "Athletics",
         "Japan",
         "Men's 4 x 400m Relay"
        ],
        [
         "Japan",
         "Athletics",
         "Japan",
         "Women's 4 x 100m Relay"
        ],
        [
         "Netherlands",
         "Athletics",
         "Netherlands",
         "4 x 400m Relay Mixed"
        ],
        [
         "Netherlands",
         "Athletics",
         "Netherlands",
         "Men's 4 x 100m Relay"
        ],
        [
         "Netherlands",
         "Athletics",
         "Netherlands",
         "Men's 4 x 400m Relay"
        ],
        [
         "Netherlands",
         "Athletics",
         "Netherlands",
         "Women's 4 x 100m Relay"
        ],
        [
         "Netherlands",
         "Athletics",
         "Netherlands",
         "Women's 4 x 400m Relay"
        ],
        [
         "Nigeria",
         "Athletics",
         "Nigeria",
         "4 x 400m Relay Mixed"
        ],
        [
         "Nigeria",
         "Athletics",
         "Nigeria",
         "Women's 4 x 100m Relay"
        ],
        [
         "Poland",
         "Athletics",
         "Poland",
         "4 x 400m Relay Mixed"
        ],
        [
         "Poland",
         "Athletics",
         "Poland",
         "Men's 4 x 400m Relay"
        ],
        [
         "Poland",
         "Athletics",
         "Poland",
         "Women's 4 x 100m Relay"
        ],
        [
         "Poland",
         "Athletics",
         "Poland",
         "Women's 4 x 400m Relay"
        ],
        [
         "South Africa",
         "Athletics",
         "South Africa",
         "Men's 4 x 100m Relay"
        ],
        [
         "South Africa",
         "Athletics",
         "South Africa",
         "Men's 4 x 400m Relay"
        ],
        [
         "Spain",
         "Athletics",
         "Spain",
         "4 x 400m Relay Mixed"
        ],
        [
         "Switzerland",
         "Athletics",
         "Switzerland",
         "Women's 4 x 100m Relay"
        ],
        [
         "Switzerland",
         "Athletics",
         "Switzerland",
         "Women's 4 x 400m Relay"
        ],
        [
         "Trinidad & Tobago",
         "Athletics",
         "Trinidad and Tobago",
         "Men's 4 x 100m Relay"
        ],
        [
         "Trinidad & Tobago",
         "Athletics",
         "Trinidad and Tobago",
         "Men's 4 x 400m Relay"
        ],
        [
         "Trinidad & Tobago",
         "Athletics",
         "Trinidad and Tobago",
         "Women's 4 x 100m Relay"
        ],
        [
         "Turkey",
         "Athletics",
         "Turkey",
         "Men's 4 x 100m Relay"
        ],
        [
         "Ukraine",
         "Athletics",
         "Ukraine",
         "4 x 400m Relay Mixed"
        ],
        [
         "Ukraine",
         "Athletics",
         "Ukraine",
         "Women's 4 x 400m Relay"
        ],
        [
         "United States",
         "Athletics",
         "United States of America",
         "4 x 400m Relay Mixed"
        ],
        [
         "United States",
         "Athletics",
         "United States of America",
         "Men's 4 x 100m Relay"
        ],
        [
         "United States",
         "Athletics",
         "United States of America",
         "Men's 4 x 400m Relay"
        ],
        [
         "United States",
         "Athletics",
         "United States of America",
         "Women's 4 x 100m Relay"
        ],
        [
         "United States",
         "Athletics",
         "United States of America",
         "Women's 4 x 400m Relay"
        ],
        [
         "Australia",
         "Baseball/Softball",
         "Australia",
         "Softball"
        ],
        [
         "Canada",
         "Baseball/Softball",
         "Canada",
         "Softball"
        ],
        [
         "Dominican Rep.",
         "Baseball/Softball",
         "Dominican Republic",
         "Baseball"
        ],
        [
         "Israel",
         "Baseball/Softball",
         "Israel",
         "Baseball"
        ],
        [
         "Italy",
         "Baseball/Softball",
         "Italy",
         "Softball"
        ],
        [
         "Japan",
         "Baseball/Softball",
         "Japan",
         "Baseball"
        ],
        [
         "Japan",
         "Baseball/Softball",
         "Japan",
         "Softball"
        ],
        [
         "Mexico",
         "Baseball/Softball",
         "Mexico",
         "Baseball"
        ],
        [
         "Mexico",
         "Baseball/Softball",
         "Mexico",
         "Softball"
        ],
        [
         "Republic of Korea",
         "Baseball/Softball",
         "Republic of Korea",
         "Baseball"
        ],
        [
         "United States",
         "Baseball/Softball",
         "United States of America",
         "Baseball"
        ],
        [
         "United States",
         "Baseball/Softball",
         "United States of America",
         "Softball"
        ],
        [
         "Argentina",
         "Basketball",
         "Argentina",
         "Men"
        ],
        [
         "Australia",
         "Basketball",
         "Australia",
         "Men"
        ],
        [
         "Australia",
         "Basketball",
         "Australia",
         "Women"
        ],
        [
         "Belgium",
         "Basketball",
         "Belgium",
         "Women"
        ],
        [
         "Canada",
         "Basketball",
         "Canada",
         "Women"
        ],
        [
         "China",
         "Basketball",
         "People's Republic of China",
         "Women"
        ],
        [
         "Czech Republic",
         "Basketball",
         "Czech Republic",
         "Men"
        ],
        [
         "France",
         "Basketball",
         "France",
         "Men"
        ],
        [
         "France",
         "Basketball",
         "France",
         "Women"
        ],
        [
         "Germany",
         "Basketball",
         "Germany",
         "Men"
        ],
        [
         "Islamic Rep. of Iran",
         "Basketball",
         "Islamic Republic of Iran",
         "Men"
        ],
        [
         "Italy",
         "Basketball",
         "Italy",
         "Men"
        ],
        [
         "Japan",
         "Basketball",
         "Japan",
         "Men"
        ],
        [
         "Japan",
         "Basketball",
         "Japan",
         "Women"
        ],
        [
         "Nigeria",
         "Basketball",
         "Nigeria",
         "Men"
        ],
        [
         "Nigeria",
         "Basketball",
         "Nigeria",
         "Women"
        ],
        [
         "Puerto Rico",
         "Basketball",
         "Puerto Rico",
         "Women"
        ],
        [
         "Republic of Korea",
         "Basketball",
         "Republic of Korea",
         "Women"
        ],
        [
         "Serbia",
         "Basketball",
         "Serbia",
         "Women"
        ],
        [
         "Slovenia",
         "Basketball",
         "Slovenia",
         "Men"
        ],
        [
         "Spain",
         "Basketball",
         "Spain",
         "Men"
        ],
        [
         "Spain",
         "Basketball",
         "Spain",
         "Women"
        ],
        [
         "United States",
         "Basketball",
         "United States of America",
         "Men"
        ],
        [
         "United States",
         "Basketball",
         "United States of America",
         "Women"
        ],
        [
         "Azaad/Capogrosso",
         "Beach Volleyball",
         "Argentina",
         "Men"
        ],
        [
         "Gallay/Pereyra",
         "Beach Volleyball",
         "Argentina",
         "Women"
        ],
        [
         "McHugh/Schumann",
         "Beach Volleyball",
         "Australia",
         "Men"
        ],
        [
         "Artacho Del Solar/Clancy",
         "Beach Volleyball",
         "Australia",
         "Women"
        ],
        [
         "Alison/Alvaro Filho",
         "Beach Volleyball",
         "Brazil",
         "Men"
        ],
        [
         "Evandro/Bruno Schmidt",
         "Beach Volleyball",
         "Brazil",
         "Men"
        ],
        [
         "Ana Patricia/Rebecca",
         "Beach Volleyball",
         "Brazil",
         "Women"
        ],
        [
         "Agatha/Duda",
         "Beach Volleyball",
         "Brazil",
         "Women"
        ],
        [
         "Bansley/Brandie",
         "Beach Volleyball",
         "Canada",
         "Women"
        ],
        [
         "Pavan/Melissa",
         "Beach Volleyball",
         "Canada",
         "Women"
        ],
        [
         "Grimalt M./Grimalt E.",
         "Beach Volleyball",
         "Chile",
         "Men"
        ],
        [
         "Wang/X.Y.Xia",
         "Beach Volleyball",
         "People's Republic of China",
         "Women"
        ],
        [
         "Xue/Wang X.X.",
         "Beach Volleyball",
         "People's Republic of China",
         "Women"
        ],
        [
         "Lidy/Leila",
         "Beach Volleyball",
         "Cuba",
         "Women"
        ],
        [
         "Perusic/Schweiner",
         "Beach Volleyball",
         "Czech Republic",
         "Men"
        ],
        [
         "Hermannova/Slukova",
         "Beach Volleyball",
         "Czech Republic",
         "Women"
        ],
        [
         "Thole J./Wickler",
         "Beach Volleyball",
         "Germany",
         "Men"
        ],
        [
         "Ludwig/Kozuch",
         "Beach Volleyball",
         "Germany",
         "Women"
        ],
        [
         "Sude/Borger",
         "Beach Volleyball",
         "Germany",
         "Women"
        ],
        [
         "Nicolai/Lupo",
         "Beach Volleyball",
         "Italy",
         "Men"
        ],
        [
         "Carambula/Rossi",
         "Beach Volleyball",
         "Italy",
         "Men"
        ],
        [
         "Menegatti/Orsi Toth",
         "Beach Volleyball",
         "Italy",
         "Women"
        ],
        [
         "Gottsu/Shiratori",
         "Beach Volleyball",
         "Japan",
         "Men"
        ],
        [
         "Ishii/Murakami",
         "Beach Volleyball",
         "Japan",
         "Women"
        ],
        [
         "Makokha/Khadambi",
         "Beach Volleyball",
         "Kenya",
         "Women"
        ],
        [
         "Plavins/Tocs",
         "Beach Volleyball",
         "Latvia",
         "Men"
        ],
        [
         "Graudina/Kravcenoka",
         "Beach Volleyball",
         "Latvia",
         "Women"
        ],
        [
         "Gaxiola/Rubio",
         "Beach Volleyball",
         "Mexico",
         "Men"
        ],
        [
         "Abicha/Elgraoui",
         "Beach Volleyball",
         "Morocco",
         "Men"
        ],
        [
         "Brouwer/Meeuwsen",
         "Beach Volleyball",
         "Netherlands",
         "Men"
        ],
        [
         "Keizer/Meppelink",
         "Beach Volleyball",
         "Netherlands",
         "Women"
        ],
        [
         "Stam/Schoon",
         "Beach Volleyball",
         "Netherlands",
         "Women"
        ],
        [
         "Mol A./Sorum C.",
         "Beach Volleyball",
         "Norway",
         "Men"
        ],
        [
         "Bryl/Fijalek",
         "Beach Volleyball",
         "Poland",
         "Men"
        ],
        [
         "Kantor/Losiak",
         "Beach Volleyball",
         "Poland",
         "Men"
        ],
        [
         "Cherif/Ahmed",
         "Beach Volleyball",
         "Qatar",
         "Men"
        ],
        [
         "Krasilnikov/Stoyanovskiy",
         "Beach Volleyball",
         "ROC",
         "Men"
        ],
        [
         "Leshukov/Semenov",
         "Beach Volleyball",
         "ROC",
         "Men"
        ],
        [
         "Makroguzova/Kholomina",
         "Beach Volleyball",
         "ROC",
         "Women"
        ],
        [
         "Herrera/Gavira",
         "Beach Volleyball",
         "Spain",
         "Men"
        ],
        [
         "Liliana/Elsa",
         "Beach Volleyball",
         "Spain",
         "Women"
        ],
        [
         "Heidrich/Gerson",
         "Beach Volleyball",
         "Switzerland",
         "Men"
        ],
        [
         "Huberli/Betschart",
         "Beach Volleyball",
         "Switzerland",
         "Women"
        ],
        [
         "Verge-Depre, A./Heidrich",
         "Beach Volleyball",
         "Switzerland",
         "Women"
        ],
        [
         "Gibb/Bourne",
         "Beach Volleyball",
         "United States of America",
         "Men"
        ],
        [
         "Lucena/Dalhausser",
         "Beach Volleyball",
         "United States of America",
         "Men"
        ],
        [
         "April/Alix",
         "Beach Volleyball",
         "United States of America",
         "Women"
        ],
        [
         "Claes/Sponcil",
         "Beach Volleyball",
         "United States of America",
         "Women"
        ],
        [
         "Australia",
         "Cycling Track",
         "Australia",
         "Men's Madison"
        ],
        [
         "Australia",
         "Cycling Track",
         "Australia",
         "Men's Team Pursuit"
        ],
        [
         "Australia",
         "Cycling Track",
         "Australia",
         "Men's Team Sprint"
        ],
        [
         "Australia",
         "Cycling Track",
         "Australia",
         "Women's Madison"
        ],
        [
         "Australia",
         "Cycling Track",
         "Australia",
         "Women's Team Pursuit"
        ],
        [
         "Austria",
         "Cycling Track",
         "Austria",
         "Men's Madison"
        ],
        [
         "Belgium",
         "Cycling Track",
         "Belgium",
         "Men's Madison"
        ],
        [
         "Belgium",
         "Cycling Track",
         "Belgium",
         "Women's Madison"
        ],
        [
         "Canada",
         "Cycling Track",
         "Canada",
         "Men's Madison"
        ],
        [
         "Canada",
         "Cycling Track",
         "Canada",
         "Men's Team Pursuit"
        ],
        [
         "Canada",
         "Cycling Track",
         "Canada",
         "Women's Madison"
        ],
        [
         "Canada",
         "Cycling Track",
         "Canada",
         "Women's Team Pursuit"
        ],
        [
         "China",
         "Cycling Track",
         "People's Republic of China",
         "Women's Team Sprint"
        ],
        [
         "Denmark",
         "Cycling Track",
         "Denmark",
         "Men's Madison"
        ],
        [
         "Denmark",
         "Cycling Track",
         "Denmark",
         "Men's Team Pursuit"
        ],
        [
         "Denmark",
         "Cycling Track",
         "Denmark",
         "Women's Madison"
        ],
        [
         "France",
         "Cycling Track",
         "France",
         "Men's Madison"
        ],
        [
         "France",
         "Cycling Track",
         "France",
         "Men's Team Sprint"
        ],
        [
         "France",
         "Cycling Track",
         "France",
         "Women's Madison"
        ],
        [
         "France",
         "Cycling Track",
         "France",
         "Women's Team Pursuit"
        ],
        [
         "Germany",
         "Cycling Track",
         "Germany",
         "Men's Madison"
        ],
        [
         "Germany",
         "Cycling Track",
         "Germany",
         "Men's Team Pursuit"
        ],
        [
         "Germany",
         "Cycling Track",
         "Germany",
         "Men's Team Sprint"
        ],
        [
         "Germany",
         "Cycling Track",
         "Germany",
         "Women's Madison"
        ],
        [
         "Germany",
         "Cycling Track",
         "Germany",
         "Women's Team Pursuit"
        ],
        [
         "Germany",
         "Cycling Track",
         "Germany",
         "Women's Team Sprint"
        ],
        [
         "Great Britain",
         "Cycling Track",
         "Great Britain",
         "Men's Madison"
        ],
        [
         "Great Britain",
         "Cycling Track",
         "Great Britain",
         "Men's Team Pursuit"
        ],
        [
         "Great Britain",
         "Cycling Track",
         "Great Britain",
         "Men's Team Sprint"
        ],
        [
         "Great Britain",
         "Cycling Track",
         "Great Britain",
         "Women's Madison"
        ],
        [
         "Great Britain",
         "Cycling Track",
         "Great Britain",
         "Women's Team Pursuit"
        ],
        [
         "Hong Kong, China",
         "Cycling Track",
         "Hong Kong, China",
         "Women's Madison"
        ],
        [
         "Ireland",
         "Cycling Track",
         "Ireland",
         "Men's Madison"
        ],
        [
         "Ireland",
         "Cycling Track",
         "Ireland",
         "Women's Madison"
        ],
        [
         "Italy",
         "Cycling Track",
         "Italy",
         "Men's Madison"
        ],
        [
         "Italy",
         "Cycling Track",
         "Italy",
         "Men's Team Pursuit"
        ],
        [
         "Italy",
         "Cycling Track",
         "Italy",
         "Women's Madison"
        ],
        [
         "Italy",
         "Cycling Track",
         "Italy",
         "Women's Team Pursuit"
        ],
        [
         "Japan",
         "Cycling Track",
         "Japan",
         "Women's Madison"
        ],
        [
         "Lithuania",
         "Cycling Track",
         "Lithuania",
         "Women's Team Sprint"
        ],
        [
         "Mexico",
         "Cycling Track",
         "Mexico",
         "Women's Team Sprint"
        ],
        [
         "Netherlands",
         "Cycling Track",
         "Netherlands",
         "Men's Madison"
        ],
        [
         "Netherlands",
         "Cycling Track",
         "Netherlands",
         "Men's Team Sprint"
        ],
        [
         "Netherlands",
         "Cycling Track",
         "Netherlands",
         "Women's Madison"
        ],
        [
         "Netherlands",
         "Cycling Track",
         "Netherlands",
         "Women's Team Sprint"
        ],
        [
         "New Zealand",
         "Cycling Track",
         "New Zealand",
         "Men's Madison"
        ],
        [
         "New Zealand",
         "Cycling Track",
         "New Zealand",
         "Men's Team Pursuit"
        ],
        [
         "New Zealand",
         "Cycling Track",
         "New Zealand",
         "Men's Team Sprint"
        ],
        [
         "New Zealand",
         "Cycling Track",
         "New Zealand",
         "Women's Madison"
        ],
        [
         "New Zealand",
         "Cycling Track",
         "New Zealand",
         "Women's Team Pursuit"
        ],
        [
         "Poland",
         "Cycling Track",
         "Poland",
         "Men's Madison"
        ],
        [
         "Poland",
         "Cycling Track",
         "Poland",
         "Men's Team Sprint"
        ],
        [
         "Poland",
         "Cycling Track",
         "Poland",
         "Women's Madison"
        ],
        [
         "Poland",
         "Cycling Track",
         "Poland",
         "Women's Team Sprint"
        ],
        [
         "ROC",
         "Cycling Track",
         "ROC",
         "Men's Team Sprint"
        ],
        [
         "ROC",
         "Cycling Track",
         "ROC",
         "Women's Madison"
        ],
        [
         "ROC",
         "Cycling Track",
         "ROC",
         "Women's Team Sprint"
        ],
        [
         "Spain",
         "Cycling Track",
         "Spain",
         "Men's Madison"
        ],
        [
         "Switzerland",
         "Cycling Track",
         "Switzerland",
         "Men's Madison"
        ],
        [
         "Switzerland",
         "Cycling Track",
         "Switzerland",
         "Men's Team Pursuit"
        ],
        [
         "Ukraine",
         "Cycling Track",
         "Ukraine",
         "Women's Team Sprint"
        ],
        [
         "United States",
         "Cycling Track",
         "United States of America",
         "Men's Madison"
        ],
        [
         "United States",
         "Cycling Track",
         "United States of America",
         "Women's Madison"
        ],
        [
         "United States",
         "Cycling Track",
         "United States of America",
         "Women's Team Pursuit"
        ],
        [
         "Canada",
         "Fencing",
         "Canada",
         "Men's Foil Team"
        ],
        [
         "Canada",
         "Fencing",
         "Canada",
         "Women's Foil Team"
        ],
        [
         "China",
         "Fencing",
         "People's Republic of China",
         "Men's �p�e Team"
        ],
        [
         "China",
         "Fencing",
         "People's Republic of China",
         "Women's �p�e Team"
        ],
        [
         "China",
         "Fencing",
         "People's Republic of China",
         "Women's Sabre Team"
        ],
        [
         "Egypt",
         "Fencing",
         "Egypt",
         "Men's Foil Team"
        ],
        [
         "Egypt",
         "Fencing",
         "Egypt",
         "Men's Sabre Team"
        ],
        [
         "Egypt",
         "Fencing",
         "Egypt",
         "Women's Foil Team"
        ],
        [
         "Estonia",
         "Fencing",
         "Estonia",
         "Women's �p�e Team"
        ],
        [
         "France",
         "Fencing",
         "France",
         "Men's �p�e Team"
        ],
        [
         "France",
         "Fencing",
         "France",
         "Men's Foil Team"
        ],
        [
         "France",
         "Fencing",
         "France",
         "Women's Foil Team"
        ],
        [
         "France",
         "Fencing",
         "France",
         "Women's Sabre Team"
        ],
        [
         "Germany",
         "Fencing",
         "Germany",
         "Men's Foil Team"
        ],
        [
         "Germany",
         "Fencing",
         "Germany",
         "Men's Sabre Team"
        ],
        [
         "Hong Kong, China",
         "Fencing",
         "Hong Kong, China",
         "Men's Foil Team"
        ],
        [
         "Hong Kong, China",
         "Fencing",
         "Hong Kong, China",
         "Women's �p�e Team"
        ],
        [
         "Hungary",
         "Fencing",
         "Hungary",
         "Men's Sabre Team"
        ],
        [
         "Hungary",
         "Fencing",
         "Hungary",
         "Women's Foil Team"
        ],
        [
         "Hungary",
         "Fencing",
         "Hungary",
         "Women's Sabre Team"
        ],
        [
         "Islamic Rep. of Iran",
         "Fencing",
         "Islamic Republic of Iran",
         "Men's Sabre Team"
        ],
        [
         "Italy",
         "Fencing",
         "Italy",
         "Men's �p�e Team"
        ],
        [
         "Italy",
         "Fencing",
         "Italy",
         "Men's Foil Team"
        ],
        [
         "Italy",
         "Fencing",
         "Italy",
         "Men's Sabre Team"
        ],
        [
         "Italy",
         "Fencing",
         "Italy",
         "Women's �p�e Team"
        ],
        [
         "Italy",
         "Fencing",
         "Italy",
         "Women's Foil Team"
        ],
        [
         "Italy",
         "Fencing",
         "Italy",
         "Women's Sabre Team"
        ],
        [
         "Japan",
         "Fencing",
         "Japan",
         "Men's �p�e Team"
        ],
        [
         "Japan",
         "Fencing",
         "Japan",
         "Men's Foil Team"
        ],
        [
         "Japan",
         "Fencing",
         "Japan",
         "Men's Sabre Team"
        ],
        [
         "Japan",
         "Fencing",
         "Japan",
         "Women's Foil Team"
        ],
        [
         "Japan",
         "Fencing",
         "Japan",
         "Women's Sabre Team"
        ],
        [
         "Poland",
         "Fencing",
         "Poland",
         "Women's �p�e Team"
        ],
        [
         "Republic of Korea",
         "Fencing",
         "Republic of Korea",
         "Men's �p�e Team"
        ],
        [
         "Republic of Korea",
         "Fencing",
         "Republic of Korea",
         "Men's Sabre Team"
        ],
        [
         "Republic of Korea",
         "Fencing",
         "Republic of Korea",
         "Women's �p�e Team"
        ],
        [
         "Republic of Korea",
         "Fencing",
         "Republic of Korea",
         "Women's Sabre Team"
        ],
        [
         "ROC",
         "Fencing",
         "ROC",
         "Men's �p�e Team"
        ],
        [
         "ROC",
         "Fencing",
         "ROC",
         "Men's Foil Team"
        ],
        [
         "ROC",
         "Fencing",
         "ROC",
         "Men's Sabre Team"
        ],
        [
         "ROC",
         "Fencing",
         "ROC",
         "Women's �p�e Team"
        ],
        [
         "ROC",
         "Fencing",
         "ROC",
         "Women's Foil Team"
        ],
        [
         "ROC",
         "Fencing",
         "ROC",
         "Women's Sabre Team"
        ],
        [
         "Switzerland",
         "Fencing",
         "Switzerland",
         "Men's �p�e Team"
        ],
        [
         "Tunisia",
         "Fencing",
         "Tunisia",
         "Women's Sabre Team"
        ],
        [
         "Ukraine",
         "Fencing",
         "Ukraine",
         "Men's �p�e Team"
        ],
        [
         "United States",
         "Fencing",
         "United States of America",
         "Men's �p�e Team"
        ],
        [
         "United States",
         "Fencing",
         "United States of America",
         "Men's Foil Team"
        ],
        [
         "United States",
         "Fencing",
         "United States of America",
         "Men's Sabre Team"
        ],
        [
         "United States",
         "Fencing",
         "United States of America",
         "Women's �p�e Team"
        ],
        [
         "United States",
         "Fencing",
         "United States of America",
         "Women's Foil Team"
        ],
        [
         "United States",
         "Fencing",
         "United States of America",
         "Women's Sabre Team"
        ],
        [
         "Argentina",
         "Football",
         "Argentina",
         "Men"
        ],
        [
         "Australia",
         "Football",
         "Australia",
         "Men"
        ],
        [
         "Australia",
         "Football",
         "Australia",
         "Women"
        ],
        [
         "Brazil",
         "Football",
         "Brazil",
         "Men"
        ],
        [
         "Brazil",
         "Football",
         "Brazil",
         "Women"
        ],
        [
         "Canada",
         "Football",
         "Canada",
         "Women"
        ],
        [
         "Chile",
         "Football",
         "Chile",
         "Women"
        ],
        [
         "China",
         "Football",
         "People's Republic of China",
         "Women"
        ],
        [
         "C�te d�Ivoire",
         "Football",
         "C�te d'Ivoire",
         "Men"
        ],
        [
         "Egypt",
         "Football",
         "Egypt",
         "Men"
        ],
        [
         "France",
         "Football",
         "France",
         "Men"
        ],
        [
         "Germany",
         "Football",
         "Germany",
         "Men"
        ],
        [
         "Great Britain",
         "Football",
         "Great Britain",
         "Women"
        ],
        [
         "Honduras",
         "Football",
         "Honduras",
         "Men"
        ],
        [
         "Japan",
         "Football",
         "Japan",
         "Men"
        ],
        [
         "Japan",
         "Football",
         "Japan",
         "Women"
        ],
        [
         "Mexico",
         "Football",
         "Mexico",
         "Men"
        ],
        [
         "Netherlands",
         "Football",
         "Netherlands",
         "Women"
        ],
        [
         "New Zealand",
         "Football",
         "New Zealand",
         "Men"
        ],
        [
         "New Zealand",
         "Football",
         "New Zealand",
         "Women"
        ],
        [
         "Republic of Korea",
         "Football",
         "Republic of Korea",
         "Men"
        ],
        [
         "Romania",
         "Football",
         "Romania",
         "Men"
        ],
        [
         "Saudi Arabia",
         "Football",
         "Saudi Arabia",
         "Men"
        ],
        [
         "South Africa",
         "Football",
         "South Africa",
         "Men"
        ],
        [
         "Spain",
         "Football",
         "Spain",
         "Men"
        ],
        [
         "Sweden",
         "Football",
         "Sweden",
         "Women"
        ],
        [
         "United States",
         "Football",
         "United States of America",
         "Women"
        ],
        [
         "Zambia",
         "Football",
         "Zambia",
         "Women"
        ],
        [
         "Angola",
         "Handball",
         "Angola",
         "Women"
        ],
        [
         "Argentina",
         "Handball",
         "Argentina",
         "Men"
        ],
        [
         "Bahrain",
         "Handball",
         "Bahrain",
         "Men"
        ],
        [
         "Brazil",
         "Handball",
         "Brazil",
         "Men"
        ],
        [
         "Brazil",
         "Handball",
         "Brazil",
         "Women"
        ],
        [
         "Denmark",
         "Handball",
         "Denmark",
         "Men"
        ],
        [
         "Egypt",
         "Handball",
         "Egypt",
         "Men"
        ],
        [
         "France",
         "Handball",
         "France",
         "Men"
        ],
        [
         "France",
         "Handball",
         "France",
         "Women"
        ],
        [
         "Germany",
         "Handball",
         "Germany",
         "Men"
        ],
        [
         "Hungary",
         "Handball",
         "Hungary",
         "Women"
        ],
        [
         "Japan",
         "Handball",
         "Japan",
         "Men"
        ],
        [
         "Japan",
         "Handball",
         "Japan",
         "Women"
        ],
        [
         "Montenegro",
         "Handball",
         "Montenegro",
         "Women"
        ],
        [
         "Netherlands",
         "Handball",
         "Netherlands",
         "Women"
        ],
        [
         "Norway",
         "Handball",
         "Norway",
         "Men"
        ],
        [
         "Norway",
         "Handball",
         "Norway",
         "Women"
        ],
        [
         "Portugal",
         "Handball",
         "Portugal",
         "Men"
        ],
        [
         "Republic of Korea",
         "Handball",
         "Republic of Korea",
         "Women"
        ],
        [
         "ROC",
         "Handball",
         "ROC",
         "Women"
        ],
        [
         "Spain",
         "Handball",
         "Spain",
         "Men"
        ],
        [
         "Spain",
         "Handball",
         "Spain",
         "Women"
        ],
        [
         "Sweden",
         "Handball",
         "Sweden",
         "Men"
        ],
        [
         "Sweden",
         "Handball",
         "Sweden",
         "Women"
        ],
        [
         "Argentina",
         "Hockey",
         "Argentina",
         "Men"
        ],
        [
         "Argentina",
         "Hockey",
         "Argentina",
         "Women"
        ],
        [
         "Australia",
         "Hockey",
         "Australia",
         "Men"
        ],
        [
         "Australia",
         "Hockey",
         "Australia",
         "Women"
        ],
        [
         "Belgium",
         "Hockey",
         "Belgium",
         "Men"
        ],
        [
         "Canada",
         "Hockey",
         "Canada",
         "Men"
        ],
        [
         "China",
         "Hockey",
         "People's Republic of China",
         "Women"
        ],
        [
         "Germany",
         "Hockey",
         "Germany",
         "Men"
        ],
        [
         "Germany",
         "Hockey",
         "Germany",
         "Women"
        ],
        [
         "Great Britain",
         "Hockey",
         "Great Britain",
         "Men"
        ],
        [
         "Great Britain",
         "Hockey",
         "Great Britain",
         "Women"
        ],
        [
         "India",
         "Hockey",
         "India",
         "Men"
        ],
        [
         "India",
         "Hockey",
         "India",
         "Women"
        ],
        [
         "Ireland",
         "Hockey",
         "Ireland",
         "Women"
        ],
        [
         "Japan",
         "Hockey",
         "Japan",
         "Men"
        ],
        [
         "Japan",
         "Hockey",
         "Japan",
         "Women"
        ],
        [
         "Netherlands",
         "Hockey",
         "Netherlands",
         "Men"
        ],
        [
         "Netherlands",
         "Hockey",
         "Netherlands",
         "Women"
        ],
        [
         "New Zealand",
         "Hockey",
         "New Zealand",
         "Men"
        ],
        [
         "New Zealand",
         "Hockey",
         "New Zealand",
         "Women"
        ],
        [
         "South Africa",
         "Hockey",
         "South Africa",
         "Men"
        ],
        [
         "South Africa",
         "Hockey",
         "South Africa",
         "Women"
        ],
        [
         "Spain",
         "Hockey",
         "Spain",
         "Men"
        ],
        [
         "Spain",
         "Hockey",
         "Spain",
         "Women"
        ],
        [
         "Australia",
         "Rhythmic Gymnastics",
         "Australia",
         "Group All-Around"
        ],
        [
         "Azerbaijan",
         "Rhythmic Gymnastics",
         "Azerbaijan",
         "Group All-Around"
        ],
        [
         "Belarus",
         "Rhythmic Gymnastics",
         "Belarus",
         "Group All-Around"
        ],
        [
         "Brazil",
         "Rhythmic Gymnastics",
         "Brazil",
         "Group All-Around"
        ],
        [
         "Bulgaria",
         "Rhythmic Gymnastics",
         "Bulgaria",
         "Group All-Around"
        ],
        [
         "China",
         "Rhythmic Gymnastics",
         "People's Republic of China",
         "Group All-Around"
        ],
        [
         "Egypt",
         "Rhythmic Gymnastics",
         "Egypt",
         "Group All-Around"
        ],
        [
         "Israel",
         "Rhythmic Gymnastics",
         "Israel",
         "Group All-Around"
        ],
        [
         "Italy",
         "Rhythmic Gymnastics",
         "Italy",
         "Group All-Around"
        ],
        [
         "Japan",
         "Rhythmic Gymnastics",
         "Japan",
         "Group All-Around"
        ],
        [
         "ROC",
         "Rhythmic Gymnastics",
         "ROC",
         "Group All-Around"
        ],
        [
         "Ukraine",
         "Rhythmic Gymnastics",
         "Ukraine",
         "Group All-Around"
        ],
        [
         "United States",
         "Rhythmic Gymnastics",
         "United States of America",
         "Group All-Around"
        ],
        [
         "Uzbekistan",
         "Rhythmic Gymnastics",
         "Uzbekistan",
         "Group All-Around"
        ],
        [
         "Argentina",
         "Rugby Sevens",
         "Argentina",
         "Men"
        ],
        [
         "Australia",
         "Rugby Sevens",
         "Australia",
         "Men"
        ],
        [
         "Australia",
         "Rugby Sevens",
         "Australia",
         "Women"
        ],
        [
         "Brazil",
         "Rugby Sevens",
         "Brazil",
         "Women"
        ],
        [
         "Canada",
         "Rugby Sevens",
         "Canada",
         "Men"
        ],
        [
         "Canada",
         "Rugby Sevens",
         "Canada",
         "Women"
        ],
        [
         "China",
         "Rugby Sevens",
         "People's Republic of China",
         "Women"
        ],
        [
         "Fiji",
         "Rugby Sevens",
         "Fiji",
         "Men"
        ],
        [
         "Fiji",
         "Rugby Sevens",
         "Fiji",
         "Women"
        ],
        [
         "France",
         "Rugby Sevens",
         "France",
         "Women"
        ],
        [
         "Great Britain",
         "Rugby Sevens",
         "Great Britain",
         "Men"
        ],
        [
         "Great Britain",
         "Rugby Sevens",
         "Great Britain",
         "Women"
        ],
        [
         "Ireland",
         "Rugby Sevens",
         "Ireland",
         "Men"
        ],
        [
         "Japan",
         "Rugby Sevens",
         "Japan",
         "Men"
        ],
        [
         "Japan",
         "Rugby Sevens",
         "Japan",
         "Women"
        ],
        [
         "Kenya",
         "Rugby Sevens",
         "Kenya",
         "Men"
        ],
        [
         "Kenya",
         "Rugby Sevens",
         "Kenya",
         "Women"
        ],
        [
         "New Zealand",
         "Rugby Sevens",
         "New Zealand",
         "Men"
        ],
        [
         "New Zealand",
         "Rugby Sevens",
         "New Zealand",
         "Women"
        ],
        [
         "Republic of Korea",
         "Rugby Sevens",
         "Republic of Korea",
         "Men"
        ],
        [
         "ROC",
         "Rugby Sevens",
         "ROC",
         "Women"
        ],
        [
         "South Africa",
         "Rugby Sevens",
         "South Africa",
         "Men"
        ],
        [
         "United States",
         "Rugby Sevens",
         "United States of America",
         "Men"
        ],
        [
         "United States",
         "Rugby Sevens",
         "United States of America",
         "Women"
        ],
        [
         "Australia",
         "Swimming",
         "Australia",
         "Men's 4 x 100m Freestyle Relay"
        ],
        [
         "Australia",
         "Swimming",
         "Australia",
         "Men's 4 x 100m Medley Relay"
        ],
        [
         "Australia",
         "Swimming",
         "Australia",
         "Men's 4 x 200m Freestyle Relay"
        ],
        [
         "Australia",
         "Swimming",
         "Australia",
         "Mixed 4 x 100m Medley Relay"
        ],
        [
         "Australia",
         "Swimming",
         "Australia",
         "Women's 4 x 100m Freestyle Relay"
        ],
        [
         "Australia",
         "Swimming",
         "Australia",
         "Women's 4 x 100m Medley Relay"
        ],
        [
         "Australia",
         "Swimming",
         "Australia",
         "Women's 4 x 200m Freestyle Relay"
        ],
        [
         "Belarus",
         "Swimming",
         "Belarus",
         "Men's 4 x 100m Medley Relay"
        ],
        [
         "Belarus",
         "Swimming",
         "Belarus",
         "Mixed 4 x 100m Medley Relay"
        ],
        [
         "Belarus",
         "Swimming",
         "Belarus",
         "Women's 4 x 100m Medley Relay"
        ],
        [
         "Brazil",
         "Swimming",
         "Brazil",
         "Men's 4 x 100m Freestyle Relay"
        ],
        [
         "Brazil",
         "Swimming",
         "Brazil",
         "Men's 4 x 100m Medley Relay"
        ],
        [
         "Brazil",
         "Swimming",
         "Brazil",
         "Men's 4 x 200m Freestyle Relay"
        ],
        [
         "Brazil",
         "Swimming",
         "Brazil",
         "Mixed 4 x 100m Medley Relay"
        ],
        [
         "Brazil",
         "Swimming",
         "Brazil",
         "Women's 4 x 100m Freestyle Relay"
        ],
        [
         "Brazil",
         "Swimming",
         "Brazil",
         "Women's 4 x 200m Freestyle Relay"
        ],
        [
         "Canada",
         "Swimming",
         "Canada",
         "Men's 4 x 100m Freestyle Relay"
        ],
        [
         "Canada",
         "Swimming",
         "Canada",
         "Men's 4 x 100m Medley Relay"
        ],
        [
         "Canada",
         "Swimming",
         "Canada",
         "Mixed 4 x 100m Medley Relay"
        ],
        [
         "Canada",
         "Swimming",
         "Canada",
         "Women's 4 x 100m Freestyle Relay"
        ],
        [
         "Canada",
         "Swimming",
         "Canada",
         "Women's 4 x 100m Medley Relay"
        ],
        [
         "Canada",
         "Swimming",
         "Canada",
         "Women's 4 x 200m Freestyle Relay"
        ],
        [
         "China",
         "Swimming",
         "People's Republic of China",
         "Men's 4 x 100m Medley Relay"
        ],
        [
         "China",
         "Swimming",
         "People's Republic of China",
         "Men's 4 x 200m Freestyle Relay"
        ],
        [
         "China",
         "Swimming",
         "People's Republic of China",
         "Mixed 4 x 100m Medley Relay"
        ],
        [
         "China",
         "Swimming",
         "People's Republic of China",
         "Women's 4 x 100m Freestyle Relay"
        ],
        [
         "China",
         "Swimming",
         "People's Republic of China",
         "Women's 4 x 100m Medley Relay"
        ],
        [
         "China",
         "Swimming",
         "People's Republic of China",
         "Women's 4 x 200m Freestyle Relay"
        ],
        [
         "Czech Republic",
         "Swimming",
         "Czech Republic",
         "Women's 4 x 100m Freestyle Relay"
        ],
        [
         "Denmark",
         "Swimming",
         "Denmark",
         "Women's 4 x 100m Freestyle Relay"
        ],
        [
         "Denmark",
         "Swimming",
         "Denmark",
         "Women's 4 x 100m Medley Relay"
        ],
        [
         "France",
         "Swimming",
         "France",
         "Men's 4 x 100m Freestyle Relay"
        ],
        [
         "France",
         "Swimming",
         "France",
         "Men's 4 x 100m Medley Relay"
        ],
        [
         "France",
         "Swimming",
         "France",
         "Men's 4 x 200m Freestyle Relay"
        ],
        [
         "France",
         "Swimming",
         "France",
         "Women's 4 x 100m Freestyle Relay"
        ],
        [
         "France",
         "Swimming",
         "France",
         "Women's 4 x 200m Freestyle Relay"
        ],
        [
         "Germany",
         "Swimming",
         "Germany",
         "Men's 4 x 100m Freestyle Relay"
        ],
        [
         "Germany",
         "Swimming",
         "Germany",
         "Men's 4 x 100m Medley Relay"
        ],
        [
         "Germany",
         "Swimming",
         "Germany",
         "Men's 4 x 200m Freestyle Relay"
        ],
        [
         "Germany",
         "Swimming",
         "Germany",
         "Mixed 4 x 100m Medley Relay"
        ],
        [
         "Germany",
         "Swimming",
         "Germany",
         "Women's 4 x 100m Freestyle Relay"
        ],
        [
         "Germany",
         "Swimming",
         "Germany",
         "Women's 4 x 100m Medley Relay"
        ],
        [
         "Germany",
         "Swimming",
         "Germany",
         "Women's 4 x 200m Freestyle Relay"
        ],
        [
         "Great Britain",
         "Swimming",
         "Great Britain",
         "Men's 4 x 100m Freestyle Relay"
        ],
        [
         "Great Britain",
         "Swimming",
         "Great Britain",
         "Men's 4 x 100m Medley Relay"
        ],
        [
         "Great Britain",
         "Swimming",
         "Great Britain",
         "Men's 4 x 200m Freestyle Relay"
        ],
        [
         "Great Britain",
         "Swimming",
         "Great Britain",
         "Mixed 4 x 100m Medley Relay"
        ],
        [
         "Great Britain",
         "Swimming",
         "Great Britain",
         "Women's 4 x 100m Freestyle Relay"
        ],
        [
         "Great Britain",
         "Swimming",
         "Great Britain",
         "Women's 4 x 100m Medley Relay"
        ],
        [
         "Greece",
         "Swimming",
         "Greece",
         "Men's 4 x 100m Freestyle Relay"
        ],
        [
         "Greece",
         "Swimming",
         "Greece",
         "Men's 4 x 100m Medley Relay"
        ],
        [
         "Greece",
         "Swimming",
         "Greece",
         "Mixed 4 x 100m Medley Relay"
        ],
        [
         "Hong Kong, China",
         "Swimming",
         "Hong Kong, China",
         "Women's 4 x 100m Freestyle Relay"
        ],
        [
         "Hong Kong, China",
         "Swimming",
         "Hong Kong, China",
         "Women's 4 x 100m Medley Relay"
        ],
        [
         "Hong Kong, China",
         "Swimming",
         "Hong Kong, China",
         "Women's 4 x 200m Freestyle Relay"
        ],
        [
         "Hungary",
         "Swimming",
         "Hungary",
         "Men's 4 x 100m Freestyle Relay"
        ],
        [
         "Hungary",
         "Swimming",
         "Hungary",
         "Men's 4 x 100m Medley Relay"
        ],
        [
         "Hungary",
         "Swimming",
         "Hungary",
         "Men's 4 x 200m Freestyle Relay"
        ],
        [
         "Hungary",
         "Swimming",
         "Hungary",
         "Mixed 4 x 100m Medley Relay"
        ],
        [
         "Hungary",
         "Swimming",
         "Hungary",
         "Women's 4 x 200m Freestyle Relay"
        ],
        [
         "Ireland",
         "Swimming",
         "Ireland",
         "Men's 4 x 200m Freestyle Relay"
        ],
        [
         "Israel",
         "Swimming",
         "Israel",
         "Men's 4 x 200m Freestyle Relay"
        ],
        [
         "Israel",
         "Swimming",
         "Israel",
         "Mixed 4 x 100m Medley Relay"
        ],
        [
         "Italy",
         "Swimming",
         "Italy",
         "Men's 4 x 100m Freestyle Relay"
        ],
        [
         "Italy",
         "Swimming",
         "Italy",
         "Men's 4 x 100m Medley Relay"
        ],
        [
         "Italy",
         "Swimming",
         "Italy",
         "Men's 4 x 200m Freestyle Relay"
        ],
        [
         "Italy",
         "Swimming",
         "Italy",
         "Mixed 4 x 100m Medley Relay"
        ],
        [
         "Italy",
         "Swimming",
         "Italy",
         "Women's 4 x 100m Medley Relay"
        ],
        [
         "Italy",
         "Swimming",
         "Italy",
         "Women's 4 x 200m Freestyle Relay"
        ],
        [
         "Japan",
         "Swimming",
         "Japan",
         "Men's 4 x 100m Freestyle Relay"
        ],
        [
         "Japan",
         "Swimming",
         "Japan",
         "Men's 4 x 100m Medley Relay"
        ],
        [
         "Japan",
         "Swimming",
         "Japan",
         "Men's 4 x 200m Freestyle Relay"
        ],
        [
         "Japan",
         "Swimming",
         "Japan",
         "Mixed 4 x 100m Medley Relay"
        ],
        [
         "Japan",
         "Swimming",
         "Japan",
         "Women's 4 x 100m Freestyle Relay"
        ],
        [
         "Japan",
         "Swimming",
         "Japan",
         "Women's 4 x 100m Medley Relay"
        ],
        [
         "Japan",
         "Swimming",
         "Japan",
         "Women's 4 x 200m Freestyle Relay"
        ],
        [
         "Lithuania",
         "Swimming",
         "Lithuania",
         "Men's 4 x 100m Medley Relay"
        ],
        [
         "Netherlands",
         "Swimming",
         "Netherlands",
         "Men's 4 x 100m Freestyle Relay"
        ],
        [
         "Netherlands",
         "Swimming",
         "Netherlands",
         "Mixed 4 x 100m Medley Relay"
        ],
        [
         "Netherlands",
         "Swimming",
         "Netherlands",
         "Women's 4 x 100m Freestyle Relay"
        ],
        [
         "Netherlands",
         "Swimming",
         "Netherlands",
         "Women's 4 x 100m Medley Relay"
        ],
        [
         "New Zealand",
         "Swimming",
         "New Zealand",
         "Women's 4 x 200m Freestyle Relay"
        ],
        [
         "Poland",
         "Swimming",
         "Poland",
         "Men's 4 x 100m Freestyle Relay"
        ],
        [
         "Poland",
         "Swimming",
         "Poland",
         "Men's 4 x 100m Medley Relay"
        ],
        [
         "Poland",
         "Swimming",
         "Poland",
         "Men's 4 x 200m Freestyle Relay"
        ],
        [
         "Poland",
         "Swimming",
         "Poland",
         "Mixed 4 x 100m Medley Relay"
        ],
        [
         "Poland",
         "Swimming",
         "Poland",
         "Women's 4 x 100m Freestyle Relay"
        ],
        [
         "Poland",
         "Swimming",
         "Poland",
         "Women's 4 x 200m Freestyle Relay"
        ],
        [
         "Republic of Korea",
         "Swimming",
         "Republic of Korea",
         "Men's 4 x 200m Freestyle Relay"
        ],
        [
         "Republic of Korea",
         "Swimming",
         "Republic of Korea",
         "Women's 4 x 200m Freestyle Relay"
        ],
        [
         "ROC",
         "Swimming",
         "ROC",
         "Men's 4 x 100m Freestyle Relay"
        ],
        [
         "ROC",
         "Swimming",
         "ROC",
         "Men's 4 x 100m Medley Relay"
        ],
        [
         "ROC",
         "Swimming",
         "ROC",
         "Men's 4 x 200m Freestyle Relay"
        ],
        [
         "ROC",
         "Swimming",
         "ROC",
         "Mixed 4 x 100m Medley Relay"
        ],
        [
         "ROC",
         "Swimming",
         "ROC",
         "Women's 4 x 100m Freestyle Relay"
        ],
        [
         "ROC",
         "Swimming",
         "ROC",
         "Women's 4 x 100m Medley Relay"
        ],
        [
         "ROC",
         "Swimming",
         "ROC",
         "Women's 4 x 200m Freestyle Relay"
        ],
        [
         "Serbia",
         "Swimming",
         "Serbia",
         "Men's 4 x 100m Freestyle Relay"
        ],
        [
         "South Africa",
         "Swimming",
         "South Africa",
         "Women's 4 x 100m Medley Relay"
        ],
        [
         "South Africa",
         "Swimming",
         "South Africa",
         "Women's 4 x 200m Freestyle Relay"
        ],
        [
         "Spain",
         "Swimming",
         "Spain",
         "Women's 4 x 100m Medley Relay"
        ],
        [
         "Sweden",
         "Swimming",
         "Sweden",
         "Women's 4 x 100m Freestyle Relay"
        ],
        [
         "Sweden",
         "Swimming",
         "Sweden",
         "Women's 4 x 100m Medley Relay"
        ],
        [
         "Switzerland",
         "Swimming",
         "Switzerland",
         "Men's 4 x 100m Freestyle Relay"
        ],
        [
         "Switzerland",
         "Swimming",
         "Switzerland",
         "Men's 4 x 200m Freestyle Relay"
        ],
        [
         "Turkey",
         "Swimming",
         "Turkey",
         "Women's 4 x 200m Freestyle Relay"
        ],
        [
         "United States",
         "Swimming",
         "United States of America",
         "Men's 4 x 100m Freestyle Relay"
        ],
        [
         "United States",
         "Swimming",
         "United States of America",
         "Men's 4 x 100m Medley Relay"
        ],
        [
         "United States",
         "Swimming",
         "United States of America",
         "Men's 4 x 200m Freestyle Relay"
        ],
        [
         "United States",
         "Swimming",
         "United States of America",
         "Mixed 4 x 100m Medley Relay"
        ],
        [
         "United States",
         "Swimming",
         "United States of America",
         "Women's 4 x 100m Freestyle Relay"
        ],
        [
         "United States",
         "Swimming",
         "United States of America",
         "Women's 4 x 100m Medley Relay"
        ],
        [
         "United States",
         "Swimming",
         "United States of America",
         "Women's 4 x 200m Freestyle Relay"
        ],
        [
         "Australia",
         "Table Tennis",
         "Australia",
         "Men's Team"
        ],
        [
         "HU Heming / TAPPER Melissa",
         "Table Tennis",
         "Australia",
         "Mixed Doubles"
        ],
        [
         "Australia",
         "Table Tennis",
         "Australia",
         "Women's Team"
        ],
        [
         "FEGERL Stefan / POLCANOVA Sofia",
         "Table Tennis",
         "Austria",
         "Mixed Doubles"
        ],
        [
         "Austria",
         "Table Tennis",
         "Austria",
         "Women's Team"
        ],
        [
         "Brazil",
         "Table Tennis",
         "Brazil",
         "Men's Team"
        ],
        [
         "Brazil",
         "Table Tennis",
         "Brazil",
         "Women's Team"
        ],
        [
         "WANG Zhen / ZHANG Mo",
         "Table Tennis",
         "Canada",
         "Mixed Doubles"
        ],
        [
         "China",
         "Table Tennis",
         "People's Republic of China",
         "Men's Team"
        ],
        [
         "XU Xin / LIU Shiwen",
         "Table Tennis",
         "People's Republic of China",
         "Mixed Doubles"
        ],
        [
         "China",
         "Table Tennis",
         "People's Republic of China",
         "Women's Team"
        ],
        [
         "Chinese Taipei",
         "Table Tennis",
         "Chinese Taipei",
         "Men's Team"
        ],
        [
         "LIN Yun Ju / CHENG I Ching",
         "Table Tennis",
         "Chinese Taipei",
         "Mixed Doubles"
        ],
        [
         "Chinese Taipei",
         "Table Tennis",
         "Chinese Taipei",
         "Women's Team"
        ],
        [
         "Croatia",
         "Table Tennis",
         "Croatia",
         "Men's Team"
        ],
        [
         "CAMPOS Jorge / FONSECA Daniela",
         "Table Tennis",
         "Cuba",
         "Mixed Doubles"
        ],
        [
         "Egypt",
         "Table Tennis",
         "Egypt",
         "Men's Team"
        ],
        [
         "ASSAR Omar / MESHREF Dina",
         "Table Tennis",
         "Egypt",
         "Mixed Doubles"
        ],
        [
         "Egypt",
         "Table Tennis",
         "Egypt",
         "Women's Team"
        ],
        [
         "France",
         "Table Tennis",
         "France",
         "Men's Team"
        ],
        [
         "LEBESSON Emmanuel / YUAN Jia Nan",
         "Table Tennis",
         "France",
         "Mixed Doubles"
        ],
        [
         "France",
         "Table Tennis",
         "France",
         "Women's Team"
        ],
        [
         "Germany",
         "Table Tennis",
         "Germany",
         "Men's Team"
        ],
        [
         "FRANZISKA Patrick / SOLJA Petrissa",
         "Table Tennis",
         "Germany",
         "Mixed Doubles"
        ],
        [
         "Germany",
         "Table Tennis",
         "Germany",
         "Women's Team"
        ],
        [
         "Hong Kong, China",
         "Table Tennis",
         "Hong Kong, China",
         "Men's Team"
        ],
        [
         "WONG Chun Ting / DOO Hoi Kem",
         "Table Tennis",
         "Hong Kong, China",
         "Mixed Doubles"
        ],
        [
         "Hong Kong, China",
         "Table Tennis",
         "Hong Kong, China",
         "Women's Team"
        ],
        [
         "SZUDI Adam / PERGEL Szandra",
         "Table Tennis",
         "Hungary",
         "Mixed Doubles"
        ],
        [
         "Hungary",
         "Table Tennis",
         "Hungary",
         "Women's Team"
        ],
        [
         "ACHANTA Kamal / BATRA Manika",
         "Table Tennis",
         "India",
         "Mixed Doubles"
        ],
        [
         "Japan",
         "Table Tennis",
         "Japan",
         "Men's Team"
        ],
        [
         "MIZUTANI Jun / ITO Mima",
         "Table Tennis",
         "Japan",
         "Mixed Doubles"
        ],
        [
         "Japan",
         "Table Tennis",
         "Japan",
         "Women's Team"
        ],
        [
         "Poland",
         "Table Tennis",
         "Poland",
         "Women's Team"
        ],
        [
         "Portugal",
         "Table Tennis",
         "Portugal",
         "Men's Team"
        ],
        [
         "Republic of Korea",
         "Table Tennis",
         "Republic of Korea",
         "Men's Team"
        ],
        [
         "LEE Sangsu / JEON Jihee",
         "Table Tennis",
         "Republic of Korea",
         "Mixed Doubles"
        ],
        [
         "Republic of Korea",
         "Table Tennis",
         "Republic of Korea",
         "Women's Team"
        ],
        [
         "IONESCU Ovidiu / SZOCS Bernadette",
         "Table Tennis",
         "Romania",
         "Mixed Doubles"
        ],
        [
         "Romania",
         "Table Tennis",
         "Romania",
         "Women's Team"
        ],
        [
         "Serbia",
         "Table Tennis",
         "Serbia",
         "Men's Team"
        ],
        [
         "Singapore",
         "Table Tennis",
         "Singapore",
         "Women's Team"
        ],
        [
         "PISTEJ Lubomir / BALAZOVA Barbora",
         "Table Tennis",
         "Slovakia",
         "Mixed Doubles"
        ],
        [
         "Slovenia",
         "Table Tennis",
         "Slovenia",
         "Men's Team"
        ],
        [
         "Sweden",
         "Table Tennis",
         "Sweden",
         "Men's Team"
        ],
        [
         "United States",
         "Table Tennis",
         "United States of America",
         "Men's Team"
        ],
        [
         "United States",
         "Table Tennis",
         "United States of America",
         "Women's Team"
        ],
        [
         "Australia",
         "Triathlon",
         "Australia",
         "Mixed Relay"
        ],
        [
         "Austria",
         "Triathlon",
         "Austria",
         "Mixed Relay"
        ],
        [
         "Belgium",
         "Triathlon",
         "Belgium",
         "Mixed Relay"
        ],
        [
         "Canada",
         "Triathlon",
         "Canada",
         "Mixed Relay"
        ],
        [
         "France",
         "Triathlon",
         "France",
         "Mixed Relay"
        ],
        [
         "Germany",
         "Triathlon",
         "Germany",
         "Mixed Relay"
        ],
        [
         "Great Britain",
         "Triathlon",
         "Great Britain",
         "Mixed Relay"
        ],
        [
         "Hungary",
         "Triathlon",
         "Hungary",
         "Mixed Relay"
        ],
        [
         "Italy",
         "Triathlon",
         "Italy",
         "Mixed Relay"
        ],
        [
         "Japan",
         "Triathlon",
         "Japan",
         "Mixed Relay"
        ],
        [
         "Mexico",
         "Triathlon",
         "Mexico",
         "Mixed Relay"
        ],
        [
         "Netherlands",
         "Triathlon",
         "Netherlands",
         "Mixed Relay"
        ],
        [
         "New Zealand",
         "Triathlon",
         "New Zealand",
         "Mixed Relay"
        ],
        [
         "ROC",
         "Triathlon",
         "ROC",
         "Mixed Relay"
        ],
        [
         "South Africa",
         "Triathlon",
         "South Africa",
         "Mixed Relay"
        ],
        [
         "Spain",
         "Triathlon",
         "Spain",
         "Mixed Relay"
        ],
        [
         "Switzerland",
         "Triathlon",
         "Switzerland",
         "Mixed Relay"
        ],
        [
         "United States",
         "Triathlon",
         "United States of America",
         "Mixed Relay"
        ],
        [
         "Argentina",
         "Volleyball",
         "Argentina",
         "Men"
        ],
        [
         "Argentina",
         "Volleyball",
         "Argentina",
         "Women"
        ],
        [
         "Brazil",
         "Volleyball",
         "Brazil",
         "Men"
        ],
        [
         "Brazil",
         "Volleyball",
         "Brazil",
         "Women"
        ],
        [
         "Canada",
         "Volleyball",
         "Canada",
         "Men"
        ],
        [
         "China",
         "Volleyball",
         "People's Republic of China",
         "Women"
        ],
        [
         "Dominican Rep.",
         "Volleyball",
         "Dominican Republic",
         "Women"
        ],
        [
         "France",
         "Volleyball",
         "France",
         "Men"
        ],
        [
         "Islamic Rep. of Iran",
         "Volleyball",
         "Islamic Republic of Iran",
         "Men"
        ],
        [
         "Italy",
         "Volleyball",
         "Italy",
         "Men"
        ],
        [
         "Italy",
         "Volleyball",
         "Italy",
         "Women"
        ],
        [
         "Japan",
         "Volleyball",
         "Japan",
         "Men"
        ],
        [
         "Japan",
         "Volleyball",
         "Japan",
         "Women"
        ],
        [
         "Kenya",
         "Volleyball",
         "Kenya",
         "Women"
        ],
        [
         "Poland",
         "Volleyball",
         "Poland",
         "Men"
        ],
        [
         "Republic of Korea",
         "Volleyball",
         "Republic of Korea",
         "Women"
        ],
        [
         "ROC",
         "Volleyball",
         "ROC",
         "Men"
        ],
        [
         "ROC",
         "Volleyball",
         "ROC",
         "Women"
        ],
        [
         "Serbia",
         "Volleyball",
         "Serbia",
         "Women"
        ],
        [
         "Tunisia",
         "Volleyball",
         "Tunisia",
         "Men"
        ],
        [
         "Turkey",
         "Volleyball",
         "Turkey",
         "Women"
        ],
        [
         "United States",
         "Volleyball",
         "United States of America",
         "Men"
        ],
        [
         "United States",
         "Volleyball",
         "United States of America",
         "Women"
        ],
        [
         "Venezuela",
         "Volleyball",
         "Venezuela",
         "Men"
        ],
        [
         "Australia",
         "Water Polo",
         "Australia",
         "Men"
        ],
        [
         "Australia",
         "Water Polo",
         "Australia",
         "Women"
        ],
        [
         "Canada",
         "Water Polo",
         "Canada",
         "Women"
        ],
        [
         "China",
         "Water Polo",
         "People's Republic of China",
         "Women"
        ],
        [
         "Croatia",
         "Water Polo",
         "Croatia",
         "Men"
        ],
        [
         "Greece",
         "Water Polo",
         "Greece",
         "Men"
        ],
        [
         "Hungary",
         "Water Polo",
         "Hungary",
         "Men"
        ],
        [
         "Hungary",
         "Water Polo",
         "Hungary",
         "Women"
        ],
        [
         "Italy",
         "Water Polo",
         "Italy",
         "Men"
        ],
        [
         "Japan",
         "Water Polo",
         "Japan",
         "Men"
        ],
        [
         "Japan",
         "Water Polo",
         "Japan",
         "Women"
        ],
        [
         "Kazakhstan",
         "Water Polo",
         "Kazakhstan",
         "Men"
        ],
        [
         "Montenegro",
         "Water Polo",
         "Montenegro",
         "Men"
        ],
        [
         "Netherlands",
         "Water Polo",
         "Netherlands",
         "Women"
        ],
        [
         "ROC",
         "Water Polo",
         "ROC",
         "Women"
        ],
        [
         "Serbia",
         "Water Polo",
         "Serbia",
         "Men"
        ],
        [
         "South Africa",
         "Water Polo",
         "South Africa",
         "Men"
        ],
        [
         "South Africa",
         "Water Polo",
         "South Africa",
         "Women"
        ],
        [
         "Spain",
         "Water Polo",
         "Spain",
         "Men"
        ],
        [
         "Spain",
         "Water Polo",
         "Spain",
         "Women"
        ],
        [
         "United States",
         "Water Polo",
         "United States of America",
         "Men"
        ],
        [
         "United States",
         "Water Polo",
         "United States of America",
         "Women"
        ]
       ],
       "datasetInfos": [],
       "dbfsResultPath": null,
       "isJsonSchema": true,
       "metadata": {},
       "overflow": false,
       "plotOptions": {
        "customPlotOptions": {},
        "displayType": "table",
        "pivotAggregation": null,
        "pivotColumns": null,
        "xColumns": null,
        "yColumns": null
       },
       "removedWidgets": [],
       "schema": [
        {
         "metadata": "{}",
         "name": "TeamName",
         "type": "\"string\""
        },
        {
         "metadata": "{}",
         "name": "Discipline",
         "type": "\"string\""
        },
        {
         "metadata": "{}",
         "name": "Country",
         "type": "\"string\""
        },
        {
         "metadata": "{}",
         "name": "Event",
         "type": "\"string\""
        }
       ],
       "type": "table"
      }
     },
     "output_type": "display_data"
    }
   ],
   "source": [
    "teams.display()"
   ]
  },
  {
   "cell_type": "code",
   "execution_count": 0,
   "metadata": {
    "application/vnd.databricks.v1+cell": {
     "cellMetadata": {
      "byteLimit": 2048000,
      "rowLimit": 10000
     },
     "inputWidgets": {},
     "nuid": "ee57dc27-6328-4c77-9c0b-fed86e5444e9",
     "showTitle": false,
     "tableResultSettingsMap": {},
     "title": ""
    }
   },
   "outputs": [
    {
     "data": {
      "text/html": [
       "<style scoped>\n",
       "  .table-result-container {\n",
       "    max-height: 300px;\n",
       "    overflow: auto;\n",
       "  }\n",
       "  table, th, td {\n",
       "    border: 1px solid black;\n",
       "    border-collapse: collapse;\n",
       "  }\n",
       "  th, td {\n",
       "    padding: 5px;\n",
       "  }\n",
       "  th {\n",
       "    text-align: left;\n",
       "  }\n",
       "</style><div class='table-result-container'><table class='table-result'><thead style='background-color: white'><tr><th>TeamCountry</th><th>Gold</th></tr></thead><tbody><tr><td>United States of America</td><td>39</td></tr><tr><td>People's Republic of China</td><td>38</td></tr><tr><td>Japan</td><td>27</td></tr><tr><td>Great Britain</td><td>22</td></tr><tr><td>ROC</td><td>20</td></tr><tr><td>Australia</td><td>17</td></tr><tr><td>Netherlands</td><td>10</td></tr><tr><td>Italy</td><td>10</td></tr><tr><td>France</td><td>10</td></tr><tr><td>Germany</td><td>10</td></tr><tr><td>Canada</td><td>7</td></tr><tr><td>Brazil</td><td>7</td></tr><tr><td>New Zealand</td><td>7</td></tr><tr><td>Cuba</td><td>7</td></tr><tr><td>Hungary</td><td>6</td></tr><tr><td>Republic of Korea</td><td>6</td></tr><tr><td>Czech Republic</td><td>4</td></tr><tr><td>Norway</td><td>4</td></tr><tr><td>Jamaica</td><td>4</td></tr><tr><td>Kenya</td><td>4</td></tr><tr><td>Poland</td><td>4</td></tr><tr><td>Spain</td><td>3</td></tr><tr><td>Serbia</td><td>3</td></tr><tr><td>Belgium</td><td>3</td></tr><tr><td>Sweden</td><td>3</td></tr><tr><td>Slovenia</td><td>3</td></tr><tr><td>Switzerland</td><td>3</td></tr><tr><td>Bulgaria</td><td>3</td></tr><tr><td>Croatia</td><td>3</td></tr><tr><td>Uzbekistan</td><td>3</td></tr><tr><td>Islamic Republic of Iran</td><td>3</td></tr><tr><td>Denmark</td><td>3</td></tr><tr><td>Ecuador</td><td>2</td></tr><tr><td>Uganda</td><td>2</td></tr><tr><td>Bahamas</td><td>2</td></tr><tr><td>Qatar</td><td>2</td></tr><tr><td>Kosovo</td><td>2</td></tr><tr><td>Georgia</td><td>2</td></tr><tr><td>Ireland</td><td>2</td></tr><tr><td>Greece</td><td>2</td></tr><tr><td>Israel</td><td>2</td></tr><tr><td>Turkey</td><td>2</td></tr><tr><td>Chinese Taipei</td><td>2</td></tr><tr><td>Ukraine</td><td>1</td></tr><tr><td>Thailand</td><td>1</td></tr><tr><td>Belarus</td><td>1</td></tr><tr><td>India</td><td>1</td></tr><tr><td>Austria</td><td>1</td></tr><tr><td>Puerto Rico</td><td>1</td></tr><tr><td>Hong Kong, China</td><td>1</td></tr><tr><td>Latvia</td><td>1</td></tr><tr><td>South Africa</td><td>1</td></tr><tr><td>Indonesia</td><td>1</td></tr><tr><td>Slovakia</td><td>1</td></tr><tr><td>Ethiopia</td><td>1</td></tr><tr><td>Venezuela</td><td>1</td></tr><tr><td>Tunisia</td><td>1</td></tr><tr><td>Philippines</td><td>1</td></tr><tr><td>Estonia</td><td>1</td></tr><tr><td>Portugal</td><td>1</td></tr><tr><td>Bermuda</td><td>1</td></tr><tr><td>Egypt</td><td>1</td></tr><tr><td>Romania</td><td>1</td></tr><tr><td>Fiji</td><td>1</td></tr><tr><td>Morocco</td><td>1</td></tr><tr><td>Azerbaijan</td><td>0</td></tr><tr><td>Dominican Republic</td><td>0</td></tr><tr><td>Namibia</td><td>0</td></tr><tr><td>Colombia</td><td>0</td></tr><tr><td>Finland</td><td>0</td></tr><tr><td>Armenia</td><td>0</td></tr><tr><td>Argentina</td><td>0</td></tr><tr><td>Kyrgyzstan</td><td>0</td></tr><tr><td>San Marino</td><td>0</td></tr><tr><td>Jordan</td><td>0</td></tr><tr><td>Mongolia</td><td>0</td></tr><tr><td>Bahrain</td><td>0</td></tr><tr><td>Kazakhstan</td><td>0</td></tr><tr><td>Saudi Arabia</td><td>0</td></tr><tr><td>North Macedonia</td><td>0</td></tr><tr><td>Lithuania</td><td>0</td></tr><tr><td>Burkina Faso</td><td>0</td></tr><tr><td>Grenada</td><td>0</td></tr><tr><td>Turkmenistan</td><td>0</td></tr><tr><td>Mexico</td><td>0</td></tr><tr><td>Malaysia</td><td>0</td></tr><tr><td>Côte d'Ivoire</td><td>0</td></tr><tr><td>Ghana</td><td>0</td></tr><tr><td>Botswana</td><td>0</td></tr><tr><td>Nigeria</td><td>0</td></tr><tr><td>Kuwait</td><td>0</td></tr><tr><td>Republic of Moldova</td><td>0</td></tr><tr><td>Syrian Arab Republic</td><td>0</td></tr></tbody></table></div>"
      ]
     },
     "metadata": {
      "application/vnd.databricks.v1+output": {
       "addedWidgets": {},
       "aggData": [],
       "aggError": "",
       "aggOverflow": false,
       "aggSchema": [],
       "aggSeriesLimitReached": false,
       "aggType": "",
       "arguments": {},
       "columnCustomDisplayInfos": {},
       "data": [
        [
         "United States of America",
         39
        ],
        [
         "People's Republic of China",
         38
        ],
        [
         "Japan",
         27
        ],
        [
         "Great Britain",
         22
        ],
        [
         "ROC",
         20
        ],
        [
         "Australia",
         17
        ],
        [
         "Netherlands",
         10
        ],
        [
         "Italy",
         10
        ],
        [
         "France",
         10
        ],
        [
         "Germany",
         10
        ],
        [
         "Canada",
         7
        ],
        [
         "Brazil",
         7
        ],
        [
         "New Zealand",
         7
        ],
        [
         "Cuba",
         7
        ],
        [
         "Hungary",
         6
        ],
        [
         "Republic of Korea",
         6
        ],
        [
         "Czech Republic",
         4
        ],
        [
         "Norway",
         4
        ],
        [
         "Jamaica",
         4
        ],
        [
         "Kenya",
         4
        ],
        [
         "Poland",
         4
        ],
        [
         "Spain",
         3
        ],
        [
         "Serbia",
         3
        ],
        [
         "Belgium",
         3
        ],
        [
         "Sweden",
         3
        ],
        [
         "Slovenia",
         3
        ],
        [
         "Switzerland",
         3
        ],
        [
         "Bulgaria",
         3
        ],
        [
         "Croatia",
         3
        ],
        [
         "Uzbekistan",
         3
        ],
        [
         "Islamic Republic of Iran",
         3
        ],
        [
         "Denmark",
         3
        ],
        [
         "Ecuador",
         2
        ],
        [
         "Uganda",
         2
        ],
        [
         "Bahamas",
         2
        ],
        [
         "Qatar",
         2
        ],
        [
         "Kosovo",
         2
        ],
        [
         "Georgia",
         2
        ],
        [
         "Ireland",
         2
        ],
        [
         "Greece",
         2
        ],
        [
         "Israel",
         2
        ],
        [
         "Turkey",
         2
        ],
        [
         "Chinese Taipei",
         2
        ],
        [
         "Ukraine",
         1
        ],
        [
         "Thailand",
         1
        ],
        [
         "Belarus",
         1
        ],
        [
         "India",
         1
        ],
        [
         "Austria",
         1
        ],
        [
         "Puerto Rico",
         1
        ],
        [
         "Hong Kong, China",
         1
        ],
        [
         "Latvia",
         1
        ],
        [
         "South Africa",
         1
        ],
        [
         "Indonesia",
         1
        ],
        [
         "Slovakia",
         1
        ],
        [
         "Ethiopia",
         1
        ],
        [
         "Venezuela",
         1
        ],
        [
         "Tunisia",
         1
        ],
        [
         "Philippines",
         1
        ],
        [
         "Estonia",
         1
        ],
        [
         "Portugal",
         1
        ],
        [
         "Bermuda",
         1
        ],
        [
         "Egypt",
         1
        ],
        [
         "Romania",
         1
        ],
        [
         "Fiji",
         1
        ],
        [
         "Morocco",
         1
        ],
        [
         "Azerbaijan",
         0
        ],
        [
         "Dominican Republic",
         0
        ],
        [
         "Namibia",
         0
        ],
        [
         "Colombia",
         0
        ],
        [
         "Finland",
         0
        ],
        [
         "Armenia",
         0
        ],
        [
         "Argentina",
         0
        ],
        [
         "Kyrgyzstan",
         0
        ],
        [
         "San Marino",
         0
        ],
        [
         "Jordan",
         0
        ],
        [
         "Mongolia",
         0
        ],
        [
         "Bahrain",
         0
        ],
        [
         "Kazakhstan",
         0
        ],
        [
         "Saudi Arabia",
         0
        ],
        [
         "North Macedonia",
         0
        ],
        [
         "Lithuania",
         0
        ],
        [
         "Burkina Faso",
         0
        ],
        [
         "Grenada",
         0
        ],
        [
         "Turkmenistan",
         0
        ],
        [
         "Mexico",
         0
        ],
        [
         "Malaysia",
         0
        ],
        [
         "Côte d'Ivoire",
         0
        ],
        [
         "Ghana",
         0
        ],
        [
         "Botswana",
         0
        ],
        [
         "Nigeria",
         0
        ],
        [
         "Kuwait",
         0
        ],
        [
         "Republic of Moldova",
         0
        ],
        [
         "Syrian Arab Republic",
         0
        ]
       ],
       "datasetInfos": [],
       "dbfsResultPath": null,
       "isJsonSchema": true,
       "metadata": {},
       "overflow": false,
       "plotOptions": {
        "customPlotOptions": {},
        "displayType": "table",
        "pivotAggregation": null,
        "pivotColumns": null,
        "xColumns": null,
        "yColumns": null
       },
       "removedWidgets": [],
       "schema": [
        {
         "metadata": "{}",
         "name": "TeamCountry",
         "type": "\"string\""
        },
        {
         "metadata": "{}",
         "name": "Gold",
         "type": "\"integer\""
        }
       ],
       "type": "table"
      }
     },
     "output_type": "display_data"
    }
   ],
   "source": [
    "#Find countries with highest gold medals\n",
    "top_gold_medals_country = medals.select(\"TeamCountry\", \"Gold\").orderBy((\"Gold\"), ascending = False ).display(2)"
   ]
  },
  {
   "cell_type": "code",
   "execution_count": 0,
   "metadata": {
    "application/vnd.databricks.v1+cell": {
     "cellMetadata": {
      "byteLimit": 2048000,
      "rowLimit": 10000
     },
     "inputWidgets": {},
     "nuid": "27bf23eb-cf5a-4c4f-8994-63d811f2b798",
     "showTitle": false,
     "tableResultSettingsMap": {},
     "title": ""
    }
   },
   "outputs": [],
   "source": [
    "#Using repartition to create how many partitions of data that we want (Map, Reduce concept), override so that we can perform this operation multiple times\n",
    "athletes.repartition(1).write.mode(\"overwrite\").option(\"header\", \"true\").csv(\"/mnt/tokyo-olympic/transformed data/athletes\")"
   ]
  },
  {
   "cell_type": "code",
   "execution_count": 0,
   "metadata": {
    "application/vnd.databricks.v1+cell": {
     "cellMetadata": {
      "byteLimit": 2048000,
      "rowLimit": 10000
     },
     "inputWidgets": {},
     "nuid": "3fc1152a-5aa1-43be-8629-85ed00641158",
     "showTitle": false,
     "tableResultSettingsMap": {},
     "title": ""
    }
   },
   "outputs": [],
   "source": [
    "#For all\n",
    "coaches.repartition(1).write.mode(\"overwrite\").option(\"header\", \"true\").csv(\"/mnt/tokyo-olympic/transformed data/coaches\")\n",
    "entriesGender.repartition(1).write.mode(\"overwrite\").option(\"header\", \"true\").csv(\"/mnt/tokyo-olympic/transformed data/entriesGender\")\n",
    "medals.repartition(1).write.mode(\"overwrite\").option(\"header\", \"true\").csv(\"/mnt/tokyo-olympic/transformed data/medals\")\n",
    "teams.repartition(1).write.mode(\"overwrite\").option(\"header\", \"true\").csv(\"/mnt/tokyo-olympic/transformed data/teams\")\n",
    "\n"
   ]
  }
 ],
 "metadata": {
  "application/vnd.databricks.v1+notebook": {
   "computePreferences": null,
   "dashboards": [],
   "environmentMetadata": {
    "base_environment": "",
    "environment_version": "2"
   },
   "language": "python",
   "notebookMetadata": {
    "mostRecentlyExecutedCommandWithImplicitDF": {
     "commandId": -1,
     "dataframes": [
      "_sqldf"
     ]
    },
    "pythonIndentUnit": 4
   },
   "notebookName": "Tokyo Olympic Transformation",
   "widgets": {}
  },
  "language_info": {
   "name": "python"
  }
 },
 "nbformat": 4,
 "nbformat_minor": 0
}
